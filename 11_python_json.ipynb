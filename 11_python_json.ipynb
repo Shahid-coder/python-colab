{
  "nbformat": 4,
  "nbformat_minor": 0,
  "metadata": {
    "colab": {
      "name": "11_python_json.ipynb",
      "provenance": [],
      "collapsed_sections": [],
      "authorship_tag": "ABX9TyNdVQbYN7hbhYGTurvspesW",
      "include_colab_link": true
    },
    "kernelspec": {
      "name": "python3",
      "display_name": "Python 3"
    },
    "language_info": {
      "name": "python"
    }
  },
  "cells": [
    {
      "cell_type": "markdown",
      "metadata": {
        "id": "view-in-github",
        "colab_type": "text"
      },
      "source": [
        "<a href=\"https://colab.research.google.com/github/Shahid-coder/python-colab/blob/main/11_python_json.ipynb\" target=\"_parent\"><img src=\"https://colab.research.google.com/assets/colab-badge.svg\" alt=\"Open In Colab\"/></a>"
      ]
    },
    {
      "cell_type": "markdown",
      "metadata": {
        "id": "jkCxkjP19CIv"
      },
      "source": [
        "## Python JSON"
      ]
    },
    {
      "cell_type": "markdown",
      "metadata": {
        "id": "2sIjRVq-9H4w"
      },
      "source": [
        "JSON is a syntax for storing and exchanging data.\n",
        "\n",
        "JSON is text, written with JavaScript object notation."
      ]
    },
    {
      "cell_type": "markdown",
      "metadata": {
        "id": "Tdv98L669LFv"
      },
      "source": [
        "## JSON in Python\n",
        "Python has a built-in package called json, which can be used to work with JSON data."
      ]
    },
    {
      "cell_type": "code",
      "metadata": {
        "id": "DxrgaJMf86VS"
      },
      "source": [
        "import json"
      ],
      "execution_count": null,
      "outputs": []
    },
    {
      "cell_type": "markdown",
      "metadata": {
        "id": "Ez_syZmZ9eJZ"
      },
      "source": [
        "## Parse JSON - Convert from JSON to Python\n",
        "If you have a JSON string, you can parse it by using the `json.loads()` method."
      ]
    },
    {
      "cell_type": "code",
      "metadata": {
        "colab": {
          "base_uri": "https://localhost:8080/"
        },
        "id": "AU2sC9EX9P9c",
        "outputId": "dbf04fd8-5bf1-4027-db48-4c2dbed390c0"
      },
      "source": [
        "import json\n",
        "\n",
        "# some JSON:\n",
        "x =  '{ \"name\":\"John\", \"age\":30, \"city\":\"New York\"}'\n",
        "\n",
        "# parse x:\n",
        "y = json.loads(x)\n",
        "\n",
        "# the result is a Python dictionary:\n",
        "print(y[\"age\"])\n"
      ],
      "execution_count": null,
      "outputs": [
        {
          "output_type": "stream",
          "text": [
            "30\n"
          ],
          "name": "stdout"
        }
      ]
    },
    {
      "cell_type": "markdown",
      "metadata": {
        "id": "ysKbWjyC9sGq"
      },
      "source": [
        "## Convert from Python to JSON\n",
        "If you have a Python object, you can convert it into a JSON string by using the json.dumps() method."
      ]
    },
    {
      "cell_type": "code",
      "metadata": {
        "colab": {
          "base_uri": "https://localhost:8080/"
        },
        "id": "5KGjrGjv9mCa",
        "outputId": "29933a48-0460-4c9d-e964-cf213ddd69e4"
      },
      "source": [
        "import json\n",
        "\n",
        "# a Python object (dict):\n",
        "x = {\n",
        "  \"name\": \"John\",\n",
        "  \"age\": 30,\n",
        "  \"city\": \"New York\"\n",
        "}\n",
        "\n",
        "# convert into JSON:\n",
        "y = json.dumps(x)\n",
        "\n",
        "# the result is a JSON string:\n",
        "print(y)"
      ],
      "execution_count": null,
      "outputs": [
        {
          "output_type": "stream",
          "text": [
            "{\"name\": \"John\", \"age\": 30, \"city\": \"New York\"}\n"
          ],
          "name": "stdout"
        }
      ]
    },
    {
      "cell_type": "markdown",
      "metadata": {
        "id": "sacJk3Y491yr"
      },
      "source": [
        "You can convert Python objects of the following types, into JSON strings:\n",
        "\n",
        "1. dict\n",
        "\n",
        "2. list\n",
        "\n",
        "3. tuple\n",
        "\n",
        "4. string\n",
        "\n",
        "5. int\n",
        "\n",
        "6. float\n",
        "\n",
        "7. True\n",
        "\n",
        "8. False\n",
        "\n",
        "9. None\n",
        "\n",
        "\n",
        "\n"
      ]
    },
    {
      "cell_type": "code",
      "metadata": {
        "colab": {
          "base_uri": "https://localhost:8080/"
        },
        "id": "Hn7uHbJP9waT",
        "outputId": "e9f8ed05-46b2-4322-f1da-f916c742fa14"
      },
      "source": [
        "import json\n",
        "\n",
        "print(json.dumps({\"name\": \"John\", \"age\": 30}))\n",
        "print(json.dumps([\"apple\", \"bananas\"]))\n",
        "print(json.dumps((\"apple\", \"bananas\")))\n",
        "print(json.dumps(\"hello\"))\n",
        "print(json.dumps(42))\n",
        "print(json.dumps(31.76))\n",
        "print(json.dumps(True))\n",
        "print(json.dumps(False))\n",
        "print(json.dumps(None))"
      ],
      "execution_count": null,
      "outputs": [
        {
          "output_type": "stream",
          "text": [
            "{\"name\": \"John\", \"age\": 30}\n",
            "[\"apple\", \"bananas\"]\n",
            "[\"apple\", \"bananas\"]\n",
            "\"hello\"\n",
            "42\n",
            "31.76\n",
            "true\n",
            "false\n",
            "null\n"
          ],
          "name": "stdout"
        }
      ]
    },
    {
      "cell_type": "markdown",
      "metadata": {
        "id": "1ujgl-5o-WOX"
      },
      "source": [
        "When you convert from Python to JSON, Python objects are converted into the JSON (JavaScript) equivalent:\n",
        "\n",
        "`Python\tJSON`\n",
        "1. `dict\t=> Object`\n",
        "\n",
        "2. `list => Array`\n",
        "\n",
        "3. `tuple => Array`\n",
        "\n",
        "4. `str => String`\n",
        "\n",
        "5. `int => Number`\n",
        "\n",
        "6. `float => Number`\n",
        "\n",
        "7. `True => true`\n",
        "\n",
        "8. `False => false`\n",
        "\n",
        "9. `None => null`\n",
        "\n",
        "\n",
        "\n"
      ]
    },
    {
      "cell_type": "code",
      "metadata": {
        "colab": {
          "base_uri": "https://localhost:8080/"
        },
        "id": "V6g3YN_i-QsV",
        "outputId": "f5fc304e-7b37-4832-acb4-8cab64b157f1"
      },
      "source": [
        "import json\n",
        "\n",
        "x = {\n",
        "  \"name\": \"John\",\n",
        "  \"age\": 30,\n",
        "  \"married\": True,\n",
        "  \"divorced\": False,\n",
        "  \"children\": (\"Ann\",\"Billy\"),\n",
        "  \"pets\": None,\n",
        "  \"cars\": [\n",
        "    {\"model\": \"BMW 230\", \"mpg\": 27.5},\n",
        "    {\"model\": \"Ford Edge\", \"mpg\": 24.1}\n",
        "  ]\n",
        "}\n",
        "\n",
        "print(json.dumps(x))"
      ],
      "execution_count": null,
      "outputs": [
        {
          "output_type": "stream",
          "text": [
            "{\"name\": \"John\", \"age\": 30, \"married\": true, \"divorced\": false, \"children\": [\"Ann\", \"Billy\"], \"pets\": null, \"cars\": [{\"model\": \"BMW 230\", \"mpg\": 27.5}, {\"model\": \"Ford Edge\", \"mpg\": 24.1}]}\n"
          ],
          "name": "stdout"
        }
      ]
    },
    {
      "cell_type": "markdown",
      "metadata": {
        "id": "6_y8T8n-_vjW"
      },
      "source": [
        "## Format the Result\n",
        "The example above prints a JSON string, but it is not very easy to read, with no indentations and line breaks.\n",
        "\n",
        "The json.dumps() method has parameters to make it easier to read the result:"
      ]
    },
    {
      "cell_type": "code",
      "metadata": {
        "colab": {
          "base_uri": "https://localhost:8080/"
        },
        "id": "5x_RrK2X_npG",
        "outputId": "28f07c22-a51f-40f8-97d5-61f0602b1bed"
      },
      "source": [
        "# Use the indent parameter to define the numbers of indents:\n",
        "import json\n",
        "\n",
        "x = {\n",
        "  \"name\": \"John\",\n",
        "  \"age\": 30,\n",
        "  \"married\": True,\n",
        "  \"divorced\": False,\n",
        "  \"children\": (\"Ann\",\"Billy\"),\n",
        "  \"pets\": None,\n",
        "  \"cars\": [\n",
        "    {\"model\": \"BMW 230\", \"mpg\": 27.5},\n",
        "    {\"model\": \"Ford Edge\", \"mpg\": 24.1}\n",
        "  ]\n",
        "}\n",
        "\n",
        "# use four indents to make it easier to read the result:\n",
        "print(json.dumps(x, indent=4))"
      ],
      "execution_count": null,
      "outputs": [
        {
          "output_type": "stream",
          "text": [
            "{\n",
            "    \"name\": \"John\",\n",
            "    \"age\": 30,\n",
            "    \"married\": true,\n",
            "    \"divorced\": false,\n",
            "    \"children\": [\n",
            "        \"Ann\",\n",
            "        \"Billy\"\n",
            "    ],\n",
            "    \"pets\": null,\n",
            "    \"cars\": [\n",
            "        {\n",
            "            \"model\": \"BMW 230\",\n",
            "            \"mpg\": 27.5\n",
            "        },\n",
            "        {\n",
            "            \"model\": \"Ford Edge\",\n",
            "            \"mpg\": 24.1\n",
            "        }\n",
            "    ]\n",
            "}\n"
          ],
          "name": "stdout"
        }
      ]
    },
    {
      "cell_type": "markdown",
      "metadata": {
        "id": "KysRvuAWAI3m"
      },
      "source": [
        "You can also define the separators, default value is (\", \", \": \"), which means using a comma and a space to separate each object, and a colon and a space to separate keys from values:"
      ]
    },
    {
      "cell_type": "code",
      "metadata": {
        "colab": {
          "base_uri": "https://localhost:8080/"
        },
        "id": "6D07C-Ge_z3C",
        "outputId": "ff2aa835-5104-4332-9553-86f8b03a948d"
      },
      "source": [
        "#Use the separators parameter to change the default separator:\n",
        "import json\n",
        "\n",
        "x = {\n",
        "  \"name\": \"John\",\n",
        "  \"age\": 30,\n",
        "  \"married\": True,\n",
        "  \"divorced\": False,\n",
        "  \"children\": (\"Ann\",\"Billy\"),\n",
        "  \"pets\": None,\n",
        "  \"cars\": [\n",
        "    {\"model\": \"BMW 230\", \"mpg\": 27.5},\n",
        "    {\"model\": \"Ford Edge\", \"mpg\": 24.1}\n",
        "  ]\n",
        "}\n",
        "\n",
        "# use . and a space to separate objects, and a space, a = and a space to separate keys from their values:\n",
        "print(json.dumps(x, indent=4, separators=(\". \", \" = \")))\n"
      ],
      "execution_count": null,
      "outputs": [
        {
          "output_type": "stream",
          "text": [
            "{\n",
            "    \"name\" = \"John\". \n",
            "    \"age\" = 30. \n",
            "    \"married\" = true. \n",
            "    \"divorced\" = false. \n",
            "    \"children\" = [\n",
            "        \"Ann\". \n",
            "        \"Billy\"\n",
            "    ]. \n",
            "    \"pets\" = null. \n",
            "    \"cars\" = [\n",
            "        {\n",
            "            \"model\" = \"BMW 230\". \n",
            "            \"mpg\" = 27.5\n",
            "        }. \n",
            "        {\n",
            "            \"model\" = \"Ford Edge\". \n",
            "            \"mpg\" = 24.1\n",
            "        }\n",
            "    ]\n",
            "}\n"
          ],
          "name": "stdout"
        }
      ]
    },
    {
      "cell_type": "markdown",
      "metadata": {
        "id": "_8Qu2suOAWRD"
      },
      "source": [
        "## Order the Result\n",
        "The json.dumps() method has parameters to order the keys in the result:"
      ]
    },
    {
      "cell_type": "code",
      "metadata": {
        "colab": {
          "base_uri": "https://localhost:8080/"
        },
        "id": "Eea109TCAQzL",
        "outputId": "9c8fcc62-b044-46f7-9d77-dc17670502fd"
      },
      "source": [
        "#Use the sort_keys parameter to specify if the result should be sorted or not:\n",
        "import json\n",
        "\n",
        "x = {\n",
        "  \"name\": \"John\",\n",
        "  \"age\": 30,\n",
        "  \"married\": True,\n",
        "  \"divorced\": False,\n",
        "  \"children\": (\"Ann\",\"Billy\"),\n",
        "  \"pets\": None,\n",
        "  \"cars\": [\n",
        "    {\"model\": \"BMW 230\", \"mpg\": 27.5},\n",
        "    {\"model\": \"Ford Edge\", \"mpg\": 24.1}\n",
        "  ]\n",
        "}\n",
        "\n",
        "# sort the result alphabetically by keys:\n",
        "print(json.dumps(x, indent=4, sort_keys=True))\n"
      ],
      "execution_count": null,
      "outputs": [
        {
          "output_type": "stream",
          "text": [
            "{\n",
            "    \"age\": 30,\n",
            "    \"cars\": [\n",
            "        {\n",
            "            \"model\": \"BMW 230\",\n",
            "            \"mpg\": 27.5\n",
            "        },\n",
            "        {\n",
            "            \"model\": \"Ford Edge\",\n",
            "            \"mpg\": 24.1\n",
            "        }\n",
            "    ],\n",
            "    \"children\": [\n",
            "        \"Ann\",\n",
            "        \"Billy\"\n",
            "    ],\n",
            "    \"divorced\": false,\n",
            "    \"married\": true,\n",
            "    \"name\": \"John\",\n",
            "    \"pets\": null\n",
            "}\n"
          ],
          "name": "stdout"
        }
      ]
    }
  ]
}