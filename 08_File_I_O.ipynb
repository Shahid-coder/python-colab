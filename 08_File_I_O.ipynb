{
  "nbformat": 4,
  "nbformat_minor": 0,
  "metadata": {
    "colab": {
      "name": "08_File_I/O.ipynb",
      "provenance": [],
      "collapsed_sections": [],
      "authorship_tag": "ABX9TyMmE3TItPYblZpMBLCUN6B0",
      "include_colab_link": true
    },
    "kernelspec": {
      "name": "python3",
      "display_name": "Python 3"
    },
    "language_info": {
      "name": "python"
    }
  },
  "cells": [
    {
      "cell_type": "markdown",
      "metadata": {
        "id": "view-in-github",
        "colab_type": "text"
      },
      "source": [
        "<a href=\"https://colab.research.google.com/github/Shahid-coder/python-colab/blob/main/08_File_I_O.ipynb\" target=\"_parent\"><img src=\"https://colab.research.google.com/assets/colab-badge.svg\" alt=\"Open In Colab\"/></a>"
      ]
    },
    {
      "cell_type": "markdown",
      "metadata": {
        "id": "4KPXCotZDeDD"
      },
      "source": [
        "## Python File Open"
      ]
    },
    {
      "cell_type": "markdown",
      "metadata": {
        "id": "FE2Rlfl2DksE"
      },
      "source": [
        "File handling is an important part of any web application.\n",
        "\n",
        "Python has several functions for creating, reading, updating, and deleting files.\n",
        "\n"
      ]
    },
    {
      "cell_type": "markdown",
      "metadata": {
        "id": "Yl7zq7pXDonO"
      },
      "source": [
        "## File Handling\n",
        "The key function for working with files in Python is the open() function.\n",
        "\n",
        "The open() function takes two parameters; filename, and mode.\n",
        "\n",
        "`There are four different methods (modes) for opening a file:`\n",
        "\n",
        "> `r` - Read - Default value. Opens a file for reading, error if the file does not exist\n",
        "\n",
        ">`a` - Append - Opens a file for appending, creates the file if it does not exist\n",
        "\n",
        ">`w` - Write - Opens a file for writing, creates the file if it does not exist\n",
        "\n",
        ">`x` - Create - Creates the specified file, returns an error if the file exists\n",
        "\n",
        "`In addition you can specify if the file should be handled as binary or text mode`\n",
        "\n",
        "> `t` - Text - Default value. Text mode\n",
        "\n",
        "> `b` - Binary - Binary mode (e.g. images)"
      ]
    },
    {
      "cell_type": "markdown",
      "metadata": {
        "id": "kYvu9UbjEdY_"
      },
      "source": [
        "## Syntax\n",
        "To open a file for reading it is enough to specify the name of the file:"
      ]
    },
    {
      "cell_type": "code",
      "metadata": {
        "id": "QLPMW202DCJQ"
      },
      "source": [
        "#creating a file \n",
        "def main():\n",
        "  f= open(\"demofile2.txt\",\"w+\")\n",
        "  for i in range(20):\n",
        "    f.write(\"shahid is a good boy \")\n",
        "if __name__=='__main__':\n",
        "  main()\n",
        "f.close()"
      ],
      "execution_count": null,
      "outputs": []
    },
    {
      "cell_type": "code",
      "metadata": {
        "id": "gGSow5T4El9j"
      },
      "source": [
        "#To open a file for reading it is enough to specify the name of the file:\n",
        "f = open(\"demofile2.txt\")\n"
      ],
      "execution_count": null,
      "outputs": []
    },
    {
      "cell_type": "markdown",
      "metadata": {
        "id": "FtzA9wveGeKp"
      },
      "source": [
        "The code above is the same as:"
      ]
    },
    {
      "cell_type": "code",
      "metadata": {
        "id": "lw0_wrH1GV5g"
      },
      "source": [
        "f = open(\"demofile2.txt\", \"rt\")"
      ],
      "execution_count": null,
      "outputs": []
    },
    {
      "cell_type": "markdown",
      "metadata": {
        "id": "2zVgN7tFGko2"
      },
      "source": [
        "Because \"r\" for read, and \"t\" for text are the default values, you do not need to specify them."
      ]
    },
    {
      "cell_type": "markdown",
      "metadata": {
        "id": "QhyAlEu-G1hR"
      },
      "source": [
        "## Read Only Parts of the File\n",
        "By default the read() method returns the whole text, but you can also specify how many characters you want to return:"
      ]
    },
    {
      "cell_type": "code",
      "metadata": {
        "colab": {
          "base_uri": "https://localhost:8080/"
        },
        "id": "Q1Ka462FGiYc",
        "outputId": "6ee9470b-54c0-45f3-99bf-cd52cf3957f7"
      },
      "source": [
        "f = open(\"demofile2.txt\", \"r\")\n",
        "print(f.read(5))\n"
      ],
      "execution_count": null,
      "outputs": [
        {
          "output_type": "stream",
          "text": [
            "shahi\n"
          ],
          "name": "stdout"
        }
      ]
    },
    {
      "cell_type": "markdown",
      "metadata": {
        "id": "8DoKjfC8HAK8"
      },
      "source": [
        "## Read Lines\n",
        "You can return one line by using the readline() method:"
      ]
    },
    {
      "cell_type": "code",
      "metadata": {
        "colab": {
          "base_uri": "https://localhost:8080/"
        },
        "id": "6QKnE1m3G5Gk",
        "outputId": "d7ab38e4-c515-4fd0-e9d0-93a368d87c0e"
      },
      "source": [
        "f = open(\"demofile2.txt\", \"r\")\n",
        "print(f.readline())"
      ],
      "execution_count": null,
      "outputs": [
        {
          "output_type": "stream",
          "text": [
            "shahid is a good boy shahid is a good boy shahid is a good boy shahid is a good boy shahid is a good boy shahid is a good boy shahid is a good boy shahid is a good boy shahid is a good boy shahid is a good boy shahid is a good boy shahid is a good boy shahid is a good boy shahid is a good boy shahid is a good boy shahid is a good boy shahid is a good boy shahid is a good boy shahid is a good boy shahid is a good boy \n"
          ],
          "name": "stdout"
        }
      ]
    },
    {
      "cell_type": "markdown",
      "metadata": {
        "id": "vlVQcTWPHJjP"
      },
      "source": [
        "By calling readline() two times, you can read the two first lines:"
      ]
    },
    {
      "cell_type": "code",
      "metadata": {
        "colab": {
          "base_uri": "https://localhost:8080/"
        },
        "id": "XetxRH6NHE48",
        "outputId": "df763d6c-9f94-4b67-8418-8a45430bc08c"
      },
      "source": [
        "f = open(\"demofile.txt\", \"r\")\n",
        "print(f.readline())\n",
        "print(f.readline())"
      ],
      "execution_count": null,
      "outputs": [
        {
          "output_type": "stream",
          "text": [
            "\n",
            "\n"
          ],
          "name": "stdout"
        }
      ]
    },
    {
      "cell_type": "markdown",
      "metadata": {
        "id": "MVu19rYFImWN"
      },
      "source": [
        "By looping through the lines of the file, you can read the whole file, line by line:"
      ]
    },
    {
      "cell_type": "code",
      "metadata": {
        "id": "Rkboq6A9Igwk"
      },
      "source": [
        "f = open(\"demofile.txt\", \"r\")\n",
        "for x in f:\n",
        "  print(x)"
      ],
      "execution_count": null,
      "outputs": []
    },
    {
      "cell_type": "markdown",
      "metadata": {
        "id": "vwvCNYshIszZ"
      },
      "source": [
        "## Close Files\n",
        "It is a good practice to always close the file when you are done with it.\n"
      ]
    },
    {
      "cell_type": "code",
      "metadata": {
        "colab": {
          "base_uri": "https://localhost:8080/"
        },
        "id": "r39GOUV4IpTf",
        "outputId": "ce93cc1d-7ecc-4876-fd48-5f545f7b2440"
      },
      "source": [
        "f = open(\"demofile.txt\", \"r\")\n",
        "print(f.readline())\n",
        "f.close()\n"
      ],
      "execution_count": null,
      "outputs": [
        {
          "output_type": "stream",
          "text": [
            "\n"
          ],
          "name": "stdout"
        }
      ]
    },
    {
      "cell_type": "markdown",
      "metadata": {
        "id": "1VV91UztI48X"
      },
      "source": [
        "Note: You should always close your files, in some cases,due to buffering, changes made to a file may not show until you close the file."
      ]
    },
    {
      "cell_type": "markdown",
      "metadata": {
        "id": "N6CZgN12I-f4"
      },
      "source": [
        "## Python File Write"
      ]
    },
    {
      "cell_type": "markdown",
      "metadata": {
        "id": "T6NzZNrAJIyk"
      },
      "source": [
        "## Write to an Existing File\n",
        "To write to an existing file, you must add a parameter to the open() function:\n",
        "\n",
        "\"a\" - Append - will append to the end of the file\n",
        "\n",
        "\"w\" - Write - will overwrite any existing content"
      ]
    },
    {
      "cell_type": "code",
      "metadata": {
        "colab": {
          "base_uri": "https://localhost:8080/"
        },
        "id": "9-XbwNw6I06d",
        "outputId": "ccbf28d8-5232-436b-e19e-e923a767080d"
      },
      "source": [
        "f = open(\"demofile2.txt\", \"a\")\n",
        "f.write(\"Now the file has more content!\")\n",
        "f.close()\n",
        "\n",
        "#open and read the file after the appending:\n",
        "f = open(\"demofile2.txt\", \"r\")\n",
        "print(f.read())\n"
      ],
      "execution_count": null,
      "outputs": [
        {
          "output_type": "stream",
          "text": [
            "shahid is a good boy shahid is a good boy shahid is a good boy shahid is a good boy shahid is a good boy shahid is a good boy shahid is a good boy shahid is a good boy shahid is a good boy shahid is a good boy shahid is a good boy shahid is a good boy shahid is a good boy shahid is a good boy shahid is a good boy shahid is a good boy shahid is a good boy shahid is a good boy shahid is a good boy shahid is a good boy Now the file has more content!\n"
          ],
          "name": "stdout"
        }
      ]
    },
    {
      "cell_type": "code",
      "metadata": {
        "colab": {
          "base_uri": "https://localhost:8080/"
        },
        "id": "-RpPinF4JOIw",
        "outputId": "ea2cce78-e6b3-49f5-d48d-fa682928dcc7"
      },
      "source": [
        "f = open(\"demofile3.txt\", \"w\")\n",
        "f.write(\"Woops! I have deleted the content!\")\n",
        "f.close()\n",
        "\n",
        "#open and read the file after the appending:\n",
        "f = open(\"demofile3.txt\", \"r\")\n",
        "print(f.read())"
      ],
      "execution_count": null,
      "outputs": [
        {
          "output_type": "stream",
          "text": [
            "Woops! I have deleted the content!\n"
          ],
          "name": "stdout"
        }
      ]
    },
    {
      "cell_type": "markdown",
      "metadata": {
        "id": "xYA61HEMJkhb"
      },
      "source": [
        "## Create a New File\n",
        "To create a new file in Python, use the open() method, with one of the following parameters:\n",
        "\n",
        "\"x\" - Create - will create a file, returns an error if the file exist\n",
        "\n",
        "\"a\" - Append - will create a file if the specified file does not exist\n",
        "\n",
        "\"w\" - Write - will create a file if the specified file does not exist"
      ]
    },
    {
      "cell_type": "code",
      "metadata": {
        "id": "n934PAvTJWdX"
      },
      "source": [
        "f = open(\"myfile.txt\", \"x\")"
      ],
      "execution_count": null,
      "outputs": []
    },
    {
      "cell_type": "markdown",
      "metadata": {
        "id": "GA1Ba5f4JviD"
      },
      "source": [
        "Create a new file if it does not exist:"
      ]
    },
    {
      "cell_type": "code",
      "metadata": {
        "id": "xYwtG5-dJoj9"
      },
      "source": [
        "f = open(\"myfile.txt\", \"w\")"
      ],
      "execution_count": null,
      "outputs": []
    },
    {
      "cell_type": "markdown",
      "metadata": {
        "id": "22UH916eJ2uN"
      },
      "source": [
        "## Python Delete File"
      ]
    },
    {
      "cell_type": "markdown",
      "metadata": {
        "id": "-kA-_g6cJ7BP"
      },
      "source": [
        "## Delete a File\n",
        "To delete a file, you must import the OS module, and run its os.remove() function:"
      ]
    },
    {
      "cell_type": "code",
      "metadata": {
        "id": "H14F4PdQJzT9"
      },
      "source": [
        "import os\n",
        "os.remove(\"demofile.txt\")"
      ],
      "execution_count": null,
      "outputs": []
    },
    {
      "cell_type": "markdown",
      "metadata": {
        "id": "my16KPhWKDkw"
      },
      "source": [
        "## Check if File exist:\n",
        "To avoid getting an error, you might want to check if the file exists before you try to delete it:"
      ]
    },
    {
      "cell_type": "code",
      "metadata": {
        "colab": {
          "base_uri": "https://localhost:8080/"
        },
        "id": "OZuaYU-yJ_nR",
        "outputId": "03d601a3-d95b-49c7-eea3-4390b5817869"
      },
      "source": [
        "import os\n",
        "if os.path.exists(\"demofile.txt\"):\n",
        "  os.remove(\"demofile.txt\")\n",
        "else:\n",
        "  print(\"The file does not exist\")\n"
      ],
      "execution_count": null,
      "outputs": [
        {
          "output_type": "stream",
          "text": [
            "The file does not exist\n"
          ],
          "name": "stdout"
        }
      ]
    },
    {
      "cell_type": "markdown",
      "metadata": {
        "id": "rXQilN4QKNd7"
      },
      "source": [
        "## Delete Folder\n",
        "To delete an entire folder, use the os.rmdir() method:"
      ]
    },
    {
      "cell_type": "code",
      "metadata": {
        "id": "POzYRuuLKIxh"
      },
      "source": [
        ""
      ],
      "execution_count": null,
      "outputs": []
    }
  ]
}