{
  "nbformat": 4,
  "nbformat_minor": 0,
  "metadata": {
    "colab": {
      "name": "01_modules_comments_and_pip.ipynb",
      "provenance": [],
      "authorship_tag": "ABX9TyPUdStEKwQq3O15Z2K1nH5a",
      "include_colab_link": true
    },
    "kernelspec": {
      "name": "python3",
      "display_name": "Python 3"
    },
    "language_info": {
      "name": "python"
    }
  },
  "cells": [
    {
      "cell_type": "markdown",
      "metadata": {
        "id": "view-in-github",
        "colab_type": "text"
      },
      "source": [
        "<a href=\"https://colab.research.google.com/github/Shahid-coder/python-colab/blob/main/01_modules_comments_and_pip.ipynb\" target=\"_parent\"><img src=\"https://colab.research.google.com/assets/colab-badge.svg\" alt=\"Open In Colab\"/></a>"
      ]
    },
    {
      "cell_type": "markdown",
      "metadata": {
        "id": "eTHYSSy2HzCg"
      },
      "source": [
        "## Modules \n",
        "#### A module is a file containing code written by somebody else which can be imported and used in our programs.\n",
        "#### There are two types of module in python \n",
        "> built in modules =>pre installed in python\n",
        "\n",
        "> external modules =>Need to install it through pip . "
      ]
    },
    {
      "cell_type": "markdown",
      "metadata": {
        "id": "CMxaHzHuKL9q"
      },
      "source": [
        "## Comments \n",
        "> Comments are used to write something which the proggrammer does not want to execute. \n",
        "#### Types of comments \n",
        "> Single line comment => written using # \n",
        "\n",
        "> Multi line comment => written using ''' comment ''' "
      ]
    },
    {
      "cell_type": "code",
      "metadata": {
        "colab": {
          "base_uri": "https://localhost:8080/"
        },
        "id": "PKmv4BbqKyha",
        "outputId": "482b1f97-6632-47b1-b9f9-060bf78fc568"
      },
      "source": [
        "# This is a comment \n",
        "print(\"hello world\")"
      ],
      "execution_count": null,
      "outputs": [
        {
          "output_type": "stream",
          "text": [
            "hello world\n"
          ],
          "name": "stdout"
        }
      ]
    },
    {
      "cell_type": "code",
      "metadata": {
        "colab": {
          "base_uri": "https://localhost:8080/"
        },
        "id": "0nx8-V5_LFo2",
        "outputId": "0717c2b1-aace-4b52-e7b6-e8e544fe2261"
      },
      "source": [
        "print(\"Hello, World!\") #This is a comment"
      ],
      "execution_count": null,
      "outputs": [
        {
          "output_type": "stream",
          "text": [
            "Hello, World!\n"
          ],
          "name": "stdout"
        }
      ]
    },
    {
      "cell_type": "code",
      "metadata": {
        "colab": {
          "base_uri": "https://localhost:8080/"
        },
        "id": "0PaB6As1LKfZ",
        "outputId": "889026d4-e87c-4a2c-edaa-40d1b24f75fb"
      },
      "source": [
        "\"\"\"\n",
        "This is a comment\n",
        "written in\n",
        "more than just one line\n",
        "\"\"\"\n",
        "print(\"Hello, World!\")\n"
      ],
      "execution_count": null,
      "outputs": [
        {
          "output_type": "stream",
          "text": [
            "Hello, World!\n"
          ],
          "name": "stdout"
        }
      ]
    },
    {
      "cell_type": "code",
      "metadata": {
        "id": "UC0e0B5-LR4C"
      },
      "source": [
        ""
      ],
      "execution_count": null,
      "outputs": []
    }
  ]
}