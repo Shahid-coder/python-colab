{
  "nbformat": 4,
  "nbformat_minor": 0,
  "metadata": {
    "colab": {
      "name": "04_list_and_tuples_methods.ipynb",
      "provenance": [],
      "collapsed_sections": [],
      "authorship_tag": "ABX9TyMvCZ16jKz23y9EOPD9rXwS",
      "include_colab_link": true
    },
    "kernelspec": {
      "name": "python3",
      "display_name": "Python 3"
    },
    "language_info": {
      "name": "python"
    }
  },
  "cells": [
    {
      "cell_type": "markdown",
      "metadata": {
        "id": "view-in-github",
        "colab_type": "text"
      },
      "source": [
        "<a href=\"https://colab.research.google.com/github/Shahid-coder/python-colab/blob/main/04_list_and_tuples_methods.ipynb\" target=\"_parent\"><img src=\"https://colab.research.google.com/assets/colab-badge.svg\" alt=\"Open In Colab\"/></a>"
      ]
    },
    {
      "cell_type": "markdown",
      "metadata": {
        "id": "kq083laQeQ7C"
      },
      "source": [
        "# List methods \n",
        "Lists are used to store multiple items in a single variable.\n",
        "\n",
        "Lists are one of 4 built-in data types in Python used to store collections of data, the other 3 are Tuple, Set, and Dictionary, all with different qualities and usage.\n",
        "\n",
        "Lists are created using square brackets:"
      ]
    },
    {
      "cell_type": "code",
      "metadata": {
        "id": "XBCGFCMTd2N9",
        "colab": {
          "base_uri": "https://localhost:8080/"
        },
        "outputId": "a969a03b-d0e5-4d16-dd25-db8fe928004a"
      },
      "source": [
        "thislist = [\"apple\", \"banana\", \"cherry\"]\n",
        "print(thislist)\n",
        "print(type(thislist))"
      ],
      "execution_count": null,
      "outputs": [
        {
          "output_type": "stream",
          "text": [
            "['apple', 'banana', 'cherry']\n",
            "<class 'list'>\n"
          ],
          "name": "stdout"
        }
      ]
    },
    {
      "cell_type": "markdown",
      "metadata": {
        "id": "65sDujCfe2UR"
      },
      "source": [
        "## List Items\n",
        "List items are ordered, changeable, and allow duplicate values.\n",
        "\n",
        "List items are indexed, the first item has index [0], the second item has index [1] etc.\n",
        "\n"
      ]
    },
    {
      "cell_type": "markdown",
      "metadata": {
        "id": "vlQgqRCzfF8e"
      },
      "source": [
        "Since lists are indexed, lists can have items with the same value:"
      ]
    },
    {
      "cell_type": "code",
      "metadata": {
        "id": "dEKa61b9emv9",
        "colab": {
          "base_uri": "https://localhost:8080/"
        },
        "outputId": "a2601742-110c-46ac-8a96-d86f8f72f6a5"
      },
      "source": [
        "thislist = [\"apple\", \"banana\", \"cherry\", \"apple\", \"cherry\"]\n",
        "print(thislist)"
      ],
      "execution_count": null,
      "outputs": [
        {
          "output_type": "stream",
          "text": [
            "['apple', 'banana', 'cherry', 'apple', 'cherry']\n"
          ],
          "name": "stdout"
        }
      ]
    },
    {
      "cell_type": "markdown",
      "metadata": {
        "id": "y9s2d66dfLWp"
      },
      "source": [
        "## List Length\n",
        "To determine how many items a list has, use the len() function:"
      ]
    },
    {
      "cell_type": "code",
      "metadata": {
        "id": "vWCJIFh7fBOa",
        "colab": {
          "base_uri": "https://localhost:8080/"
        },
        "outputId": "642c3727-bd68-4618-8ab4-0b4798189504"
      },
      "source": [
        "thislist = [\"apple\", \"banana\", \"cherry\"]\n",
        "print(len(thislist))"
      ],
      "execution_count": null,
      "outputs": [
        {
          "output_type": "stream",
          "text": [
            "3\n"
          ],
          "name": "stdout"
        }
      ]
    },
    {
      "cell_type": "markdown",
      "metadata": {
        "id": "woh5XTb-fVk8"
      },
      "source": [
        "## List Items - Data Types\n",
        "List items can be of any data type:"
      ]
    },
    {
      "cell_type": "code",
      "metadata": {
        "id": "lt00YVJTfQ-P",
        "colab": {
          "base_uri": "https://localhost:8080/"
        },
        "outputId": "3f5e6114-d4a7-49cf-b9cb-ecce0ee4c7bb"
      },
      "source": [
        "list1 = [\"apple\", \"banana\", \"cherry\"]\n",
        "list2 = [1, 5, 7, 9, 3]\n",
        "list3 = [True, False, False]\n",
        "print(list1)\n",
        "print(list2)\n",
        "print(list3)"
      ],
      "execution_count": null,
      "outputs": [
        {
          "output_type": "stream",
          "text": [
            "['apple', 'banana', 'cherry']\n",
            "[1, 5, 7, 9, 3]\n",
            "[True, False, False]\n"
          ],
          "name": "stdout"
        }
      ]
    },
    {
      "cell_type": "markdown",
      "metadata": {
        "id": "KxEabPZIfuWH"
      },
      "source": [
        "A list can contain different data types:"
      ]
    },
    {
      "cell_type": "code",
      "metadata": {
        "id": "iUth6mqhfgkF",
        "colab": {
          "base_uri": "https://localhost:8080/"
        },
        "outputId": "db6a6d91-4b11-4267-f7c0-6705c7f50690"
      },
      "source": [
        "list1 = [\"abc\", 34, True, 40, \"male\"]\n",
        "list1"
      ],
      "execution_count": null,
      "outputs": [
        {
          "output_type": "execute_result",
          "data": {
            "text/plain": [
              "['abc', 34, True, 40, 'male']"
            ]
          },
          "metadata": {
            "tags": []
          },
          "execution_count": 5
        }
      ]
    },
    {
      "cell_type": "markdown",
      "metadata": {
        "id": "f2GHx2Mgfz71"
      },
      "source": [
        "## The list() Constructor\n",
        "It is also possible to use the list() constructor when creating a new list."
      ]
    },
    {
      "cell_type": "code",
      "metadata": {
        "id": "8kGSbEsOfxJ9",
        "colab": {
          "base_uri": "https://localhost:8080/"
        },
        "outputId": "334cc790-8a3b-4bea-fe7e-e0e27d969b4a"
      },
      "source": [
        "thislist = list((\"apple\", \"banana\", \"cherry\")) # note the double round-brackets\n",
        "print(thislist)"
      ],
      "execution_count": null,
      "outputs": [
        {
          "output_type": "stream",
          "text": [
            "['apple', 'banana', 'cherry']\n"
          ],
          "name": "stdout"
        }
      ]
    },
    {
      "cell_type": "markdown",
      "metadata": {
        "id": "oUFzn9BPgHhe"
      },
      "source": [
        "## Access Items\n",
        "List items are indexed and you can access them by referring to the index number:"
      ]
    },
    {
      "cell_type": "code",
      "metadata": {
        "id": "u0rzU3ipf8UK",
        "colab": {
          "base_uri": "https://localhost:8080/"
        },
        "outputId": "8c7574ec-d7a2-416a-bfb5-4575ddaadba2"
      },
      "source": [
        "thislist = [\"apple\", \"banana\", \"cherry\"]\n",
        "print(thislist[1])"
      ],
      "execution_count": null,
      "outputs": [
        {
          "output_type": "stream",
          "text": [
            "banana\n"
          ],
          "name": "stdout"
        }
      ]
    },
    {
      "cell_type": "markdown",
      "metadata": {
        "id": "6REulv98gPAI"
      },
      "source": [
        "## Negative Indexing\n",
        "Negative indexing means start from the end\n",
        "\n",
        "-1 refers to the last item, -2 refers to the second last item etc."
      ]
    },
    {
      "cell_type": "code",
      "metadata": {
        "id": "lM-DZL9NgK_f",
        "colab": {
          "base_uri": "https://localhost:8080/"
        },
        "outputId": "5b1d5a52-4a9b-4634-c580-abd009366b3c"
      },
      "source": [
        "thislist = [\"apple\", \"banana\", \"cherry\"]\n",
        "print(thislist[-1])"
      ],
      "execution_count": null,
      "outputs": [
        {
          "output_type": "stream",
          "text": [
            "cherry\n"
          ],
          "name": "stdout"
        }
      ]
    },
    {
      "cell_type": "markdown",
      "metadata": {
        "id": "p7QLjfm-gaSj"
      },
      "source": [
        "## Range of Indexes\n",
        "You can specify a range of indexes by specifying where to start and where to end the range.\n",
        "\n",
        "When specifying a range, the return value will be a new list with the specified items."
      ]
    },
    {
      "cell_type": "code",
      "metadata": {
        "id": "r-J-6dIugS2V",
        "colab": {
          "base_uri": "https://localhost:8080/"
        },
        "outputId": "2426a47c-a946-4323-c2f2-9032326dd7a1"
      },
      "source": [
        "thislist = [\"apple\", \"banana\", \"cherry\", \"orange\", \"kiwi\", \"melon\", \"mango\"]\n",
        "print(thislist[2:5])"
      ],
      "execution_count": null,
      "outputs": [
        {
          "output_type": "stream",
          "text": [
            "['cherry', 'orange', 'kiwi']\n"
          ],
          "name": "stdout"
        }
      ]
    },
    {
      "cell_type": "markdown",
      "metadata": {
        "id": "NNGPGo8_gu85"
      },
      "source": [
        "Note: The search will start at index 2 (included) and end at index 5 (not included)."
      ]
    },
    {
      "cell_type": "markdown",
      "metadata": {
        "id": "IQNj5FHAg6Xa"
      },
      "source": [
        "By leaving out the start value, the range will start at the first item:"
      ]
    },
    {
      "cell_type": "code",
      "metadata": {
        "id": "bIVHs4OXgdj_",
        "colab": {
          "base_uri": "https://localhost:8080/"
        },
        "outputId": "702a3709-912f-46aa-de15-4e6e2ff710b6"
      },
      "source": [
        "thislist = [\"apple\", \"banana\", \"cherry\", \"orange\", \"kiwi\", \"melon\", \"mango\"]\n",
        "print(thislist[:4])"
      ],
      "execution_count": null,
      "outputs": [
        {
          "output_type": "stream",
          "text": [
            "['apple', 'banana', 'cherry', 'orange']\n"
          ],
          "name": "stdout"
        }
      ]
    },
    {
      "cell_type": "markdown",
      "metadata": {
        "id": "GTJsA2MdhCQX"
      },
      "source": [
        "By leaving out the end value, the range will go on to the end of the list:"
      ]
    },
    {
      "cell_type": "code",
      "metadata": {
        "id": "lVbJfeqvg-Of",
        "colab": {
          "base_uri": "https://localhost:8080/"
        },
        "outputId": "200f1885-d087-487b-ae85-88f083a65689"
      },
      "source": [
        "thislist = [\"apple\", \"banana\", \"cherry\", \"orange\", \"kiwi\", \"melon\", \"mango\"]\n",
        "print(thislist[2:])"
      ],
      "execution_count": null,
      "outputs": [
        {
          "output_type": "stream",
          "text": [
            "['cherry', 'orange', 'kiwi', 'melon', 'mango']\n"
          ],
          "name": "stdout"
        }
      ]
    },
    {
      "cell_type": "markdown",
      "metadata": {
        "id": "vJjrXXokhJGg"
      },
      "source": [
        "## Range of Negative Indexes\n",
        "Specify negative indexes if you want to start the search from the end of the list:"
      ]
    },
    {
      "cell_type": "code",
      "metadata": {
        "id": "toA_ytlUhEz0",
        "colab": {
          "base_uri": "https://localhost:8080/"
        },
        "outputId": "85cbf52c-156e-4235-d5d9-0eb0288528af"
      },
      "source": [
        "#This example returns the items from \"orange\" (-4) to, but NOT including \"mango\" (-1):\n",
        "thislist = [\"apple\", \"banana\", \"cherry\", \"orange\", \"kiwi\", \"melon\", \"mango\"]\n",
        "print(thislist[-4:-1])"
      ],
      "execution_count": null,
      "outputs": [
        {
          "output_type": "stream",
          "text": [
            "['orange', 'kiwi', 'melon']\n"
          ],
          "name": "stdout"
        }
      ]
    },
    {
      "cell_type": "markdown",
      "metadata": {
        "id": "F_lVfza8haby"
      },
      "source": [
        "## Check if Item Exists\n",
        "To determine if a specified item is present in a list use the in keyword:"
      ]
    },
    {
      "cell_type": "code",
      "metadata": {
        "id": "n02ZxquPhNJO",
        "colab": {
          "base_uri": "https://localhost:8080/"
        },
        "outputId": "1c841f21-44c7-4bbc-a207-1b3a74091cb4"
      },
      "source": [
        "thislist = [\"apple\", \"banana\", \"cherry\"]\n",
        "if \"apple\" in thislist:\n",
        "  print(\"Yes, 'apple' is in the fruits list\")"
      ],
      "execution_count": null,
      "outputs": [
        {
          "output_type": "stream",
          "text": [
            "Yes, 'apple' is in the fruits list\n"
          ],
          "name": "stdout"
        }
      ]
    },
    {
      "cell_type": "markdown",
      "metadata": {
        "id": "7Q_GgFu8hk81"
      },
      "source": [
        "## Change Item Value\n",
        "To change the value of a specific item, refer to the index number:"
      ]
    },
    {
      "cell_type": "code",
      "metadata": {
        "id": "eLSb_iO1hean",
        "colab": {
          "base_uri": "https://localhost:8080/"
        },
        "outputId": "be9bac15-4ebf-4053-911c-e232e2f981fc"
      },
      "source": [
        "thislist = [\"apple\", \"banana\", \"cherry\"]\n",
        "thislist[1] = \"blackcurrant\"\n",
        "print(thislist)"
      ],
      "execution_count": null,
      "outputs": [
        {
          "output_type": "stream",
          "text": [
            "['apple', 'blackcurrant', 'cherry']\n"
          ],
          "name": "stdout"
        }
      ]
    },
    {
      "cell_type": "markdown",
      "metadata": {
        "id": "PP0pWDinht7k"
      },
      "source": [
        "##  Change a Range of Item Values\n",
        "To change the value of items within a specific range, define a list with the new values, and refer to the range of index numbers where you want to insert the new values:"
      ]
    },
    {
      "cell_type": "code",
      "metadata": {
        "id": "sMiv2knQho15",
        "colab": {
          "base_uri": "https://localhost:8080/"
        },
        "outputId": "c55e09bc-f80f-46f4-8983-933861ea4947"
      },
      "source": [
        "thislist = [\"apple\", \"banana\", \"cherry\", \"orange\", \"kiwi\", \"mango\"]\n",
        "thislist[1:3] = [\"blackcurrant\", \"watermelon\"]\n",
        "print(thislist)"
      ],
      "execution_count": null,
      "outputs": [
        {
          "output_type": "stream",
          "text": [
            "['apple', 'blackcurrant', 'watermelon', 'orange', 'kiwi', 'mango']\n"
          ],
          "name": "stdout"
        }
      ]
    },
    {
      "cell_type": "markdown",
      "metadata": {
        "id": "AMd1dDDKh6Xb"
      },
      "source": [
        "If you insert more items than you replace, the new items will be inserted where you specified, and the remaining items will move accordingly:"
      ]
    },
    {
      "cell_type": "code",
      "metadata": {
        "id": "HN3BqD-thx84",
        "colab": {
          "base_uri": "https://localhost:8080/"
        },
        "outputId": "530516e1-5416-4056-a6e9-0c1e5f8186d1"
      },
      "source": [
        "thislist = [\"apple\", \"banana\", \"cherry\"]\n",
        "thislist[1:2] = [\"blackcurrant\", \"watermelon\"]\n",
        "print(thislist)"
      ],
      "execution_count": null,
      "outputs": [
        {
          "output_type": "stream",
          "text": [
            "['apple', 'blackcurrant', 'watermelon', 'cherry']\n"
          ],
          "name": "stdout"
        }
      ]
    },
    {
      "cell_type": "markdown",
      "metadata": {
        "id": "J3mOTVhwiDXU"
      },
      "source": [
        "Note: The length of the list will change when the number of items inserted does not match the number of items replaced."
      ]
    },
    {
      "cell_type": "markdown",
      "metadata": {
        "id": "6FEbmkoUiGCi"
      },
      "source": [
        "If you insert less items than you replace, the new items will be inserted where you specified, and the remaining items will move accordingly:"
      ]
    },
    {
      "cell_type": "code",
      "metadata": {
        "id": "rhbT5hRwh95x",
        "colab": {
          "base_uri": "https://localhost:8080/"
        },
        "outputId": "2459eabb-9869-4388-edd1-67b01f9b1cf7"
      },
      "source": [
        "thislist = [\"apple\", \"banana\", \"cherry\"]\n",
        "thislist[1:3] = [\"watermelon\"]\n",
        "print(thislist)"
      ],
      "execution_count": null,
      "outputs": [
        {
          "output_type": "stream",
          "text": [
            "['apple', 'watermelon']\n"
          ],
          "name": "stdout"
        }
      ]
    },
    {
      "cell_type": "markdown",
      "metadata": {
        "id": "ff44TBhgiL3F"
      },
      "source": [
        "## Insert Items\n",
        "To insert a new list item, without replacing any of the existing values, we can use the insert() method.\n",
        "\n",
        "The insert() method inserts an item at the specified index:"
      ]
    },
    {
      "cell_type": "code",
      "metadata": {
        "id": "f0nl_g05iICm",
        "colab": {
          "base_uri": "https://localhost:8080/"
        },
        "outputId": "b0e44819-41cf-4656-819d-8b303349bca3"
      },
      "source": [
        "thislist = [\"apple\", \"banana\", \"cherry\"]\n",
        "thislist.insert(2, \"watermelon\")\n",
        "print(thislist)"
      ],
      "execution_count": null,
      "outputs": [
        {
          "output_type": "stream",
          "text": [
            "['apple', 'banana', 'watermelon', 'cherry']\n"
          ],
          "name": "stdout"
        }
      ]
    },
    {
      "cell_type": "markdown",
      "metadata": {
        "id": "RT0-I99iiWX4"
      },
      "source": [
        "## Append Items\n",
        "To add an item to the end of the list, use the append() method:"
      ]
    },
    {
      "cell_type": "code",
      "metadata": {
        "id": "_2hurhoniPKv",
        "colab": {
          "base_uri": "https://localhost:8080/"
        },
        "outputId": "7a72dce8-56ff-4736-96c0-7e244e22f7f5"
      },
      "source": [
        "thislist = [\"apple\", \"banana\", \"cherry\"]\n",
        "thislist.append(\"orange\")\n",
        "print(thislist)"
      ],
      "execution_count": null,
      "outputs": [
        {
          "output_type": "stream",
          "text": [
            "['apple', 'banana', 'cherry', 'orange']\n"
          ],
          "name": "stdout"
        }
      ]
    },
    {
      "cell_type": "markdown",
      "metadata": {
        "id": "Zko5n79tie1h"
      },
      "source": [
        "## Insert Items\n",
        "To insert a list item at a specified index, use the insert() method.\n",
        "\n",
        "The insert() method inserts an item at the specified index:"
      ]
    },
    {
      "cell_type": "code",
      "metadata": {
        "id": "rGdYg5t0ibsw",
        "colab": {
          "base_uri": "https://localhost:8080/"
        },
        "outputId": "d8078dca-73fd-4b6b-b2cf-756dbc081521"
      },
      "source": [
        "thislist = [\"apple\", \"banana\", \"cherry\"]\n",
        "thislist.insert(1, \"orange\")\n",
        "print(thislist)"
      ],
      "execution_count": null,
      "outputs": [
        {
          "output_type": "stream",
          "text": [
            "['apple', 'orange', 'banana', 'cherry']\n"
          ],
          "name": "stdout"
        }
      ]
    },
    {
      "cell_type": "markdown",
      "metadata": {
        "id": "kxoF3ckDikty"
      },
      "source": [
        "## Extend List\n",
        "To append elements from another list to the current list, use the extend() method."
      ]
    },
    {
      "cell_type": "code",
      "metadata": {
        "id": "ODQ-0iRhiiDl",
        "colab": {
          "base_uri": "https://localhost:8080/"
        },
        "outputId": "8c0c0080-ceda-4ee1-8d07-daf2967d296c"
      },
      "source": [
        "thislist = [\"apple\", \"banana\", \"cherry\"]\n",
        "tropical = [\"mango\", \"pineapple\", \"papaya\"]\n",
        "thislist.extend(tropical)\n",
        "print(thislist)"
      ],
      "execution_count": null,
      "outputs": [
        {
          "output_type": "stream",
          "text": [
            "['apple', 'banana', 'cherry', 'mango', 'pineapple', 'papaya']\n"
          ],
          "name": "stdout"
        }
      ]
    },
    {
      "cell_type": "markdown",
      "metadata": {
        "id": "BtYa_RKKitYj"
      },
      "source": [
        "The elements will be added to the end of the list."
      ]
    },
    {
      "cell_type": "markdown",
      "metadata": {
        "id": "bEVpv7XVixaB"
      },
      "source": [
        "## Add Any Iterable\n",
        "The extend() method does not have to append lists, you can add any iterable object (tuples, sets, dictionaries etc.)."
      ]
    },
    {
      "cell_type": "code",
      "metadata": {
        "id": "BAjH1CD_iqET",
        "colab": {
          "base_uri": "https://localhost:8080/"
        },
        "outputId": "0a464f38-98aa-45b0-ce67-ee12f055bd78"
      },
      "source": [
        "thislist = [\"apple\", \"banana\", \"cherry\"]\n",
        "thistuple = (\"kiwi\", \"orange\")\n",
        "thislist.extend(thistuple)\n",
        "print(thislist)"
      ],
      "execution_count": null,
      "outputs": [
        {
          "output_type": "stream",
          "text": [
            "['apple', 'banana', 'cherry', 'kiwi', 'orange']\n"
          ],
          "name": "stdout"
        }
      ]
    },
    {
      "cell_type": "markdown",
      "metadata": {
        "id": "1CeU1C6Ji6HE"
      },
      "source": [
        "## Remove Specified Item\n",
        "The remove() method removes the specified item."
      ]
    },
    {
      "cell_type": "code",
      "metadata": {
        "id": "z2OQpxPji2BN",
        "colab": {
          "base_uri": "https://localhost:8080/"
        },
        "outputId": "84123d3b-f380-49a6-e638-7c58cc283a99"
      },
      "source": [
        "thislist = [\"apple\", \"banana\", \"cherry\"]\n",
        "thislist.remove(\"banana\")\n",
        "print(thislist)"
      ],
      "execution_count": null,
      "outputs": [
        {
          "output_type": "stream",
          "text": [
            "['apple', 'cherry']\n"
          ],
          "name": "stdout"
        }
      ]
    },
    {
      "cell_type": "markdown",
      "metadata": {
        "id": "SxA4OfEzjAxz"
      },
      "source": [
        "## Remove Specified Index\n",
        "The pop() method removes the specified index."
      ]
    },
    {
      "cell_type": "code",
      "metadata": {
        "id": "E3p3vkwli-Rz",
        "colab": {
          "base_uri": "https://localhost:8080/"
        },
        "outputId": "6d52142f-23ab-485c-caf6-93d9e17f379b"
      },
      "source": [
        "thislist = [\"apple\", \"banana\", \"cherry\"]\n",
        "thislist.pop(1)\n",
        "print(thislist)"
      ],
      "execution_count": null,
      "outputs": [
        {
          "output_type": "stream",
          "text": [
            "['apple', 'cherry']\n"
          ],
          "name": "stdout"
        }
      ]
    },
    {
      "cell_type": "markdown",
      "metadata": {
        "id": "nxIFcQVCjIL9"
      },
      "source": [
        "If you do not specify the index, the pop() method removes the last item."
      ]
    },
    {
      "cell_type": "code",
      "metadata": {
        "id": "YV0fVG6fjE_m",
        "colab": {
          "base_uri": "https://localhost:8080/"
        },
        "outputId": "28d2234e-d4af-43cc-dd37-68aa261964e2"
      },
      "source": [
        "thislist = [\"apple\", \"banana\", \"cherry\"]\n",
        "thislist.pop()\n",
        "print(thislist)"
      ],
      "execution_count": null,
      "outputs": [
        {
          "output_type": "stream",
          "text": [
            "['apple', 'banana']\n"
          ],
          "name": "stdout"
        }
      ]
    },
    {
      "cell_type": "markdown",
      "metadata": {
        "id": "aNoId5SOjPgk"
      },
      "source": [
        "The del keyword also removes the specified index:"
      ]
    },
    {
      "cell_type": "code",
      "metadata": {
        "id": "PYHcXoHzjMJB",
        "colab": {
          "base_uri": "https://localhost:8080/"
        },
        "outputId": "bcec8b56-858c-454b-bf40-ece1258fd5a2"
      },
      "source": [
        "thislist = [\"apple\", \"banana\", \"cherry\"]\n",
        "del thislist[0]\n",
        "print(thislist)"
      ],
      "execution_count": null,
      "outputs": [
        {
          "output_type": "stream",
          "text": [
            "['banana', 'cherry']\n"
          ],
          "name": "stdout"
        }
      ]
    },
    {
      "cell_type": "markdown",
      "metadata": {
        "id": "SrGbIi0ijZdZ"
      },
      "source": [
        "The del keyword can also delete the list completely."
      ]
    },
    {
      "cell_type": "code",
      "metadata": {
        "id": "YfhdBsiRjTjA"
      },
      "source": [
        "thislist = [\"apple\", \"banana\", \"cherry\"]\n",
        "del thislist"
      ],
      "execution_count": null,
      "outputs": []
    },
    {
      "cell_type": "markdown",
      "metadata": {
        "id": "cPDICGN9jpue"
      },
      "source": [
        "## Clear the List\n",
        "The clear() method empties the list.\n",
        "\n",
        "The list still remains, but it has no content."
      ]
    },
    {
      "cell_type": "code",
      "metadata": {
        "id": "NPBFr3xBjkRC",
        "colab": {
          "base_uri": "https://localhost:8080/"
        },
        "outputId": "9d831c72-1b6b-4470-a7b3-e2ccb6107bf7"
      },
      "source": [
        "thislist = [\"apple\", \"banana\", \"cherry\"]\n",
        "thislist.clear()\n",
        "print(thislist)"
      ],
      "execution_count": null,
      "outputs": [
        {
          "output_type": "stream",
          "text": [
            "[]\n"
          ],
          "name": "stdout"
        }
      ]
    },
    {
      "cell_type": "markdown",
      "metadata": {
        "id": "6acdnKuoOP-P"
      },
      "source": [
        "## Python - Loop Lists"
      ]
    },
    {
      "cell_type": "markdown",
      "metadata": {
        "id": "KVX13uTvOWFY"
      },
      "source": [
        "## Loop Through a List\n",
        "You can loop through the list items by using a for loop:"
      ]
    },
    {
      "cell_type": "code",
      "metadata": {
        "id": "koMhJz4iODRO",
        "colab": {
          "base_uri": "https://localhost:8080/"
        },
        "outputId": "758d9de9-54ca-453d-9c4f-4f4eeb4e6cf1"
      },
      "source": [
        "thislist = [\"apple\", \"banana\", \"cherry\"]\n",
        "for x in thislist:\n",
        "  print(x)"
      ],
      "execution_count": null,
      "outputs": [
        {
          "output_type": "stream",
          "text": [
            "apple\n",
            "banana\n",
            "cherry\n"
          ],
          "name": "stdout"
        }
      ]
    },
    {
      "cell_type": "markdown",
      "metadata": {
        "id": "uhpVGHb3Osc_"
      },
      "source": [
        "## Loop Through the Index Numbers\n",
        "You can also loop through the list items by referring to their index number.\n",
        "\n",
        "Use the range() and len() functions to create a suitable iterable."
      ]
    },
    {
      "cell_type": "code",
      "metadata": {
        "id": "bIpDaIEQOVJy",
        "colab": {
          "base_uri": "https://localhost:8080/"
        },
        "outputId": "784044b0-502e-43b1-d750-8f33e8330d43"
      },
      "source": [
        "thislist = [\"apple\", \"banana\", \"cherry\"]\n",
        "for i in range(len(thislist)):\n",
        "  print(thislist[i])"
      ],
      "execution_count": null,
      "outputs": [
        {
          "output_type": "stream",
          "text": [
            "apple\n",
            "banana\n",
            "cherry\n"
          ],
          "name": "stdout"
        }
      ]
    },
    {
      "cell_type": "markdown",
      "metadata": {
        "id": "El23M0uMO3F7"
      },
      "source": [
        "The iterable created in the example above is [0, 1, 2]."
      ]
    },
    {
      "cell_type": "markdown",
      "metadata": {
        "id": "kt9rFsj2O6RS"
      },
      "source": [
        "## Using a While Loop\n",
        "You can loop through the list items by using a while loop.\n",
        "\n",
        "Use the len() function to determine the length of the list, then start at 0 and loop your way through the list items by refering to their indexes.\n",
        "\n",
        "Remember to increase the index by 1 after each iteration."
      ]
    },
    {
      "cell_type": "code",
      "metadata": {
        "id": "LIkG4_N5OyCJ",
        "colab": {
          "base_uri": "https://localhost:8080/"
        },
        "outputId": "4e244505-7c7c-4cfa-c61a-72ecfaff7c2d"
      },
      "source": [
        "thislist = [\"apple\", \"banana\", \"cherry\"]\n",
        "i = 0\n",
        "while i < len(thislist):\n",
        "  print(thislist[i])\n",
        "  i = i + 1"
      ],
      "execution_count": null,
      "outputs": [
        {
          "output_type": "stream",
          "text": [
            "apple\n",
            "banana\n",
            "cherry\n"
          ],
          "name": "stdout"
        }
      ]
    },
    {
      "cell_type": "markdown",
      "metadata": {
        "id": "SQs1__IEPG5c"
      },
      "source": [
        "## Looping Using List Comprehension\n",
        "List Comprehension offers the shortest syntax for looping through lists:"
      ]
    },
    {
      "cell_type": "code",
      "metadata": {
        "id": "-hvJbGH0O_Ga",
        "colab": {
          "base_uri": "https://localhost:8080/"
        },
        "outputId": "89660185-6cac-4f7d-b1b7-71c29d992b62"
      },
      "source": [
        "thislist = [\"apple\", \"banana\", \"cherry\"]\n",
        "[print(x) for x in thislist]"
      ],
      "execution_count": null,
      "outputs": [
        {
          "output_type": "stream",
          "text": [
            "apple\n",
            "banana\n",
            "cherry\n"
          ],
          "name": "stdout"
        },
        {
          "output_type": "execute_result",
          "data": {
            "text/plain": [
              "[None, None, None]"
            ]
          },
          "metadata": {
            "tags": []
          },
          "execution_count": 37
        }
      ]
    },
    {
      "cell_type": "markdown",
      "metadata": {
        "id": "SPdx4REyPSC0"
      },
      "source": [
        "## Python - List Comprehension"
      ]
    },
    {
      "cell_type": "markdown",
      "metadata": {
        "id": "eiVIJPfRPlK1"
      },
      "source": [
        "## List Comprehension\n",
        "List comprehension offers a shorter syntax when you want to create a new list based on the values of an existing list.\n",
        "\n",
        "Example:\n",
        "\n",
        "Based on a list of fruits, you want a new list, containing only the fruits with the letter \"a\" in the name.\n",
        "\n",
        "Without list comprehension you will have to write a for statement with a conditional test inside:"
      ]
    },
    {
      "cell_type": "code",
      "metadata": {
        "id": "MG-g6cOPPMAh",
        "colab": {
          "base_uri": "https://localhost:8080/"
        },
        "outputId": "b331e6d8-8a01-434a-9639-9f56da9b687d"
      },
      "source": [
        "fruits = [\"apple\", \"banana\", \"cherry\", \"kiwi\", \"mango\"]\n",
        "newlist = []\n",
        " \n",
        "for x in fruits:\n",
        "  if \"a\" in x:\n",
        "    newlist.append(x)\n",
        " \n",
        "print(newlist)"
      ],
      "execution_count": null,
      "outputs": [
        {
          "output_type": "stream",
          "text": [
            "['apple', 'banana', 'mango']\n"
          ],
          "name": "stdout"
        }
      ]
    },
    {
      "cell_type": "markdown",
      "metadata": {
        "id": "wr2LyBpnPwJ3"
      },
      "source": [
        "With list comprehension you can do all that with only one line of code:"
      ]
    },
    {
      "cell_type": "code",
      "metadata": {
        "id": "ZlsqTl0MPpW4",
        "colab": {
          "base_uri": "https://localhost:8080/"
        },
        "outputId": "ce4a9481-ee2f-4f57-8a04-d58b6ab89203"
      },
      "source": [
        "fruits = [\"apple\", \"banana\", \"cherry\", \"kiwi\", \"mango\"]\n",
        " \n",
        "newlist = [x for x in fruits if \"a\" in x]\n",
        " \n",
        "print(newlist)"
      ],
      "execution_count": null,
      "outputs": [
        {
          "output_type": "stream",
          "text": [
            "['apple', 'banana', 'mango']\n"
          ],
          "name": "stdout"
        }
      ]
    },
    {
      "cell_type": "markdown",
      "metadata": {
        "id": "HqetF81tQLOp"
      },
      "source": [
        "## The Syntax\n",
        "newlist = [expression `for` item `in` iterable `if` condition == `True`]\n",
        "\n",
        "The return value is a new list, leaving the old list unchanged."
      ]
    },
    {
      "cell_type": "markdown",
      "metadata": {
        "id": "f8nPTqf6Qq-P"
      },
      "source": [
        "## Condition\n",
        "The condition is like a filter that only accepts the items that valuate to True."
      ]
    },
    {
      "cell_type": "code",
      "metadata": {
        "id": "ldp_MoCcPzV0",
        "colab": {
          "base_uri": "https://localhost:8080/"
        },
        "outputId": "70b1cf8c-16c2-4b2a-e0fa-0c58739924d6"
      },
      "source": [
        "#Only accept items that are not \"apple\":\n",
        "newlist = [x for x in fruits if x != \"apple\"]\n",
        "newlist"
      ],
      "execution_count": null,
      "outputs": [
        {
          "output_type": "execute_result",
          "data": {
            "text/plain": [
              "['banana', 'cherry', 'kiwi', 'mango']"
            ]
          },
          "metadata": {
            "tags": []
          },
          "execution_count": 40
        }
      ]
    },
    {
      "cell_type": "markdown",
      "metadata": {
        "id": "mgBn5MpARKOR"
      },
      "source": [
        "The condition if x != \"apple\"  will return True for all elements other than \"apple\", making the new list contain all fruits except \"apple\"."
      ]
    },
    {
      "cell_type": "markdown",
      "metadata": {
        "id": "wJRmzxZwRNI1"
      },
      "source": [
        "The condition is optional and can be omitted:"
      ]
    },
    {
      "cell_type": "code",
      "metadata": {
        "id": "IuL-l60NQ-K5",
        "colab": {
          "base_uri": "https://localhost:8080/"
        },
        "outputId": "ea1f27fd-c617-4603-8fd4-131daf5f12ac"
      },
      "source": [
        "#With no if statement:\n",
        "newlist = [x for x in fruits]\n",
        "newlist"
      ],
      "execution_count": null,
      "outputs": [
        {
          "output_type": "execute_result",
          "data": {
            "text/plain": [
              "['apple', 'banana', 'cherry', 'kiwi', 'mango']"
            ]
          },
          "metadata": {
            "tags": []
          },
          "execution_count": 42
        }
      ]
    },
    {
      "cell_type": "markdown",
      "metadata": {
        "id": "kQS-yzhORWhY"
      },
      "source": [
        "## Iterable\n",
        "The iterable can be any iterable object, like a list, tuple, set etc."
      ]
    },
    {
      "cell_type": "code",
      "metadata": {
        "id": "EAYT6mxcRSSj",
        "colab": {
          "base_uri": "https://localhost:8080/"
        },
        "outputId": "fcd8a9b4-5069-488c-83a7-e2f8c84abae6"
      },
      "source": [
        "#You can use the range() function to create an iterable:\n",
        "newlist = [x for x in range(10)]\n",
        "newlist"
      ],
      "execution_count": null,
      "outputs": [
        {
          "output_type": "execute_result",
          "data": {
            "text/plain": [
              "[0, 1, 2, 3, 4, 5, 6, 7, 8, 9]"
            ]
          },
          "metadata": {
            "tags": []
          },
          "execution_count": 44
        }
      ]
    },
    {
      "cell_type": "markdown",
      "metadata": {
        "id": "YbK3XkfMRl0N"
      },
      "source": [
        "Same example, but with a condition:"
      ]
    },
    {
      "cell_type": "code",
      "metadata": {
        "id": "ztHGLmgCRh_j",
        "colab": {
          "base_uri": "https://localhost:8080/"
        },
        "outputId": "b71030e0-4071-4c60-c3d6-e1af5d0751e7"
      },
      "source": [
        "#Accept only numbers lower than 5:\n",
        "newlist = [x for x in range(10) if x < 5]\n",
        "newlist"
      ],
      "execution_count": null,
      "outputs": [
        {
          "output_type": "execute_result",
          "data": {
            "text/plain": [
              "[0, 1, 2, 3, 4]"
            ]
          },
          "metadata": {
            "tags": []
          },
          "execution_count": 45
        }
      ]
    },
    {
      "cell_type": "markdown",
      "metadata": {
        "id": "oo3HrELGRwhk"
      },
      "source": [
        "## Expression\n",
        "The expression is the current item in the iteration, but it is also the outcome, which you can manipulate before it ends up like a list item in the new list:"
      ]
    },
    {
      "cell_type": "code",
      "metadata": {
        "id": "ikqI89qoRsh6",
        "colab": {
          "base_uri": "https://localhost:8080/"
        },
        "outputId": "814e532e-0325-445c-d9a7-8d906859aa43"
      },
      "source": [
        "#Set the values in the new list to upper case:\n",
        "newlist = [x.upper() for x in fruits]\n",
        "newlist"
      ],
      "execution_count": null,
      "outputs": [
        {
          "output_type": "execute_result",
          "data": {
            "text/plain": [
              "['APPLE', 'BANANA', 'CHERRY', 'KIWI', 'MANGO']"
            ]
          },
          "metadata": {
            "tags": []
          },
          "execution_count": 46
        }
      ]
    },
    {
      "cell_type": "markdown",
      "metadata": {
        "id": "GltPoChiR8xf"
      },
      "source": [
        "You can set the outcome to whatever you like:"
      ]
    },
    {
      "cell_type": "code",
      "metadata": {
        "id": "5b4SNRjZR3Mn",
        "colab": {
          "base_uri": "https://localhost:8080/"
        },
        "outputId": "775f4c08-ad23-45c8-86fb-ce1f0e7e87d0"
      },
      "source": [
        "#Set all values in the new list to 'hello':\n",
        "newlist = ['hello' for x in fruits]\n",
        "newlist"
      ],
      "execution_count": null,
      "outputs": [
        {
          "output_type": "execute_result",
          "data": {
            "text/plain": [
              "['hello', 'hello', 'hello', 'hello', 'hello']"
            ]
          },
          "metadata": {
            "tags": []
          },
          "execution_count": 47
        }
      ]
    },
    {
      "cell_type": "markdown",
      "metadata": {
        "id": "Vcn3_dlaSLsb"
      },
      "source": [
        "The expression can also contain conditions, not like a filter, but as a way to manipulate the outcome:"
      ]
    },
    {
      "cell_type": "code",
      "metadata": {
        "id": "Fn6GJ8XiSB3Q",
        "colab": {
          "base_uri": "https://localhost:8080/"
        },
        "outputId": "5a66afe2-c36c-43a4-f6ca-10b53720988e"
      },
      "source": [
        "#Return \"orange\" instead of \"banana\":\n",
        "newlist = [x if x != \"banana\" else \"orange\" for x in fruits]\n",
        "newlist"
      ],
      "execution_count": null,
      "outputs": [
        {
          "output_type": "execute_result",
          "data": {
            "text/plain": [
              "['apple', 'orange', 'cherry', 'kiwi', 'mango']"
            ]
          },
          "metadata": {
            "tags": []
          },
          "execution_count": 48
        }
      ]
    },
    {
      "cell_type": "markdown",
      "metadata": {
        "id": "1yzS89pgSXy_"
      },
      "source": [
        "The expression in the example above says:\n",
        "\n",
        "\"Return the item if it is not banana, if it is banana return orange\".\n",
        "\n"
      ]
    },
    {
      "cell_type": "markdown",
      "metadata": {
        "id": "fzFoXTZFSdLw"
      },
      "source": [
        "## Python - Sort Lists"
      ]
    },
    {
      "cell_type": "markdown",
      "metadata": {
        "id": "6Pyvbx0hSoXq"
      },
      "source": [
        "## Sort List Alphanumerically\n",
        "List objects have a sort() method that will sort the list alphanumerically, ascending, by default:"
      ]
    },
    {
      "cell_type": "code",
      "metadata": {
        "id": "IcCfwH8PSSEC",
        "colab": {
          "base_uri": "https://localhost:8080/"
        },
        "outputId": "611c040f-282a-479d-8de0-2aa22fe57fbf"
      },
      "source": [
        "#Sort the list alphabetically:\n",
        "thislist = [\"orange\", \"mango\", \"kiwi\", \"pineapple\", \"banana\"]\n",
        "thislist.sort()\n",
        "print(thislist)"
      ],
      "execution_count": null,
      "outputs": [
        {
          "output_type": "stream",
          "text": [
            "['banana', 'kiwi', 'mango', 'orange', 'pineapple']\n"
          ],
          "name": "stdout"
        }
      ]
    },
    {
      "cell_type": "code",
      "metadata": {
        "id": "lRmWAZWoSzrj",
        "colab": {
          "base_uri": "https://localhost:8080/"
        },
        "outputId": "d6accf4e-c3d0-4f3f-d878-ff7644ad7b7f"
      },
      "source": [
        "#Sort the list numerically:\n",
        "thislist = [100, 50, 65, 82, 23]\n",
        "thislist.sort()\n",
        "print(thislist)"
      ],
      "execution_count": null,
      "outputs": [
        {
          "output_type": "stream",
          "text": [
            "[23, 50, 65, 82, 100]\n"
          ],
          "name": "stdout"
        }
      ]
    },
    {
      "cell_type": "markdown",
      "metadata": {
        "id": "4SaDrosETAPA"
      },
      "source": [
        "## Sort Descending\n",
        "To sort descending, use the keyword argument reverse = True:"
      ]
    },
    {
      "cell_type": "code",
      "metadata": {
        "id": "GUsThJfYS8go",
        "colab": {
          "base_uri": "https://localhost:8080/"
        },
        "outputId": "e1147b42-c374-45dc-fbe8-5aeff32d199f"
      },
      "source": [
        "thislist = [\"orange\", \"mango\", \"kiwi\", \"pineapple\", \"banana\"]\n",
        "thislist.sort(reverse = True)\n",
        "print(thislist)"
      ],
      "execution_count": null,
      "outputs": [
        {
          "output_type": "stream",
          "text": [
            "['pineapple', 'orange', 'mango', 'kiwi', 'banana']\n"
          ],
          "name": "stdout"
        }
      ]
    },
    {
      "cell_type": "code",
      "metadata": {
        "id": "KL7lpiJJTGNq",
        "colab": {
          "base_uri": "https://localhost:8080/"
        },
        "outputId": "2816ae34-6cf5-4479-d511-50b18666db2e"
      },
      "source": [
        "thislist = [100, 50, 65, 82, 23]\n",
        "thislist.sort(reverse = True)\n",
        "print(thislist)"
      ],
      "execution_count": null,
      "outputs": [
        {
          "output_type": "stream",
          "text": [
            "[100, 82, 65, 50, 23]\n"
          ],
          "name": "stdout"
        }
      ]
    },
    {
      "cell_type": "markdown",
      "metadata": {
        "id": "TdWG58chTQ9B"
      },
      "source": [
        "## Customize Sort Function\n",
        "You can also customize your own function by using the keyword argument `key = function.`\n",
        "\n",
        "The function will return a number that will be used to sort the list (the lowest number first):"
      ]
    },
    {
      "cell_type": "code",
      "metadata": {
        "id": "N4ndYqyNTKRj",
        "colab": {
          "base_uri": "https://localhost:8080/"
        },
        "outputId": "fa46395c-b354-4f99-a1be-11a5278e8802"
      },
      "source": [
        "#Sort the list based on how close the number is to 50:\n",
        "def myfunc(n):\n",
        "  return abs(n - 50)\n",
        " \n",
        "thislist = [100, 50, 65, 82, 23]\n",
        "thislist.sort(key = myfunc)\n",
        "print(thislist)"
      ],
      "execution_count": null,
      "outputs": [
        {
          "output_type": "stream",
          "text": [
            "[50, 65, 23, 82, 100]\n"
          ],
          "name": "stdout"
        }
      ]
    },
    {
      "cell_type": "markdown",
      "metadata": {
        "id": "lne8TEhwThIf"
      },
      "source": [
        "## Case Insensitive Sort\n",
        "By default the sort() method is case sensitive, resulting in all capital letters being sorted before lower case letters:"
      ]
    },
    {
      "cell_type": "code",
      "metadata": {
        "id": "If5Cg3ECTbCi",
        "colab": {
          "base_uri": "https://localhost:8080/"
        },
        "outputId": "4bc74c0e-85a2-401a-d754-18c031b1b29e"
      },
      "source": [
        "thislist = [\"banana\", \"Orange\", \"Kiwi\", \"cherry\"]\n",
        "thislist.sort()\n",
        "print(thislist)"
      ],
      "execution_count": null,
      "outputs": [
        {
          "output_type": "stream",
          "text": [
            "['Kiwi', 'Orange', 'banana', 'cherry']\n"
          ],
          "name": "stdout"
        }
      ]
    },
    {
      "cell_type": "markdown",
      "metadata": {
        "id": "7f0Rz6E2TsSK"
      },
      "source": [
        "Luckily we can use built-in functions as key functions when sorting a list.\n",
        "\n",
        "So if you want a case-insensitive sort function, use str.lower as a key function:"
      ]
    },
    {
      "cell_type": "code",
      "metadata": {
        "id": "rZ5KNjgETnFg",
        "colab": {
          "base_uri": "https://localhost:8080/"
        },
        "outputId": "1b9889cc-ac01-4371-976d-e7a5b8288c6f"
      },
      "source": [
        "#Perform a case-insensitive sort of the list:\n",
        "thislist = [\"banana\", \"Orange\", \"Kiwi\", \"cherry\"]\n",
        "thislist.sort(key = str.lower)\n",
        "print(thislist)"
      ],
      "execution_count": null,
      "outputs": [
        {
          "output_type": "stream",
          "text": [
            "['banana', 'cherry', 'Kiwi', 'Orange']\n"
          ],
          "name": "stdout"
        }
      ]
    },
    {
      "cell_type": "markdown",
      "metadata": {
        "id": "XhWkrdP0T1Cq"
      },
      "source": [
        "## Reverse Order\n",
        "What if you want to reverse the order of a list, regardless of the alphabet?\n",
        "\n",
        "The reverse() method reverses the current sorting order of the elements."
      ]
    },
    {
      "cell_type": "markdown",
      "metadata": {
        "id": "941hyTLiT61u"
      },
      "source": [
        "Reverse the order of the list items:"
      ]
    },
    {
      "cell_type": "code",
      "metadata": {
        "id": "MxktFwUPTxq3",
        "colab": {
          "base_uri": "https://localhost:8080/"
        },
        "outputId": "0e268951-afc1-4c23-9763-8af3926c3f43"
      },
      "source": [
        "thislist = [\"banana\", \"Orange\", \"Kiwi\", \"cherry\"]\n",
        "thislist.reverse()\n",
        "print(thislist)"
      ],
      "execution_count": null,
      "outputs": [
        {
          "output_type": "stream",
          "text": [
            "['cherry', 'Kiwi', 'Orange', 'banana']\n"
          ],
          "name": "stdout"
        }
      ]
    },
    {
      "cell_type": "markdown",
      "metadata": {
        "id": "Kp7KMSWWUNBT"
      },
      "source": [
        "## Python - Copy Lists\n"
      ]
    },
    {
      "cell_type": "markdown",
      "metadata": {
        "id": "_v4wRNBrURXA"
      },
      "source": [
        "## Copy a List\n",
        "You cannot copy a list simply by typing list2 = list1, because: list2 will only be a reference to list1, and changes made in list1 will automatically also be made in list2.\n",
        "\n",
        "There are ways to make a copy, one way is to use the built-in List method copy()."
      ]
    },
    {
      "cell_type": "code",
      "metadata": {
        "id": "P4sJLkzpT9IR",
        "colab": {
          "base_uri": "https://localhost:8080/"
        },
        "outputId": "dcc834ee-980f-460b-c7f4-d1e2de91c62f"
      },
      "source": [
        "#Make a copy of a list with the copy() method:\n",
        "thislist = [\"apple\", \"banana\", \"cherry\"]\n",
        "mylist = thislist.copy()\n",
        "print(mylist)"
      ],
      "execution_count": null,
      "outputs": [
        {
          "output_type": "stream",
          "text": [
            "['apple', 'banana', 'cherry']\n"
          ],
          "name": "stdout"
        }
      ]
    },
    {
      "cell_type": "markdown",
      "metadata": {
        "id": "jPcPU-WwUdZ_"
      },
      "source": [
        "Another way to make a copy is to use the built-in method list().\n",
        "\n",
        "Example"
      ]
    },
    {
      "cell_type": "code",
      "metadata": {
        "id": "KPmDqQ_YUZ1z",
        "colab": {
          "base_uri": "https://localhost:8080/"
        },
        "outputId": "4fc4489c-359e-469f-a582-3daf65c873e6"
      },
      "source": [
        "#Make a copy of a list with the list() method:\n",
        "thislist = [\"apple\", \"banana\", \"cherry\"]\n",
        "mylist = list(thislist)\n",
        "print(mylist)"
      ],
      "execution_count": null,
      "outputs": [
        {
          "output_type": "stream",
          "text": [
            "['apple', 'banana', 'cherry']\n"
          ],
          "name": "stdout"
        }
      ]
    },
    {
      "cell_type": "markdown",
      "metadata": {
        "id": "S0rgkSwxUnvU"
      },
      "source": [
        "## Python - Join Lists"
      ]
    },
    {
      "cell_type": "markdown",
      "metadata": {
        "id": "rhwSfW2DUvIO"
      },
      "source": [
        "## Join Two Lists\n",
        "There are several ways to join, or concatenate, two or more lists in Python.\n",
        "\n",
        "One of the easiest ways are by using the + operator."
      ]
    },
    {
      "cell_type": "code",
      "metadata": {
        "id": "up2VKMeqUiOK",
        "colab": {
          "base_uri": "https://localhost:8080/"
        },
        "outputId": "08aff3af-ec32-48b0-ca53-8087949a96e1"
      },
      "source": [
        "list1 = [\"a\", \"b\", \"c\"]\n",
        "list2 = [1, 2, 3]\n",
        " \n",
        "list3 = list1 + list2\n",
        "print(list3)"
      ],
      "execution_count": null,
      "outputs": [
        {
          "output_type": "stream",
          "text": [
            "['a', 'b', 'c', 1, 2, 3]\n"
          ],
          "name": "stdout"
        }
      ]
    },
    {
      "cell_type": "code",
      "metadata": {
        "id": "FSfL39waU1AJ",
        "colab": {
          "base_uri": "https://localhost:8080/"
        },
        "outputId": "ee0df56c-9a33-44f2-d919-c4a36c0d3eff"
      },
      "source": [
        "#Append list2 into list1:\n",
        "list1 = [\"a\", \"b\" , \"c\"]\n",
        "list2 = [1, 2, 3]\n",
        " \n",
        "for x in list2:\n",
        "  list1.append(x)\n",
        " \n",
        "print(list1)"
      ],
      "execution_count": null,
      "outputs": [
        {
          "output_type": "stream",
          "text": [
            "['a', 'b', 'c', 1, 2, 3]\n"
          ],
          "name": "stdout"
        }
      ]
    },
    {
      "cell_type": "markdown",
      "metadata": {
        "id": "V1SqB6F3VAk2"
      },
      "source": [
        "Or you can use the extend() method, which purpose is to add elements from one list to another list:"
      ]
    },
    {
      "cell_type": "code",
      "metadata": {
        "id": "jiqXHIe4U8Xw",
        "colab": {
          "base_uri": "https://localhost:8080/"
        },
        "outputId": "48ed5b00-b1dc-4416-ea4e-1d92a607b3c7"
      },
      "source": [
        "#Use the extend() method to add list2 at the end of list1:\n",
        "list1 = [\"a\", \"b\" , \"c\"]\n",
        "list2 = [1, 2, 3]\n",
        " \n",
        "list1.extend(list2)\n",
        "print(list1)"
      ],
      "execution_count": null,
      "outputs": [
        {
          "output_type": "stream",
          "text": [
            "['a', 'b', 'c', 1, 2, 3]\n"
          ],
          "name": "stdout"
        }
      ]
    },
    {
      "cell_type": "markdown",
      "metadata": {
        "id": "n86-z3WHVMLW"
      },
      "source": [
        "List methods reference- [w3schools.com/python/python_lists_methods.asp](w3schools.com/python/python_lists_methods.asp)"
      ]
    },
    {
      "cell_type": "markdown",
      "metadata": {
        "id": "abZNv-P7WIzW"
      },
      "source": [
        "#Tuple methods"
      ]
    },
    {
      "cell_type": "code",
      "metadata": {
        "id": "E5M-yyCUVsOR"
      },
      "source": [
        ""
      ],
      "execution_count": null,
      "outputs": []
    },
    {
      "cell_type": "markdown",
      "metadata": {
        "id": "7CzKAUYNWT0Z"
      },
      "source": [
        "## Tuple\n",
        "Tuples are used to store multiple items in a single variable.\n",
        "\n",
        "Tuple is one of 4 built-in data types in Python used to store collections of data, the other 3 are List, Set, and Dictionary, all with different qualities and usage.\n",
        "\n",
        "A tuple is a collection which is ordered and unchangeable.\n",
        "\n",
        "Tuples are written with round brackets."
      ]
    },
    {
      "cell_type": "code",
      "metadata": {
        "id": "Gffk-AXZVFok",
        "colab": {
          "base_uri": "https://localhost:8080/"
        },
        "outputId": "b5a34a57-753e-4982-ea55-862305181111"
      },
      "source": [
        "thistuple = (\"apple\", \"banana\", \"cherry\")\n",
        "print(thistuple)"
      ],
      "execution_count": null,
      "outputs": [
        {
          "output_type": "stream",
          "text": [
            "('apple', 'banana', 'cherry')\n"
          ],
          "name": "stdout"
        }
      ]
    },
    {
      "cell_type": "markdown",
      "metadata": {
        "id": "Mc4GxaHBWdNW"
      },
      "source": [
        "## Tuple Items\n",
        "Tuple items are ordered, unchangeable, and allow duplicate values.\n",
        "\n",
        "Tuple items are indexed, the first item has index [0], the second item has index [1] etc."
      ]
    },
    {
      "cell_type": "markdown",
      "metadata": {
        "id": "eRkl2orWWiBF"
      },
      "source": [
        "## Ordered\n",
        "When we say that tuples are ordered, it means that the items have a defined order, and that order will not change."
      ]
    },
    {
      "cell_type": "markdown",
      "metadata": {
        "id": "TpuYcRaXWn1w"
      },
      "source": [
        "## Unchangeable\n",
        "Tuples are unchangeable, meaning that we cannot change, add or remove items after the tuple has been created.\n",
        "\n"
      ]
    },
    {
      "cell_type": "markdown",
      "metadata": {
        "id": "972ZRHuEWsAd"
      },
      "source": [
        "##Allow Duplicates\n",
        "Since tuples are indexed, they can have items with the same value:"
      ]
    },
    {
      "cell_type": "code",
      "metadata": {
        "id": "rlaLSgeLWZXM",
        "colab": {
          "base_uri": "https://localhost:8080/"
        },
        "outputId": "1a456266-dc08-489c-dd80-45af351eaf7f"
      },
      "source": [
        "#Tuples allow duplicate values:\n",
        "thistuple = (\"apple\", \"banana\", \"cherry\", \"apple\", \"cherry\")\n",
        "print(thistuple)"
      ],
      "execution_count": null,
      "outputs": [
        {
          "output_type": "stream",
          "text": [
            "('apple', 'banana', 'cherry', 'apple', 'cherry')\n"
          ],
          "name": "stdout"
        }
      ]
    },
    {
      "cell_type": "markdown",
      "metadata": {
        "id": "CQCKE02XW6XW"
      },
      "source": [
        "## Tuple Length\n",
        "To determine how many items a tuple has, use the len() function:"
      ]
    },
    {
      "cell_type": "code",
      "metadata": {
        "id": "q9R2AXhLWyxa",
        "colab": {
          "base_uri": "https://localhost:8080/"
        },
        "outputId": "ba4ebfe2-8898-4b51-ddcc-24c8aff07243"
      },
      "source": [
        "thistuple = (\"apple\", \"banana\", \"cherry\")\n",
        "print(len(thistuple))"
      ],
      "execution_count": null,
      "outputs": [
        {
          "output_type": "stream",
          "text": [
            "3\n"
          ],
          "name": "stdout"
        }
      ]
    },
    {
      "cell_type": "markdown",
      "metadata": {
        "id": "qIR6qucQXDhb"
      },
      "source": [
        "## Create Tuple With One Item\n",
        "To create a tuple with only one item, you have to add a comma after the item, otherwise Python will not recognize it as a tuple."
      ]
    },
    {
      "cell_type": "code",
      "metadata": {
        "id": "doZSmBdWW-xB",
        "colab": {
          "base_uri": "https://localhost:8080/"
        },
        "outputId": "b099cc4b-5ca1-4241-ac00-6a3fed7b633d"
      },
      "source": [
        "#One item tuple, remember the comma:\n",
        "thistuple = (\"apple\",)\n",
        "print(type(thistuple))\n",
        " \n",
        "#NOT a tuple\n",
        "thistuple = (\"apple\")\n",
        "print(type(thistuple))"
      ],
      "execution_count": null,
      "outputs": [
        {
          "output_type": "stream",
          "text": [
            "<class 'tuple'>\n",
            "<class 'str'>\n"
          ],
          "name": "stdout"
        }
      ]
    },
    {
      "cell_type": "markdown",
      "metadata": {
        "id": "95dFncpuXRv5"
      },
      "source": [
        "## Tuple Items - Data Types\n",
        "Tuple items can be of any data type:"
      ]
    },
    {
      "cell_type": "code",
      "metadata": {
        "id": "l-t4JASLXMlq",
        "colab": {
          "base_uri": "https://localhost:8080/"
        },
        "outputId": "d4315601-0bb6-443b-ba63-933d51a3aa2e"
      },
      "source": [
        "#String, int and boolean data types:\n",
        "tuple1 = (\"apple\", \"banana\", \"cherry\")\n",
        "tuple2 = (1, 5, 7, 9, 3)\n",
        "tuple3 = (True, False, False)\n",
        "print(tuple1)\n",
        "print(tuple2)\n",
        "print(tuple3)"
      ],
      "execution_count": null,
      "outputs": [
        {
          "output_type": "stream",
          "text": [
            "('apple', 'banana', 'cherry')\n",
            "(1, 5, 7, 9, 3)\n",
            "(True, False, False)\n"
          ],
          "name": "stdout"
        }
      ]
    },
    {
      "cell_type": "markdown",
      "metadata": {
        "id": "WcLeIufYXpkX"
      },
      "source": [
        "A tuple can contain different data types:"
      ]
    },
    {
      "cell_type": "code",
      "metadata": {
        "id": "wTGlBxrCXqbY",
        "colab": {
          "base_uri": "https://localhost:8080/"
        },
        "outputId": "25c99ce7-d1ed-4e47-d4ad-5ef183f55591"
      },
      "source": [
        "tuple1 = (\"abc\", 34, True, 40, \"male\")\n",
        "tuple1"
      ],
      "execution_count": null,
      "outputs": [
        {
          "output_type": "execute_result",
          "data": {
            "text/plain": [
              "('abc', 34, True, 40, 'male')"
            ]
          },
          "metadata": {
            "tags": []
          },
          "execution_count": 72
        }
      ]
    },
    {
      "cell_type": "markdown",
      "metadata": {
        "id": "bdD-VzI5X2Yy"
      },
      "source": [
        "## The tuple() Constructor\n",
        "It is also possible to use the tuple() constructor to make a tuple."
      ]
    },
    {
      "cell_type": "code",
      "metadata": {
        "id": "QCJKX9SAXw0b",
        "colab": {
          "base_uri": "https://localhost:8080/"
        },
        "outputId": "11f4f865-9da3-451c-8da3-982b79cd372b"
      },
      "source": [
        "#Using the tuple() method to make a tuple:\n",
        "thistuple = tuple((\"apple\", \"banana\", \"cherry\")) # note the double round-brackets\n",
        "print(thistuple)"
      ],
      "execution_count": null,
      "outputs": [
        {
          "output_type": "stream",
          "text": [
            "('apple', 'banana', 'cherry')\n"
          ],
          "name": "stdout"
        }
      ]
    },
    {
      "cell_type": "markdown",
      "metadata": {
        "id": "MVnLKNX9YOIb"
      },
      "source": [
        "## Python - Access Tuple Items"
      ]
    },
    {
      "cell_type": "markdown",
      "metadata": {
        "id": "58mV09AYYSo5"
      },
      "source": [
        "## Access Tuple Items\n",
        "You can access tuple items by referring to the index number, inside square brackets:"
      ]
    },
    {
      "cell_type": "code",
      "metadata": {
        "id": "GpkbMCxAYBuz",
        "colab": {
          "base_uri": "https://localhost:8080/"
        },
        "outputId": "03f37ee2-1d5e-44ad-ffef-f18968352091"
      },
      "source": [
        "thistuple = (\"apple\", \"banana\", \"cherry\")\n",
        "print(thistuple[1])"
      ],
      "execution_count": null,
      "outputs": [
        {
          "output_type": "stream",
          "text": [
            "banana\n"
          ],
          "name": "stdout"
        }
      ]
    },
    {
      "cell_type": "markdown",
      "metadata": {
        "id": "Qxe7n3eeYhdK"
      },
      "source": [
        "Note: The first item has index 0."
      ]
    },
    {
      "cell_type": "markdown",
      "metadata": {
        "id": "dcvnbevoYkWF"
      },
      "source": [
        "## Negative Indexing\n",
        "Negative indexing means start from the end.\n",
        "\n",
        "-1 refers to the last item, -2 refers to the second last item etc."
      ]
    },
    {
      "cell_type": "code",
      "metadata": {
        "id": "C8p8ble6Yca7",
        "colab": {
          "base_uri": "https://localhost:8080/"
        },
        "outputId": "8ad5ed7b-83a1-49e5-b910-2d551f7a6385"
      },
      "source": [
        "thistuple = (\"apple\", \"banana\", \"cherry\")\n",
        "print(thistuple[-1])"
      ],
      "execution_count": null,
      "outputs": [
        {
          "output_type": "stream",
          "text": [
            "cherry\n"
          ],
          "name": "stdout"
        }
      ]
    },
    {
      "cell_type": "markdown",
      "metadata": {
        "id": "8GugBdt8Yrs0"
      },
      "source": [
        "## Range of Indexes\n",
        "You can specify a range of indexes by specifying where to start and where to end the range.\n",
        "\n",
        "When specifying a range, the return value will be a new tuple with the specified items.\n",
        "\n",
        "Example"
      ]
    },
    {
      "cell_type": "code",
      "metadata": {
        "id": "ILIFPEu2Yonf",
        "colab": {
          "base_uri": "https://localhost:8080/"
        },
        "outputId": "ca68ac33-feb5-4dbb-e09d-71c7c11da65e"
      },
      "source": [
        "thistuple = (\"apple\", \"banana\", \"cherry\", \"orange\", \"kiwi\", \"melon\", \"mango\")\n",
        "print(thistuple[2:5])"
      ],
      "execution_count": null,
      "outputs": [
        {
          "output_type": "stream",
          "text": [
            "('cherry', 'orange', 'kiwi')\n"
          ],
          "name": "stdout"
        }
      ]
    },
    {
      "cell_type": "markdown",
      "metadata": {
        "id": "EUNFzQjnYym_"
      },
      "source": [
        "Note: The search will start at index 2 (included) and end at index 5 (not included)."
      ]
    },
    {
      "cell_type": "markdown",
      "metadata": {
        "id": "1TtBfaBlZBYQ"
      },
      "source": [
        "By leaving out the start value, the range will start at the first item:"
      ]
    },
    {
      "cell_type": "code",
      "metadata": {
        "id": "3NCD3UQJYvQq",
        "colab": {
          "base_uri": "https://localhost:8080/"
        },
        "outputId": "bc5d7de6-a1cd-4356-d060-1ba3a7452ab8"
      },
      "source": [
        "#This example returns the items from the beginning to, but NOT included, \"kiwi\":\n",
        "thistuple = (\"apple\", \"banana\", \"cherry\", \"orange\", \"kiwi\", \"melon\", \"mango\")\n",
        "print(thistuple[:4])"
      ],
      "execution_count": null,
      "outputs": [
        {
          "output_type": "stream",
          "text": [
            "('apple', 'banana', 'cherry', 'orange')\n"
          ],
          "name": "stdout"
        }
      ]
    },
    {
      "cell_type": "markdown",
      "metadata": {
        "id": "ft1ZDVZ7ZNQ_"
      },
      "source": [
        "By leaving out the end value, the range will go on to the end of the list:"
      ]
    },
    {
      "cell_type": "code",
      "metadata": {
        "id": "Cr9KAKzGY7Mc",
        "colab": {
          "base_uri": "https://localhost:8080/"
        },
        "outputId": "10346264-5233-40b9-c03f-2f000700fe10"
      },
      "source": [
        "#This example returns the items from \"cherry\" and to the end:\n",
        "thistuple = (\"apple\", \"banana\", \"cherry\", \"orange\", \"kiwi\", \"melon\", \"mango\")\n",
        "print(thistuple[2:])"
      ],
      "execution_count": null,
      "outputs": [
        {
          "output_type": "stream",
          "text": [
            "('cherry', 'orange', 'kiwi', 'melon', 'mango')\n"
          ],
          "name": "stdout"
        }
      ]
    },
    {
      "cell_type": "markdown",
      "metadata": {
        "id": "_Q4DbAS6ZX6p"
      },
      "source": [
        "## Range of Negative Indexes\n",
        "Specify negative indexes if you want to start the search from the end of the tuple:"
      ]
    },
    {
      "cell_type": "markdown",
      "metadata": {
        "id": "uT8fS9YOZbLf"
      },
      "source": [
        "This example returns the items from index -4 (included) to index -1 (excluded)"
      ]
    },
    {
      "cell_type": "code",
      "metadata": {
        "id": "wWVxFs9TZT4H",
        "colab": {
          "base_uri": "https://localhost:8080/"
        },
        "outputId": "4ab171ca-cf58-4d88-a19c-8ca8e3e6c641"
      },
      "source": [
        "thistuple = (\"apple\", \"banana\", \"cherry\", \"orange\", \"kiwi\", \"melon\", \"mango\")\n",
        "print(thistuple[-4:-1])"
      ],
      "execution_count": null,
      "outputs": [
        {
          "output_type": "stream",
          "text": [
            "('orange', 'kiwi', 'melon')\n"
          ],
          "name": "stdout"
        }
      ]
    },
    {
      "cell_type": "markdown",
      "metadata": {
        "id": "YLQnl_J3ZgKc"
      },
      "source": [
        "## Check if Item Exists\n",
        "To determine if a specified item is present in a tuple use the in keyword:"
      ]
    },
    {
      "cell_type": "code",
      "metadata": {
        "id": "Ld4t8hEdZdoB",
        "colab": {
          "base_uri": "https://localhost:8080/"
        },
        "outputId": "6286325d-17b2-45ea-f6eb-f2ab42133b55"
      },
      "source": [
        "thistuple = (\"apple\", \"banana\", \"cherry\")\n",
        "if \"apple\" in thistuple:\n",
        "  print(\"Yes, 'apple' is in the fruits tuple\")"
      ],
      "execution_count": null,
      "outputs": [
        {
          "output_type": "stream",
          "text": [
            "Yes, 'apple' is in the fruits tuple\n"
          ],
          "name": "stdout"
        }
      ]
    },
    {
      "cell_type": "markdown",
      "metadata": {
        "id": "4RT_QlV5Zotf"
      },
      "source": [
        "## Python - Update Tuples"
      ]
    },
    {
      "cell_type": "markdown",
      "metadata": {
        "id": "t4b6vZ1uZxoo"
      },
      "source": [
        "Tuples are unchangeable, meaning that you cannot change, add, or remove items once the tuple is created.\n",
        "\n",
        "But there are some workarounds.\n",
        "\n"
      ]
    },
    {
      "cell_type": "markdown",
      "metadata": {
        "id": "hLZ0yauvZ1p9"
      },
      "source": [
        "## Change Tuple Values\n",
        "Once a tuple is created, you cannot change its values. Tuples are unchangeable, or immutable as it also is called.\n",
        "\n",
        "But there is a workaround. You can convert the tuple into a list, change the list, and convert the list back into a tuple."
      ]
    },
    {
      "cell_type": "code",
      "metadata": {
        "id": "IozVjmQUZj_O",
        "colab": {
          "base_uri": "https://localhost:8080/"
        },
        "outputId": "0b14ad91-4cad-4e04-c634-129a9ca9758c"
      },
      "source": [
        "x = (\"apple\", \"banana\", \"cherry\")\n",
        "y = list(x)\n",
        "y[1] = \"kiwi\"\n",
        "x = tuple(y)\n",
        " \n",
        "print(x)"
      ],
      "execution_count": null,
      "outputs": [
        {
          "output_type": "stream",
          "text": [
            "('apple', 'kiwi', 'cherry')\n"
          ],
          "name": "stdout"
        }
      ]
    },
    {
      "cell_type": "markdown",
      "metadata": {
        "id": "xfX17Iq8Z98T"
      },
      "source": [
        "## Add Items\n",
        "Once a tuple is created, you cannot add items to it."
      ]
    },
    {
      "cell_type": "code",
      "metadata": {
        "id": "jHnSmePcZ6Hp",
        "colab": {
          "base_uri": "https://localhost:8080/"
        },
        "outputId": "68c5dfab-0af2-4ec8-abd9-53e486ff53ee"
      },
      "source": [
        "thistuple = (\"apple\", \"banana\", \"cherry\")\n",
        "#thistuple.append(\"orange\") # This will raise an error\n",
        "print(thistuple)"
      ],
      "execution_count": null,
      "outputs": [
        {
          "output_type": "stream",
          "text": [
            "('apple', 'banana', 'cherry')\n"
          ],
          "name": "stdout"
        }
      ]
    },
    {
      "cell_type": "markdown",
      "metadata": {
        "id": "U-IwCM68aaal"
      },
      "source": [
        "## Remove Items"
      ]
    },
    {
      "cell_type": "markdown",
      "metadata": {
        "id": "HnelkkaFadc3"
      },
      "source": [
        "Tuples are unchangeable, so you cannot remove items from it, but you can use the same workaround as we used for changing and adding tuple items:"
      ]
    },
    {
      "cell_type": "code",
      "metadata": {
        "id": "RPOxtpvOaCWk",
        "colab": {
          "base_uri": "https://localhost:8080/"
        },
        "outputId": "d05d5e4f-8e48-4555-ecdf-3f2ac4bf20ac"
      },
      "source": [
        "thistuple = (\"apple\", \"banana\", \"cherry\")\n",
        "y = list(thistuple)\n",
        "y.remove(\"apple\")\n",
        "thistuple = tuple(y)\n",
        "thistuple"
      ],
      "execution_count": null,
      "outputs": [
        {
          "output_type": "execute_result",
          "data": {
            "text/plain": [
              "('banana', 'cherry')"
            ]
          },
          "metadata": {
            "tags": []
          },
          "execution_count": 85
        }
      ]
    },
    {
      "cell_type": "markdown",
      "metadata": {
        "id": "MUAWmQb1ansy"
      },
      "source": [
        "Or you can delete the tuple completely:"
      ]
    },
    {
      "cell_type": "code",
      "metadata": {
        "id": "yY3qWl13agby"
      },
      "source": [
        "thistuple = (\"apple\", \"banana\", \"cherry\")\n",
        "del thistuple\n",
        "#print(thistuple) #this will raise an error because the tuple no longer exists"
      ],
      "execution_count": null,
      "outputs": []
    },
    {
      "cell_type": "markdown",
      "metadata": {
        "id": "WqTwVnI3a1VU"
      },
      "source": [
        "## Python - Unpack Tuples"
      ]
    },
    {
      "cell_type": "markdown",
      "metadata": {
        "id": "WszcR1Q3a6hK"
      },
      "source": [
        "## Unpacking a Tuple\n",
        "When we create a tuple, we normally assign values to it. This is called \"packing\" a tuple:"
      ]
    },
    {
      "cell_type": "code",
      "metadata": {
        "id": "vYPv3lnMaqlK",
        "colab": {
          "base_uri": "https://localhost:8080/"
        },
        "outputId": "824b39b5-6ddb-461f-e5b4-8972b6278120"
      },
      "source": [
        "#Packing a tuple:\n",
        "fruits = (\"apple\", \"banana\", \"cherry\")\n",
        "fruits"
      ],
      "execution_count": null,
      "outputs": [
        {
          "output_type": "execute_result",
          "data": {
            "text/plain": [
              "('apple', 'banana', 'cherry')"
            ]
          },
          "metadata": {
            "tags": []
          },
          "execution_count": 89
        }
      ]
    },
    {
      "cell_type": "markdown",
      "metadata": {
        "id": "bj58TzT7bHvi"
      },
      "source": [
        "But, in Python, we are also allowed to extract the values back into variables. This is called \"unpacking\":"
      ]
    },
    {
      "cell_type": "code",
      "metadata": {
        "id": "QEq1iADqbAiK",
        "colab": {
          "base_uri": "https://localhost:8080/"
        },
        "outputId": "792a7c54-76b9-449c-8b34-77c48eaa886b"
      },
      "source": [
        "#Unpacking a tuple:\n",
        "fruits = (\"apple\", \"banana\", \"cherry\")\n",
        " \n",
        "(green, yellow, red) = fruits\n",
        " \n",
        "print(green)\n",
        "print(yellow)\n",
        "print(red)"
      ],
      "execution_count": null,
      "outputs": [
        {
          "output_type": "stream",
          "text": [
            "apple\n",
            "banana\n",
            "cherry\n"
          ],
          "name": "stdout"
        }
      ]
    },
    {
      "cell_type": "markdown",
      "metadata": {
        "id": "h_F4Y6dhbRKh"
      },
      "source": [
        "## Using Asterisk`*`\n",
        "If the number of variables is less than the number of values, you can add an * to the variable name and the values will be assigned to the variable as a list:"
      ]
    },
    {
      "cell_type": "code",
      "metadata": {
        "id": "s9itVULFbMB0",
        "colab": {
          "base_uri": "https://localhost:8080/"
        },
        "outputId": "843123d8-a0f8-42fb-a0aa-b041d1e6b7d8"
      },
      "source": [
        "#Assign the rest of the values as a list called \"red\":\n",
        "fruits = (\"apple\", \"banana\", \"cherry\", \"strawberry\", \"raspberry\")\n",
        " \n",
        "(green, yellow, *red) = fruits\n",
        " \n",
        "print(green)\n",
        "print(yellow)\n",
        "print(red)"
      ],
      "execution_count": null,
      "outputs": [
        {
          "output_type": "stream",
          "text": [
            "apple\n",
            "banana\n",
            "['cherry', 'strawberry', 'raspberry']\n"
          ],
          "name": "stdout"
        }
      ]
    },
    {
      "cell_type": "markdown",
      "metadata": {
        "id": "EJaq_Z7CbjOz"
      },
      "source": [
        "If the asterix is added to another variable name than the last, Python will assign values to the variable until the number of values left matches the number of variables left."
      ]
    },
    {
      "cell_type": "code",
      "metadata": {
        "id": "TI2sgdOgbeWS",
        "colab": {
          "base_uri": "https://localhost:8080/"
        },
        "outputId": "77798ea5-d8e1-49d0-b8ef-e56f9b6ceaa4"
      },
      "source": [
        "#Add a list of values the \"tropic\" variable:\n",
        "fruits = (\"apple\", \"mango\", \"papaya\", \"pineapple\", \"cherry\")\n",
        " \n",
        "(green, *tropic, red) = fruits\n",
        " \n",
        "print(green)\n",
        "print(tropic)\n",
        "print(red)"
      ],
      "execution_count": null,
      "outputs": [
        {
          "output_type": "stream",
          "text": [
            "apple\n",
            "['mango', 'papaya', 'pineapple']\n",
            "cherry\n"
          ],
          "name": "stdout"
        }
      ]
    },
    {
      "cell_type": "markdown",
      "metadata": {
        "id": "gYjUES5ob4I6"
      },
      "source": [
        "## Python - Loop Tuples"
      ]
    },
    {
      "cell_type": "markdown",
      "metadata": {
        "id": "swjkeBO2b98L"
      },
      "source": [
        "## Loop Through a Tuple\n",
        "You can loop through the tuple items by using a for loop."
      ]
    },
    {
      "cell_type": "code",
      "metadata": {
        "id": "VC2nOEkbbsVE",
        "colab": {
          "base_uri": "https://localhost:8080/"
        },
        "outputId": "c94776f7-55c7-4875-f068-0c0c0bd60b52"
      },
      "source": [
        "#Iterate through the items and print the values:\n",
        "thistuple = (\"apple\", \"banana\", \"cherry\")\n",
        "for x in thistuple:\n",
        "  print(x)"
      ],
      "execution_count": null,
      "outputs": [
        {
          "output_type": "stream",
          "text": [
            "apple\n",
            "banana\n",
            "cherry\n"
          ],
          "name": "stdout"
        }
      ]
    },
    {
      "cell_type": "markdown",
      "metadata": {
        "id": "6cVl6kDecI-2"
      },
      "source": [
        "## Loop Through the Index Numbers\n",
        "You can also loop through the tuple items by referring to their index number.\n",
        "\n",
        "Use the range() and len() functions to create a suitable iterable."
      ]
    },
    {
      "cell_type": "code",
      "metadata": {
        "id": "jq5u5JcvcEa5",
        "colab": {
          "base_uri": "https://localhost:8080/"
        },
        "outputId": "76cad9c3-5413-465c-8814-5bed6df6e3a0"
      },
      "source": [
        "thistuple = (\"apple\", \"banana\", \"cherry\")\n",
        "for i in range(len(thistuple)):\n",
        "  print(thistuple[i])"
      ],
      "execution_count": null,
      "outputs": [
        {
          "output_type": "stream",
          "text": [
            "apple\n",
            "banana\n",
            "cherry\n"
          ],
          "name": "stdout"
        }
      ]
    },
    {
      "cell_type": "markdown",
      "metadata": {
        "id": "KRfKa-mZcQns"
      },
      "source": [
        "## Using a While Loop\n",
        "You can loop through the list items by using a while loop.\n",
        "\n",
        "Use the len() function to determine the length of the tuple, then start at 0 and loop your way through the tuple items by refering to their indexes.\n",
        "\n",
        "Remember to increase the index by 1 after each iteration."
      ]
    },
    {
      "cell_type": "code",
      "metadata": {
        "id": "79hfyQF4cMrG",
        "colab": {
          "base_uri": "https://localhost:8080/"
        },
        "outputId": "46fb02b9-fbd5-45d6-8145-c407d770a03d"
      },
      "source": [
        "thistuple = (\"apple\", \"banana\", \"cherry\")\n",
        "i = 0\n",
        "while i < len(thistuple):\n",
        "  print(thistuple[i])\n",
        "  i = i + 1"
      ],
      "execution_count": null,
      "outputs": [
        {
          "output_type": "stream",
          "text": [
            "apple\n",
            "banana\n",
            "cherry\n"
          ],
          "name": "stdout"
        }
      ]
    },
    {
      "cell_type": "markdown",
      "metadata": {
        "id": "V0iwnAWzct_R"
      },
      "source": [
        "## Python - Join Tuples"
      ]
    },
    {
      "cell_type": "markdown",
      "metadata": {
        "id": "O20LYSedczC1"
      },
      "source": [
        "## Join Two Tuples\n",
        "To join two or more tuples you can use the + operator:"
      ]
    },
    {
      "cell_type": "code",
      "metadata": {
        "id": "dJ8WSZzDcVcj"
      },
      "source": [
        "tuple1 = (\"a\", \"b\" , \"c\")\n",
        "tuple2 = (1, 2, 3)\n",
        "\n",
        "tuple3 = tuple1 + tuple2\n",
        "print(tuple3)"
      ],
      "execution_count": null,
      "outputs": []
    },
    {
      "cell_type": "markdown",
      "metadata": {
        "id": "eEfWQRZsc60U"
      },
      "source": [
        "## Multiply Tuples\n",
        "If you want to multiply the content of a tuple a given number of times, you can use the * operator:"
      ]
    },
    {
      "cell_type": "code",
      "metadata": {
        "id": "0TdKxH1rc3eb"
      },
      "source": [
        "fruits = (\"apple\", \"banana\", \"cherry\")\n",
        "mytuple = fruits * 2\n",
        "\n",
        "print(mytuple)\n"
      ],
      "execution_count": null,
      "outputs": []
    },
    {
      "cell_type": "markdown",
      "metadata": {
        "id": "CkTP54wwdKBF"
      },
      "source": [
        "Python - Tuple Methods reference- [https://www.w3schools.com/python/python_tuples_methods.asp](https://www.w3schools.com/python/python_tuples_methods.asp)"
      ]
    }
  ]
}