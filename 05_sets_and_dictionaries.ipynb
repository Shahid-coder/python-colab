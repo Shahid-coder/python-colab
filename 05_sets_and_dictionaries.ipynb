{
  "nbformat": 4,
  "nbformat_minor": 0,
  "metadata": {
    "colab": {
      "name": "05_sets_and_dictionaries.ipynb",
      "provenance": [],
      "collapsed_sections": [],
      "authorship_tag": "ABX9TyM+Wmo5bllR3GsiOyww2/ne",
      "include_colab_link": true
    },
    "kernelspec": {
      "name": "python3",
      "display_name": "Python 3"
    },
    "language_info": {
      "name": "python"
    }
  },
  "cells": [
    {
      "cell_type": "markdown",
      "metadata": {
        "id": "view-in-github",
        "colab_type": "text"
      },
      "source": [
        "<a href=\"https://colab.research.google.com/github/Shahid-coder/python-colab/blob/main/05_sets_and_dictionaries.ipynb\" target=\"_parent\"><img src=\"https://colab.research.google.com/assets/colab-badge.svg\" alt=\"Open In Colab\"/></a>"
      ]
    },
    {
      "cell_type": "markdown",
      "metadata": {
        "id": "txOdDzLYellU"
      },
      "source": [
        "## Python Sets"
      ]
    },
    {
      "cell_type": "code",
      "metadata": {
        "colab": {
          "base_uri": "https://localhost:8080/"
        },
        "id": "Sg5-ci0ueMsL",
        "outputId": "e8ea4c97-4510-475a-f325-b9dce42ebf69"
      },
      "source": [
        "myset = {\"apple\", \"banana\", \"cherry\"}\n",
        "print(myset)"
      ],
      "execution_count": 8,
      "outputs": [
        {
          "output_type": "stream",
          "text": [
            "{'apple', 'banana', 'cherry'}\n"
          ],
          "name": "stdout"
        }
      ]
    },
    {
      "cell_type": "markdown",
      "metadata": {
        "id": "c338w6xWe0Gu"
      },
      "source": [
        "Sets are used to store multiple items in a single variable.\n",
        "\n",
        "Set is one of 4 built-in data types in Python used to store collections of data, the other 3 are List, Tuple, and Dictionary, all with different qualities and usage.\n",
        "\n",
        "A set is a collection which is both unordered and unindexed.\n",
        "\n",
        "Sets are written with curly brackets."
      ]
    },
    {
      "cell_type": "markdown",
      "metadata": {
        "id": "EZEtEeM5e54l"
      },
      "source": [
        "Set Items\n",
        "Set items are unordered, unchangeable, and do not allow duplicate values."
      ]
    },
    {
      "cell_type": "markdown",
      "metadata": {
        "id": "qMYjQz5Fe8Rv"
      },
      "source": [
        "## Set Items\n",
        "Set items are unordered, unchangeable, and do not allow duplicate values.\n",
        " \n",
        "## Unordered\n",
        "Unordered means that the items in a set do not have a defined order.\n",
        " \n",
        "Set items can appear in a different order every time you use them, and cannot be referred to by index or key.\n",
        " \n",
        "## Unchangeable\n",
        "Sets are unchangeable, meaning that we cannot change the items after the set has been created."
      ]
    },
    {
      "cell_type": "markdown",
      "metadata": {
        "id": "B5-oOPRWfGm1"
      },
      "source": [
        "## Duplicates Not Allowed\n",
        "Sets cannot have two items with the same value."
      ]
    },
    {
      "cell_type": "code",
      "metadata": {
        "colab": {
          "base_uri": "https://localhost:8080/"
        },
        "id": "WTtYKzz5erDg",
        "outputId": "31606a04-3278-4135-a9b1-147dba00bc46"
      },
      "source": [
        "thisset = {\"apple\", \"banana\", \"cherry\", \"apple\"}\n",
        " \n",
        "print(thisset)"
      ],
      "execution_count": null,
      "outputs": [
        {
          "output_type": "stream",
          "text": [
            "{'cherry', 'banana', 'apple'}\n"
          ],
          "name": "stdout"
        }
      ]
    },
    {
      "cell_type": "markdown",
      "metadata": {
        "id": "CVVtEaurfPmn"
      },
      "source": [
        "## Get the Length of a Set\n",
        "To determine how many items a set has, use the len() method."
      ]
    },
    {
      "cell_type": "code",
      "metadata": {
        "colab": {
          "base_uri": "https://localhost:8080/"
        },
        "id": "3Ys8wUBxfMnm",
        "outputId": "e7d7eddb-390b-468e-82bf-38cc68efdf5c"
      },
      "source": [
        "thisset = {\"apple\", \"banana\", \"cherry\"}\n",
        " \n",
        "print(len(thisset))"
      ],
      "execution_count": null,
      "outputs": [
        {
          "output_type": "stream",
          "text": [
            "3\n"
          ],
          "name": "stdout"
        }
      ]
    },
    {
      "cell_type": "markdown",
      "metadata": {
        "id": "H3tJD2VJfX3v"
      },
      "source": [
        "## Set Items - Data Types\n",
        "Set items can be of any data type:"
      ]
    },
    {
      "cell_type": "code",
      "metadata": {
        "colab": {
          "base_uri": "https://localhost:8080/"
        },
        "id": "s2WVgEgnfVMW",
        "outputId": "7fd2b007-69c7-4921-c175-8d8ee8391306"
      },
      "source": [
        "set1 = {\"apple\", \"banana\", \"cherry\"}\n",
        "set2 = {1, 5, 7, 9, 3}\n",
        "set3 = {True, False, False}\n",
        "print(set1)\n",
        "print(set2)\n",
        "print(set3)"
      ],
      "execution_count": null,
      "outputs": [
        {
          "output_type": "stream",
          "text": [
            "{'cherry', 'banana', 'apple'}\n",
            "{1, 3, 5, 7, 9}\n",
            "{False, True}\n"
          ],
          "name": "stdout"
        }
      ]
    },
    {
      "cell_type": "markdown",
      "metadata": {
        "id": "d6_jrGeAfkL4"
      },
      "source": [
        "A set can contain different data types:"
      ]
    },
    {
      "cell_type": "code",
      "metadata": {
        "colab": {
          "base_uri": "https://localhost:8080/"
        },
        "id": "oqIwjPkefgUx",
        "outputId": "5d5b7367-3a28-4e87-93b6-a4d1e2bc7cb6"
      },
      "source": [
        "set1 = {\"abc\", 34, True, 40, \"male\"}\n",
        "set1"
      ],
      "execution_count": null,
      "outputs": [
        {
          "output_type": "execute_result",
          "data": {
            "text/plain": [
              "{34, 40, True, 'abc', 'male'}"
            ]
          },
          "metadata": {
            "tags": []
          },
          "execution_count": 9
        }
      ]
    },
    {
      "cell_type": "markdown",
      "metadata": {
        "id": "u8S7spAsfqm4"
      },
      "source": [
        "## type()\n",
        "From Python's perspective, sets are defined as objects with the data type 'set':\n",
        "\n",
        "`<class 'set'>`"
      ]
    },
    {
      "cell_type": "code",
      "metadata": {
        "colab": {
          "base_uri": "https://localhost:8080/"
        },
        "id": "sWnZY6hWfmvf",
        "outputId": "7217fdc6-cbc5-40f1-f611-a06469675e9a"
      },
      "source": [
        "myset = {\"apple\", \"banana\", \"cherry\"}\n",
        "print(type(myset))"
      ],
      "execution_count": null,
      "outputs": [
        {
          "output_type": "stream",
          "text": [
            "<class 'set'>\n"
          ],
          "name": "stdout"
        }
      ]
    },
    {
      "cell_type": "markdown",
      "metadata": {
        "id": "I9r5UwbPf0ta"
      },
      "source": [
        "## The set() Constructor\n",
        "It is also possible to use the set() constructor to make a set."
      ]
    },
    {
      "cell_type": "code",
      "metadata": {
        "colab": {
          "base_uri": "https://localhost:8080/"
        },
        "id": "_xqzYaOjfx_t",
        "outputId": "b3376029-4a42-40ac-f9c5-26fd593757e1"
      },
      "source": [
        "thisset = set((\"apple\", \"banana\", \"cherry\")) # note the double round-brackets\n",
        "print(thisset)"
      ],
      "execution_count": null,
      "outputs": [
        {
          "output_type": "stream",
          "text": [
            "{'cherry', 'banana', 'apple'}\n"
          ],
          "name": "stdout"
        }
      ]
    },
    {
      "cell_type": "markdown",
      "metadata": {
        "id": "ETNIHktygAbu"
      },
      "source": [
        "## Python - Access Set Items"
      ]
    },
    {
      "cell_type": "markdown",
      "metadata": {
        "id": "p6yuOpv8gE35"
      },
      "source": [
        "## Access Items\n",
        "You cannot access items in a set by referring to an index or a key.\n",
        "\n",
        "But you can loop through the set items using a for loop, or ask if a specified value is present in a set, by using the in keyword."
      ]
    },
    {
      "cell_type": "code",
      "metadata": {
        "colab": {
          "base_uri": "https://localhost:8080/"
        },
        "id": "PqT2-9UMf5Vc",
        "outputId": "c43761b1-a281-4f86-989f-6e99c6549d06"
      },
      "source": [
        "thisset = {\"apple\", \"banana\", \"cherry\"}\n",
        " \n",
        "for x in thisset:\n",
        "  print(x)"
      ],
      "execution_count": null,
      "outputs": [
        {
          "output_type": "stream",
          "text": [
            "cherry\n",
            "banana\n",
            "apple\n"
          ],
          "name": "stdout"
        }
      ]
    },
    {
      "cell_type": "code",
      "metadata": {
        "colab": {
          "base_uri": "https://localhost:8080/"
        },
        "id": "xyx-qvqQgIhp",
        "outputId": "de5a77da-d664-4cb1-cd58-1c8a0387125a"
      },
      "source": [
        "thisset = {\"apple\", \"banana\", \"cherry\"}\n",
        " \n",
        "print(\"banana\" in thisset)"
      ],
      "execution_count": null,
      "outputs": [
        {
          "output_type": "stream",
          "text": [
            "True\n"
          ],
          "name": "stdout"
        }
      ]
    },
    {
      "cell_type": "markdown",
      "metadata": {
        "id": "YFV935G1gPGl"
      },
      "source": [
        "## Change Items\n",
        "Once a set is created, you cannot change its items, but you can add new items."
      ]
    },
    {
      "cell_type": "markdown",
      "metadata": {
        "id": "MGYT7KWKgXKc"
      },
      "source": [
        "## Python - Add Set Items"
      ]
    },
    {
      "cell_type": "markdown",
      "metadata": {
        "id": "SOMKt9i1gbRx"
      },
      "source": [
        "To add one item to a set use the add() method."
      ]
    },
    {
      "cell_type": "code",
      "metadata": {
        "colab": {
          "base_uri": "https://localhost:8080/"
        },
        "id": "VaqZpR-egMPe",
        "outputId": "f9edb59c-dde8-4bc1-c30d-fc61810ba44d"
      },
      "source": [
        "thisset = {\"apple\", \"banana\", \"cherry\"}\n",
        " \n",
        "thisset.add(\"orange\")\n",
        " \n",
        "print(thisset)"
      ],
      "execution_count": null,
      "outputs": [
        {
          "output_type": "stream",
          "text": [
            "{'cherry', 'banana', 'apple', 'orange'}\n"
          ],
          "name": "stdout"
        }
      ]
    },
    {
      "cell_type": "markdown",
      "metadata": {
        "id": "jnnnNfecgg5b"
      },
      "source": [
        "## Add Sets\n",
        "To add items from another set into the current set, use the update() method."
      ]
    },
    {
      "cell_type": "code",
      "metadata": {
        "colab": {
          "base_uri": "https://localhost:8080/"
        },
        "id": "Un851U7Agd7Z",
        "outputId": "f3f5cc46-9f52-4a06-f57c-e126d3f07cae"
      },
      "source": [
        "thisset = {\"apple\", \"banana\", \"cherry\"}\n",
        "tropical = {\"pineapple\", \"mango\", \"papaya\"}\n",
        " \n",
        "thisset.update(tropical)\n",
        " \n",
        "print(thisset)"
      ],
      "execution_count": null,
      "outputs": [
        {
          "output_type": "stream",
          "text": [
            "{'papaya', 'banana', 'apple', 'pineapple', 'mango', 'cherry'}\n"
          ],
          "name": "stdout"
        }
      ]
    },
    {
      "cell_type": "markdown",
      "metadata": {
        "id": "cNHO-mO-gnzi"
      },
      "source": [
        "## Add Any Iterable\n",
        "The object in the update() method does not have to be a set, it can be any iterable object (tuples, lists, dictionaries etc.)."
      ]
    },
    {
      "cell_type": "code",
      "metadata": {
        "colab": {
          "base_uri": "https://localhost:8080/"
        },
        "id": "1N4bpZRUglT0",
        "outputId": "a3e52936-7276-4da8-9efa-7b5a4a31af40"
      },
      "source": [
        "thisset = {\"apple\", \"banana\", \"cherry\"}\n",
        "mylist = [\"kiwi\", \"orange\"]\n",
        " \n",
        "thisset.update(mylist)\n",
        " \n",
        "print(thisset)"
      ],
      "execution_count": null,
      "outputs": [
        {
          "output_type": "stream",
          "text": [
            "{'banana', 'kiwi', 'orange', 'apple', 'cherry'}\n"
          ],
          "name": "stdout"
        }
      ]
    },
    {
      "cell_type": "markdown",
      "metadata": {
        "id": "zIDMWWvHgwC6"
      },
      "source": [
        "## Python - Remove Set Items"
      ]
    },
    {
      "cell_type": "markdown",
      "metadata": {
        "id": "0A2tCbwQgzrF"
      },
      "source": [
        "## Remove Item\n",
        "To remove an item in a set, use the remove(), or the discard() method."
      ]
    },
    {
      "cell_type": "code",
      "metadata": {
        "colab": {
          "base_uri": "https://localhost:8080/"
        },
        "id": "TAHpjIiFg3Iq",
        "outputId": "35fb1278-6088-41e0-dbb7-718c14ed49f8"
      },
      "source": [
        "thisset = {\"apple\", \"banana\", \"cherry\"}\n",
        " \n",
        "thisset.remove(\"banana\")\n",
        " \n",
        "print(thisset)"
      ],
      "execution_count": null,
      "outputs": [
        {
          "output_type": "stream",
          "text": [
            "{'cherry', 'apple'}\n"
          ],
          "name": "stdout"
        }
      ]
    },
    {
      "cell_type": "markdown",
      "metadata": {
        "id": "X4-G4eMgg9GP"
      },
      "source": [
        "Note: If the item to remove does not exist, remove() will raise an error."
      ]
    },
    {
      "cell_type": "code",
      "metadata": {
        "colab": {
          "base_uri": "https://localhost:8080/"
        },
        "id": "KpqfTcQug5NA",
        "outputId": "57c051ca-6189-46a4-f2d8-1c712aac39de"
      },
      "source": [
        "thisset = {\"apple\", \"banana\", \"cherry\"}\n",
        " \n",
        "thisset.discard(\"banana\")\n",
        " \n",
        "print(thisset)"
      ],
      "execution_count": null,
      "outputs": [
        {
          "output_type": "stream",
          "text": [
            "{'cherry', 'apple'}\n"
          ],
          "name": "stdout"
        }
      ]
    },
    {
      "cell_type": "markdown",
      "metadata": {
        "id": "Jt22b7CVhEpo"
      },
      "source": [
        "Note: If the item to remove does not exist, discard() will NOT raise an error."
      ]
    },
    {
      "cell_type": "markdown",
      "metadata": {
        "id": "5HtQz94mhHmP"
      },
      "source": [
        "You can also use the pop() method to remove an item, but this method will remove the last item. Remember that sets are unordered, so you will not know what item that gets removed.\n",
        "\n",
        "The return value of the pop() method is the removed item."
      ]
    },
    {
      "cell_type": "code",
      "metadata": {
        "colab": {
          "base_uri": "https://localhost:8080/"
        },
        "id": "aUL8o_RXhAT6",
        "outputId": "c3312f0d-90dc-437d-9d5f-51bdb8855400"
      },
      "source": [
        "#Remove the last item by using the pop() method:\n",
        "thisset = {\"apple\", \"banana\", \"cherry\"}\n",
        " \n",
        "x = thisset.pop()\n",
        " \n",
        "print(x)\n",
        " \n",
        "print(thisset)"
      ],
      "execution_count": null,
      "outputs": [
        {
          "output_type": "stream",
          "text": [
            "cherry\n",
            "{'banana', 'apple'}\n"
          ],
          "name": "stdout"
        }
      ]
    },
    {
      "cell_type": "code",
      "metadata": {
        "colab": {
          "base_uri": "https://localhost:8080/"
        },
        "id": "vejqsvBWhTFO",
        "outputId": "b0455df7-9273-4d3b-feef-c064db263828"
      },
      "source": [
        "#The clear() method empties the set:\n",
        "thisset = {\"apple\", \"banana\", \"cherry\"}\n",
        " \n",
        "thisset.clear()\n",
        " \n",
        "print(thisset)"
      ],
      "execution_count": null,
      "outputs": [
        {
          "output_type": "stream",
          "text": [
            "set()\n"
          ],
          "name": "stdout"
        }
      ]
    },
    {
      "cell_type": "code",
      "metadata": {
        "id": "OAU1BuR6ha--"
      },
      "source": [
        "#The del keyword will delete the set completely:\n",
        "thisset = {\"apple\", \"banana\", \"cherry\"}\n",
        " \n",
        "del thisset\n",
        " \n",
        "#print(thisset)#This will raise an error as thisset is completely deleted"
      ],
      "execution_count": null,
      "outputs": []
    },
    {
      "cell_type": "markdown",
      "metadata": {
        "id": "fE8pX92xhuWO"
      },
      "source": [
        "## Python - Loop Sets"
      ]
    },
    {
      "cell_type": "markdown",
      "metadata": {
        "id": "w_syb9IRhyAL"
      },
      "source": [
        "## Loop Items\n",
        "You can loop through the set items by using a for loop:"
      ]
    },
    {
      "cell_type": "code",
      "metadata": {
        "colab": {
          "base_uri": "https://localhost:8080/"
        },
        "id": "Vc6_x7vHhe1t",
        "outputId": "9c7df8e0-34ef-4a3b-aca7-508b27192475"
      },
      "source": [
        "thisset = {\"apple\", \"banana\", \"cherry\"}\n",
        " \n",
        "for x in thisset:\n",
        "  print(x)"
      ],
      "execution_count": null,
      "outputs": [
        {
          "output_type": "stream",
          "text": [
            "cherry\n",
            "banana\n",
            "apple\n"
          ],
          "name": "stdout"
        }
      ]
    },
    {
      "cell_type": "markdown",
      "metadata": {
        "id": "WzIYddJHh56B"
      },
      "source": [
        "## Python - Join Sets"
      ]
    },
    {
      "cell_type": "markdown",
      "metadata": {
        "id": "7EIxDzhxh99G"
      },
      "source": [
        "## Join Two Sets\n",
        "There are several ways to join two or more sets in Python.\n",
        "\n",
        "You can use the union() method that returns a new set containing all items from both sets, or the update() method that inserts all the items from one set into another:"
      ]
    },
    {
      "cell_type": "code",
      "metadata": {
        "colab": {
          "base_uri": "https://localhost:8080/"
        },
        "id": "p3b3vz5xh2kj",
        "outputId": "4435f223-db0e-4c64-b27d-28723abbe4dc"
      },
      "source": [
        "#The union() method returns a new set with all items from both sets:\n",
        "set1 = {\"a\", \"b\" , \"c\"}\n",
        "set2 = {1, 2, 3}\n",
        " \n",
        "set3 = set1.union(set2)\n",
        "print(set3)"
      ],
      "execution_count": null,
      "outputs": [
        {
          "output_type": "stream",
          "text": [
            "{1, 2, 3, 'a', 'c', 'b'}\n"
          ],
          "name": "stdout"
        }
      ]
    },
    {
      "cell_type": "code",
      "metadata": {
        "colab": {
          "base_uri": "https://localhost:8080/"
        },
        "id": "-MafFwEHiEFm",
        "outputId": "22a8fae3-d8bf-4596-b8b9-582d7e171dee"
      },
      "source": [
        "#The update() method inserts the items in set2 into set1:\n",
        "set1 = {\"a\", \"b\" , \"c\"}\n",
        "set2 = {1, 2, 3}\n",
        " \n",
        "set1.update(set2)\n",
        "print(set1)"
      ],
      "execution_count": null,
      "outputs": [
        {
          "output_type": "stream",
          "text": [
            "{1, 2, 3, 'a', 'c', 'b'}\n"
          ],
          "name": "stdout"
        }
      ]
    },
    {
      "cell_type": "markdown",
      "metadata": {
        "id": "zA0vcSIciNIP"
      },
      "source": [
        "Note: Both union() and update() will exclude any duplicate items."
      ]
    },
    {
      "cell_type": "markdown",
      "metadata": {
        "id": "PMoZsoKHiTJR"
      },
      "source": [
        "## Keep ONLY the Duplicates\n",
        "The intersection_update() method will keep only the items that are present in both sets."
      ]
    },
    {
      "cell_type": "code",
      "metadata": {
        "colab": {
          "base_uri": "https://localhost:8080/"
        },
        "id": "4xww325diJET",
        "outputId": "518f655a-2182-4800-bd31-03966697555d"
      },
      "source": [
        "x = {\"apple\", \"banana\", \"cherry\"}\n",
        "y = {\"google\", \"microsoft\", \"apple\"}\n",
        " \n",
        "x.intersection_update(y)\n",
        " \n",
        "print(x)"
      ],
      "execution_count": null,
      "outputs": [
        {
          "output_type": "stream",
          "text": [
            "{'apple'}\n"
          ],
          "name": "stdout"
        }
      ]
    },
    {
      "cell_type": "markdown",
      "metadata": {
        "id": "8u_ItK7widEb"
      },
      "source": [
        "The intersection() method will return a new set, that only contains the items that are present in both sets."
      ]
    },
    {
      "cell_type": "code",
      "metadata": {
        "colab": {
          "base_uri": "https://localhost:8080/"
        },
        "id": "lgfaYSYuiXMb",
        "outputId": "ed5e13ad-b73c-4c0e-bf7f-6480a1e6b052"
      },
      "source": [
        "x = {\"apple\", \"banana\", \"cherry\"}\n",
        "y = {\"google\", \"microsoft\", \"apple\"}\n",
        " \n",
        "z = x.intersection(y)\n",
        " \n",
        "print(z)"
      ],
      "execution_count": null,
      "outputs": [
        {
          "output_type": "stream",
          "text": [
            "{'apple'}\n"
          ],
          "name": "stdout"
        }
      ]
    },
    {
      "cell_type": "markdown",
      "metadata": {
        "id": "gzSuHqY8iiVa"
      },
      "source": [
        "## Keep All, But NOT the Duplicates\n",
        "The symmetric_difference_update() method will keep only the elements that are NOT present in both sets."
      ]
    },
    {
      "cell_type": "code",
      "metadata": {
        "colab": {
          "base_uri": "https://localhost:8080/"
        },
        "id": "CfxadEetifmq",
        "outputId": "0ebc9ded-d1fa-49a6-b43f-14fc01a9a553"
      },
      "source": [
        "x = {\"apple\", \"banana\", \"cherry\"}\n",
        "y = {\"google\", \"microsoft\", \"apple\"}\n",
        " \n",
        "x.symmetric_difference_update(y)\n",
        " \n",
        "print(x)"
      ],
      "execution_count": null,
      "outputs": [
        {
          "output_type": "stream",
          "text": [
            "{'banana', 'microsoft', 'google', 'cherry'}\n"
          ],
          "name": "stdout"
        }
      ]
    },
    {
      "cell_type": "markdown",
      "metadata": {
        "id": "TDTDsb1Div54"
      },
      "source": [
        "The symmetric_difference() method will return a new set, that contains only the elements that are NOT present in both sets."
      ]
    },
    {
      "cell_type": "code",
      "metadata": {
        "colab": {
          "base_uri": "https://localhost:8080/"
        },
        "id": "DrrRt5gvimUO",
        "outputId": "786a6e34-7638-47d7-9d49-e539b1269f96"
      },
      "source": [
        "x = {\"apple\", \"banana\", \"cherry\"}\n",
        "y = {\"google\", \"microsoft\", \"apple\"}\n",
        " \n",
        "z = x.symmetric_difference(y)\n",
        " \n",
        "print(z)"
      ],
      "execution_count": null,
      "outputs": [
        {
          "output_type": "stream",
          "text": [
            "{'banana', 'microsoft', 'google', 'cherry'}\n"
          ],
          "name": "stdout"
        }
      ]
    },
    {
      "cell_type": "markdown",
      "metadata": {
        "id": "YaegbnNZi5UM"
      },
      "source": [
        "python set reference - [https://www.w3schools.com/python/python_sets_methods.asp](https://www.w3schools.com/python/python_sets_methods.asp)"
      ]
    },
    {
      "cell_type": "markdown",
      "metadata": {
        "id": "iuLia2j6jNwQ"
      },
      "source": [
        "## Python Dictionaries"
      ]
    },
    {
      "cell_type": "code",
      "metadata": {
        "id": "aHtpzGdDix-f"
      },
      "source": [
        "thisdict = {\n",
        "  \"brand\": \"Ford\",\n",
        "  \"model\": \"Mustang\",\n",
        "  \"year\": 1964\n",
        "}"
      ],
      "execution_count": null,
      "outputs": []
    },
    {
      "cell_type": "markdown",
      "metadata": {
        "id": "Coki0mjljWUt"
      },
      "source": [
        "## Dictionary\n",
        "Dictionaries are used to store data values in key:value pairs.\n",
        "\n",
        "A dictionary is a collection which is ordered*, changeable and does not allow duplicates."
      ]
    },
    {
      "cell_type": "markdown",
      "metadata": {
        "id": "wfQdx8cWjctb"
      },
      "source": [
        "As of Python version 3.7, dictionaries are ordered. In Python 3.6 and earlier, dictionaries are unordered."
      ]
    },
    {
      "cell_type": "markdown",
      "metadata": {
        "id": "hrukSeY0jg_l"
      },
      "source": [
        "Dictionaries are written with curly brackets, and have keys and values:"
      ]
    },
    {
      "cell_type": "code",
      "metadata": {
        "colab": {
          "base_uri": "https://localhost:8080/"
        },
        "id": "ZY5uBiqqjScA",
        "outputId": "1a8dc064-1fa7-41f2-fcc7-5496af33cb05"
      },
      "source": [
        "thisdict = {\n",
        "  \"brand\": \"Ford\",\n",
        "  \"model\": \"Mustang\",\n",
        "  \"year\": 1964\n",
        "}\n",
        "print(thisdict)"
      ],
      "execution_count": null,
      "outputs": [
        {
          "output_type": "stream",
          "text": [
            "{'brand': 'Ford', 'model': 'Mustang', 'year': 1964}\n"
          ],
          "name": "stdout"
        }
      ]
    },
    {
      "cell_type": "markdown",
      "metadata": {
        "id": "NV1ZLKOGjp8d"
      },
      "source": [
        "## Dictionary Items\n",
        "Dictionary items are ordered, changeable, and does not allow duplicates.\n",
        "\n",
        "Dictionary items are presented in key:value pairs, and can be referred to by using the key name."
      ]
    },
    {
      "cell_type": "code",
      "metadata": {
        "colab": {
          "base_uri": "https://localhost:8080/"
        },
        "id": "-BLxJSHLjlbO",
        "outputId": "df56ccb5-de3f-4f1d-ae6d-681568d630c8"
      },
      "source": [
        "thisdict = {\n",
        "  \"brand\": \"Ford\",\n",
        "  \"model\": \"Mustang\",\n",
        "  \"year\": 1964\n",
        "}\n",
        "print(thisdict[\"brand\"])"
      ],
      "execution_count": null,
      "outputs": [
        {
          "output_type": "stream",
          "text": [
            "Ford\n"
          ],
          "name": "stdout"
        }
      ]
    },
    {
      "cell_type": "markdown",
      "metadata": {
        "id": "4OawUBkKj3NY"
      },
      "source": [
        "## Changeable\n",
        "Dictionaries are changeable, meaning that we can change, add or remove items after the dictionary has been created.\n",
        "\n"
      ]
    },
    {
      "cell_type": "markdown",
      "metadata": {
        "id": "aupeNoJ2j7Tk"
      },
      "source": [
        "## Duplicates Not Allowed\n",
        "Dictionaries cannot have two items with the same key:"
      ]
    },
    {
      "cell_type": "code",
      "metadata": {
        "colab": {
          "base_uri": "https://localhost:8080/"
        },
        "id": "H9DF6d15juYn",
        "outputId": "5408a782-71a6-4aad-89e9-a679f465039d"
      },
      "source": [
        "thisdict = {\n",
        "  \"brand\": \"Ford\",\n",
        "  \"model\": \"Mustang\",\n",
        "  \"year\": 1964,\n",
        "  \"year\": 2020\n",
        "}\n",
        "print(thisdict)"
      ],
      "execution_count": null,
      "outputs": [
        {
          "output_type": "stream",
          "text": [
            "{'brand': 'Ford', 'model': 'Mustang', 'year': 2020}\n"
          ],
          "name": "stdout"
        }
      ]
    },
    {
      "cell_type": "markdown",
      "metadata": {
        "id": "_B7OMC7nkE6q"
      },
      "source": [
        "## Dictionary Length\n",
        "To determine how many items a dictionary has, use the len() function:"
      ]
    },
    {
      "cell_type": "code",
      "metadata": {
        "colab": {
          "base_uri": "https://localhost:8080/"
        },
        "id": "VOy-l7ZGkAOH",
        "outputId": "4cdd6569-1cfc-41a4-e8be-f6fa2b68e1d9"
      },
      "source": [
        "print(len(thisdict))"
      ],
      "execution_count": null,
      "outputs": [
        {
          "output_type": "stream",
          "text": [
            "3\n"
          ],
          "name": "stdout"
        }
      ]
    },
    {
      "cell_type": "markdown",
      "metadata": {
        "id": "uMHD0FKbkNg5"
      },
      "source": [
        "## Dictionary Items - Data Types\n",
        "The values in dictionary items can be of any data type:"
      ]
    },
    {
      "cell_type": "code",
      "metadata": {
        "colab": {
          "base_uri": "https://localhost:8080/"
        },
        "id": "9LGqhVAXkJZv",
        "outputId": "4defb28e-f7f5-4b9e-bfa8-cea16d95815a"
      },
      "source": [
        "thisdict = {\n",
        "  \"brand\": \"Ford\",\n",
        "  \"electric\": False,\n",
        "  \"year\": 1964,\n",
        "  \"colors\": [\"red\", \"white\", \"blue\"]\n",
        "}\n",
        "thisdict"
      ],
      "execution_count": null,
      "outputs": [
        {
          "output_type": "execute_result",
          "data": {
            "text/plain": [
              "{'brand': 'Ford',\n",
              " 'colors': ['red', 'white', 'blue'],\n",
              " 'electric': False,\n",
              " 'year': 1964}"
            ]
          },
          "metadata": {
            "tags": []
          },
          "execution_count": 40
        }
      ]
    },
    {
      "cell_type": "markdown",
      "metadata": {
        "id": "aaRaVZqqkXkX"
      },
      "source": [
        "## type()\n",
        "From Python's perspective, dictionaries are defined as objects with the data type 'dict':\n",
        "\n",
        "`<class 'dict'>`"
      ]
    },
    {
      "cell_type": "code",
      "metadata": {
        "colab": {
          "base_uri": "https://localhost:8080/"
        },
        "id": "C4QPduYGkRfo",
        "outputId": "5bbbf80b-dbc9-4b48-ff40-d3531181357f"
      },
      "source": [
        "thisdict = {\n",
        "  \"brand\": \"Ford\",\n",
        "  \"model\": \"Mustang\",\n",
        "  \"year\": 1964\n",
        "}\n",
        "print(type(thisdict))"
      ],
      "execution_count": null,
      "outputs": [
        {
          "output_type": "stream",
          "text": [
            "<class 'dict'>\n"
          ],
          "name": "stdout"
        }
      ]
    },
    {
      "cell_type": "markdown",
      "metadata": {
        "id": "KicYkTTyklJv"
      },
      "source": [
        "## Python - Access Dictionary Items"
      ]
    },
    {
      "cell_type": "markdown",
      "metadata": {
        "id": "HOZ05_f2kqrp"
      },
      "source": [
        "## Accessing Items\n",
        "You can access the items of a dictionary by referring to its key name, inside square brackets:"
      ]
    },
    {
      "cell_type": "code",
      "metadata": {
        "colab": {
          "base_uri": "https://localhost:8080/",
          "height": 36
        },
        "id": "dLL2QaPLkf1V",
        "outputId": "d27a58f5-502b-4e51-f695-9f615ea31f29"
      },
      "source": [
        "thisdict = {\n",
        "  \"brand\": \"Ford\",\n",
        "  \"model\": \"Mustang\",\n",
        "  \"year\": 1964\n",
        "}\n",
        "x = thisdict[\"model\"]\n",
        "x"
      ],
      "execution_count": null,
      "outputs": [
        {
          "output_type": "execute_result",
          "data": {
            "application/vnd.google.colaboratory.intrinsic+json": {
              "type": "string"
            },
            "text/plain": [
              "'Mustang'"
            ]
          },
          "metadata": {
            "tags": []
          },
          "execution_count": 43
        }
      ]
    },
    {
      "cell_type": "markdown",
      "metadata": {
        "id": "JBDo_HQEkz10"
      },
      "source": [
        "There is also a method called get() that will give you the same result:"
      ]
    },
    {
      "cell_type": "code",
      "metadata": {
        "colab": {
          "base_uri": "https://localhost:8080/",
          "height": 36
        },
        "id": "R0AmqPKQkvbF",
        "outputId": "6fac3f5e-7503-482d-859c-82eb2295f4db"
      },
      "source": [
        "x = thisdict.get(\"model\")\n",
        "x"
      ],
      "execution_count": null,
      "outputs": [
        {
          "output_type": "execute_result",
          "data": {
            "application/vnd.google.colaboratory.intrinsic+json": {
              "type": "string"
            },
            "text/plain": [
              "'Mustang'"
            ]
          },
          "metadata": {
            "tags": []
          },
          "execution_count": 44
        }
      ]
    },
    {
      "cell_type": "markdown",
      "metadata": {
        "id": "x2I58ToAk61p"
      },
      "source": [
        "Get Keys\n",
        "The keys() method will return a list of all the keys in the dictionary."
      ]
    },
    {
      "cell_type": "code",
      "metadata": {
        "colab": {
          "base_uri": "https://localhost:8080/"
        },
        "id": "YAFGb6vAk3Lt",
        "outputId": "1388f8a6-1524-4ff6-eee3-22a7ef77dfa1"
      },
      "source": [
        "x = thisdict.keys()\n",
        "x"
      ],
      "execution_count": null,
      "outputs": [
        {
          "output_type": "execute_result",
          "data": {
            "text/plain": [
              "dict_keys(['brand', 'model', 'year'])"
            ]
          },
          "metadata": {
            "tags": []
          },
          "execution_count": 45
        }
      ]
    },
    {
      "cell_type": "markdown",
      "metadata": {
        "id": "x8qZntK4lDxe"
      },
      "source": [
        "The list of the keys is a view of the dictionary, meaning that any changes done to the dictionary will be reflected in the keys list."
      ]
    },
    {
      "cell_type": "code",
      "metadata": {
        "colab": {
          "base_uri": "https://localhost:8080/"
        },
        "id": "Sz3rnkdjk-vZ",
        "outputId": "e16c10d4-3635-4cc4-8367-44d7c97e0f97"
      },
      "source": [
        "#Add a new item to the original dictionary, and see that the keys list gets updated as well:\n",
        "car = {\n",
        "\"brand\": \"Ford\",\n",
        "\"model\": \"Mustang\",\n",
        "\"year\": 1964\n",
        "}\n",
        " \n",
        "x = car.keys()\n",
        " \n",
        "print(x) #before the change\n",
        " \n",
        "car[\"color\"] = \"white\"\n",
        " \n",
        "print(x) #after the change"
      ],
      "execution_count": null,
      "outputs": [
        {
          "output_type": "stream",
          "text": [
            "dict_keys(['brand', 'model', 'year'])\n",
            "dict_keys(['brand', 'model', 'year', 'color'])\n"
          ],
          "name": "stdout"
        }
      ]
    },
    {
      "cell_type": "markdown",
      "metadata": {
        "id": "3cgRC1XKlRQM"
      },
      "source": [
        "## Get Values\n",
        "The values() method will return a list of all the values in the dictionary."
      ]
    },
    {
      "cell_type": "code",
      "metadata": {
        "colab": {
          "base_uri": "https://localhost:8080/"
        },
        "id": "80Yss5_rlM8z",
        "outputId": "553c4016-8769-4811-f541-48204d465be9"
      },
      "source": [
        "x = thisdict.values()\n",
        "x"
      ],
      "execution_count": null,
      "outputs": [
        {
          "output_type": "execute_result",
          "data": {
            "text/plain": [
              "dict_values(['Ford', 'Mustang', 1964])"
            ]
          },
          "metadata": {
            "tags": []
          },
          "execution_count": 47
        }
      ]
    },
    {
      "cell_type": "markdown",
      "metadata": {
        "id": "fSFoMPdAlZfy"
      },
      "source": [
        "The list of the values is a view of the dictionary, meaning that any changes done to the dictionary will be reflected in the values list."
      ]
    },
    {
      "cell_type": "code",
      "metadata": {
        "colab": {
          "base_uri": "https://localhost:8080/"
        },
        "id": "baMg2vsPlV6T",
        "outputId": "706a1aee-4891-48b6-a2ee-96c3e5911877"
      },
      "source": [
        "#Make a change in the original dictionary, and see that the values list gets updated as well:\n",
        "car = {\n",
        "\"brand\": \"Ford\",\n",
        "\"model\": \"Mustang\",\n",
        "\"year\": 1964\n",
        "}\n",
        " \n",
        "x = car.values()\n",
        " \n",
        "print(x) #before the change\n",
        " \n",
        "car[\"year\"] = 2020\n",
        " \n",
        "print(x) #after the change"
      ],
      "execution_count": null,
      "outputs": [
        {
          "output_type": "stream",
          "text": [
            "dict_values(['Ford', 'Mustang', 1964])\n",
            "dict_values(['Ford', 'Mustang', 2020])\n"
          ],
          "name": "stdout"
        }
      ]
    },
    {
      "cell_type": "code",
      "metadata": {
        "colab": {
          "base_uri": "https://localhost:8080/"
        },
        "id": "gddja_Eeld3b",
        "outputId": "1a4e46a8-4060-4b47-8d44-945278802776"
      },
      "source": [
        "#Add a new item to the original dictionary, and see that the values list gets updated as well:\n",
        "car = {\n",
        "\"brand\": \"Ford\",\n",
        "\"model\": \"Mustang\",\n",
        "\"year\": 1964\n",
        "}\n",
        " \n",
        "x = car.values()\n",
        " \n",
        "print(x) #before the change\n",
        " \n",
        "car[\"color\"] = \"red\"\n",
        " \n",
        "print(x) #after the change"
      ],
      "execution_count": null,
      "outputs": [
        {
          "output_type": "stream",
          "text": [
            "dict_values(['Ford', 'Mustang', 1964])\n",
            "dict_values(['Ford', 'Mustang', 1964, 'red'])\n"
          ],
          "name": "stdout"
        }
      ]
    },
    {
      "cell_type": "markdown",
      "metadata": {
        "id": "TPm-ekwol1EA"
      },
      "source": [
        "## Get Items\n",
        "The items() method will return each item in a dictionary, as tuples in a list."
      ]
    },
    {
      "cell_type": "code",
      "metadata": {
        "id": "yqncgucGlv-T",
        "colab": {
          "base_uri": "https://localhost:8080/"
        },
        "outputId": "98c3b63f-11c4-42f8-fcad-d9fcb8590d17"
      },
      "source": [
        "x = thisdict.items()\n",
        "x"
      ],
      "execution_count": null,
      "outputs": [
        {
          "output_type": "execute_result",
          "data": {
            "text/plain": [
              "dict_items([('brand', 'Ford'), ('model', 'Mustang'), ('year', 1964)])"
            ]
          },
          "metadata": {
            "tags": []
          },
          "execution_count": 53
        }
      ]
    },
    {
      "cell_type": "markdown",
      "metadata": {
        "id": "Wv9gu-UUmDS0"
      },
      "source": [
        "The returned list is a view of the items of the dictionary, meaning that any changes done to the dictionary will be reflected in the items list."
      ]
    },
    {
      "cell_type": "code",
      "metadata": {
        "colab": {
          "base_uri": "https://localhost:8080/"
        },
        "id": "R6DxRcjVl_ZA",
        "outputId": "c04ae967-9284-4a04-d0a5-57069b236ebe"
      },
      "source": [
        "#Make a change in the original dictionary, and see that the items list gets updated as well:\n",
        "car = {\n",
        "\"brand\": \"Ford\",\n",
        "\"model\": \"Mustang\",\n",
        "\"year\": 1964\n",
        "}\n",
        " \n",
        "x = car.items()\n",
        " \n",
        "print(x) #before the change\n",
        " \n",
        "car[\"year\"] = 2020\n",
        " \n",
        "print(x) #after the change"
      ],
      "execution_count": null,
      "outputs": [
        {
          "output_type": "stream",
          "text": [
            "dict_items([('brand', 'Ford'), ('model', 'Mustang'), ('year', 1964)])\n",
            "dict_items([('brand', 'Ford'), ('model', 'Mustang'), ('year', 2020)])\n"
          ],
          "name": "stdout"
        }
      ]
    },
    {
      "cell_type": "code",
      "metadata": {
        "colab": {
          "base_uri": "https://localhost:8080/"
        },
        "id": "j4v04AO1mJkW",
        "outputId": "7a3cf7ab-4f9e-438a-b961-8d68c6261a99"
      },
      "source": [
        "#Add a new item to the original dictionary, and see that the items list gets updated as well:\n",
        "car = {\n",
        "\"brand\": \"Ford\",\n",
        "\"model\": \"Mustang\",\n",
        "\"year\": 1964\n",
        "}\n",
        " \n",
        "x = car.items()\n",
        " \n",
        "print(x) #before the change\n",
        " \n",
        "car[\"color\"] = \"red\"\n",
        " \n",
        "print(x) #after the change"
      ],
      "execution_count": null,
      "outputs": [
        {
          "output_type": "stream",
          "text": [
            "dict_items([('brand', 'Ford'), ('model', 'Mustang'), ('year', 1964)])\n",
            "dict_items([('brand', 'Ford'), ('model', 'Mustang'), ('year', 1964), ('color', 'red')])\n"
          ],
          "name": "stdout"
        }
      ]
    },
    {
      "cell_type": "markdown",
      "metadata": {
        "id": "w5b0lTGjmYzx"
      },
      "source": [
        "## Check if Key Exists\n",
        "To determine if a specified key is present in a dictionary use the in keyword:"
      ]
    },
    {
      "cell_type": "code",
      "metadata": {
        "colab": {
          "base_uri": "https://localhost:8080/"
        },
        "id": "7nhfSVjAmTyz",
        "outputId": "9c8bb86f-fdfa-4905-8fac-9d017cb6da86"
      },
      "source": [
        "#Check if \"model\" is present in the dictionary:\n",
        "thisdict = {\n",
        "  \"brand\": \"Ford\",\n",
        "  \"model\": \"Mustang\",\n",
        "  \"year\": 1964\n",
        "}\n",
        "if \"model\" in thisdict:\n",
        "  print(\"Yes, 'model' is one of the keys in the thisdict dictionary\")"
      ],
      "execution_count": null,
      "outputs": [
        {
          "output_type": "stream",
          "text": [
            "Yes, 'model' is one of the keys in the thisdict dictionary\n"
          ],
          "name": "stdout"
        }
      ]
    },
    {
      "cell_type": "markdown",
      "metadata": {
        "id": "gu_jRNi3mp6Z"
      },
      "source": [
        "## Python - Change Dictionary Items"
      ]
    },
    {
      "cell_type": "markdown",
      "metadata": {
        "id": "-Iz0tVxQmx2R"
      },
      "source": [
        "## Change Values\n",
        "You can change the value of a specific item by referring to its key name:"
      ]
    },
    {
      "cell_type": "code",
      "metadata": {
        "colab": {
          "base_uri": "https://localhost:8080/"
        },
        "id": "EefbqJ3hmkK5",
        "outputId": "644eb591-ab61-469d-8690-67eddfb62e49"
      },
      "source": [
        "thisdict = {\n",
        "  \"brand\": \"Ford\",\n",
        "  \"model\": \"Mustang\",\n",
        "  \"year\": 1964\n",
        "}\n",
        "thisdict[\"year\"] = 2018\n",
        "thisdict"
      ],
      "execution_count": null,
      "outputs": [
        {
          "output_type": "execute_result",
          "data": {
            "text/plain": [
              "{'brand': 'Ford', 'model': 'Mustang', 'year': 2018}"
            ]
          },
          "metadata": {
            "tags": []
          },
          "execution_count": 59
        }
      ]
    },
    {
      "cell_type": "markdown",
      "metadata": {
        "id": "JYMdbR1wm9ZQ"
      },
      "source": [
        "## Update Dictionary\n",
        "The update() method will update the dictionary with the items from the given argument.\n",
        "\n",
        "The argument must be a dictionary, or an iterable object with key:value pairs."
      ]
    },
    {
      "cell_type": "code",
      "metadata": {
        "colab": {
          "base_uri": "https://localhost:8080/"
        },
        "id": "9oaUroLWm28D",
        "outputId": "264fe2bd-fb2a-487c-bf63-91585181289f"
      },
      "source": [
        "thisdict = {\n",
        "  \"brand\": \"Ford\",\n",
        "  \"model\": \"Mustang\",\n",
        "  \"year\": 1964\n",
        "}\n",
        "thisdict.update({\"year\": 2020})\n",
        "thisdict"
      ],
      "execution_count": null,
      "outputs": [
        {
          "output_type": "execute_result",
          "data": {
            "text/plain": [
              "{'brand': 'Ford', 'model': 'Mustang', 'year': 2020}"
            ]
          },
          "metadata": {
            "tags": []
          },
          "execution_count": 60
        }
      ]
    },
    {
      "cell_type": "markdown",
      "metadata": {
        "id": "t2YDuHyBnLOT"
      },
      "source": [
        "## Python - Add Dictionary Items"
      ]
    },
    {
      "cell_type": "markdown",
      "metadata": {
        "id": "i5NQBH8enPq0"
      },
      "source": [
        "## Adding Items\n",
        "Adding an item to the dictionary is done by using a new index key and assigning a value to it:"
      ]
    },
    {
      "cell_type": "code",
      "metadata": {
        "colab": {
          "base_uri": "https://localhost:8080/"
        },
        "id": "ITw7xMjQnDyM",
        "outputId": "83ddeaab-2a07-403c-9767-27a4728ad792"
      },
      "source": [
        "thisdict = {\n",
        "  \"brand\": \"Ford\",\n",
        "  \"model\": \"Mustang\",\n",
        "  \"year\": 1964\n",
        "}\n",
        "thisdict[\"color\"] = \"red\"\n",
        "print(thisdict)"
      ],
      "execution_count": null,
      "outputs": [
        {
          "output_type": "stream",
          "text": [
            "{'brand': 'Ford', 'model': 'Mustang', 'year': 1964, 'color': 'red'}\n"
          ],
          "name": "stdout"
        }
      ]
    },
    {
      "cell_type": "markdown",
      "metadata": {
        "id": "JQ2C4M4vnZq_"
      },
      "source": [
        "## Update Dictionary\n",
        "The update() method will update the dictionary with the items from a given argument. If the item does not exist, the item will be added.\n",
        "\n",
        "The argument must be a dictionary, or an iterable object with `key:value` pairs."
      ]
    },
    {
      "cell_type": "code",
      "metadata": {
        "colab": {
          "base_uri": "https://localhost:8080/"
        },
        "id": "iH0S6kgonUro",
        "outputId": "d2a5e5dc-47d6-4bbc-e8bd-331b959e1218"
      },
      "source": [
        "thisdict = {\n",
        "  \"brand\": \"Ford\",\n",
        "  \"model\": \"Mustang\",\n",
        "  \"year\": 1964\n",
        "}\n",
        "thisdict.update({\"color\": \"red\"})\n",
        "thisdict"
      ],
      "execution_count": null,
      "outputs": [
        {
          "output_type": "execute_result",
          "data": {
            "text/plain": [
              "{'brand': 'Ford', 'color': 'red', 'model': 'Mustang', 'year': 1964}"
            ]
          },
          "metadata": {
            "tags": []
          },
          "execution_count": 62
        }
      ]
    },
    {
      "cell_type": "markdown",
      "metadata": {
        "id": "oAaIQbXJnxO0"
      },
      "source": [
        "## Python - Remove Dictionary Items"
      ]
    },
    {
      "cell_type": "markdown",
      "metadata": {
        "id": "NH7g9_0cn0v0"
      },
      "source": [
        "## Removing Items\n",
        "There are several methods to remove items from a dictionary:"
      ]
    },
    {
      "cell_type": "code",
      "metadata": {
        "colab": {
          "base_uri": "https://localhost:8080/"
        },
        "id": "m5bCEo5hnf--",
        "outputId": "f11d2001-e2e6-459d-d15d-03b0a1ec1843"
      },
      "source": [
        "#The pop() method removes the item with the specified key name:\n",
        "thisdict = {\n",
        "  \"brand\": \"Ford\",\n",
        "  \"model\": \"Mustang\",\n",
        "  \"year\": 1964\n",
        "}\n",
        "thisdict.pop(\"model\")\n",
        "print(thisdict)"
      ],
      "execution_count": null,
      "outputs": [
        {
          "output_type": "stream",
          "text": [
            "{'brand': 'Ford', 'year': 1964}\n"
          ],
          "name": "stdout"
        }
      ]
    },
    {
      "cell_type": "code",
      "metadata": {
        "colab": {
          "base_uri": "https://localhost:8080/"
        },
        "id": "7xfxrN3poAOQ",
        "outputId": "d7ad9df4-3234-4906-e1aa-fc62768c727a"
      },
      "source": [
        "#The popitem() method removes the last inserted item (in versions before 3.7, a random item is removed instead):\n",
        "thisdict = {\n",
        "  \"brand\": \"Ford\",\n",
        "  \"model\": \"Mustang\",\n",
        "  \"year\": 1964\n",
        "}\n",
        "thisdict.popitem()\n",
        "print(thisdict)"
      ],
      "execution_count": null,
      "outputs": [
        {
          "output_type": "stream",
          "text": [
            "{'brand': 'Ford', 'model': 'Mustang'}\n"
          ],
          "name": "stdout"
        }
      ]
    },
    {
      "cell_type": "code",
      "metadata": {
        "colab": {
          "base_uri": "https://localhost:8080/"
        },
        "id": "vVqHxhswoFrk",
        "outputId": "544842db-0f4c-4d84-a214-c0b00a2b8c23"
      },
      "source": [
        "#The del keyword removes the item with the specified key name:\n",
        "thisdict = {\n",
        "  \"brand\": \"Ford\",\n",
        "  \"model\": \"Mustang\",\n",
        "  \"year\": 1964\n",
        "}\n",
        "del thisdict[\"model\"]\n",
        "print(thisdict)"
      ],
      "execution_count": null,
      "outputs": [
        {
          "output_type": "stream",
          "text": [
            "{'brand': 'Ford', 'year': 1964}\n"
          ],
          "name": "stdout"
        }
      ]
    },
    {
      "cell_type": "code",
      "metadata": {
        "colab": {
          "base_uri": "https://localhost:8080/"
        },
        "id": "QPBI234FoMB3",
        "outputId": "26482c18-d885-4d33-de46-80e29d1ae8c2"
      },
      "source": [
        "thisdict = {\n",
        "  \"brand\": \"Ford\",\n",
        "  \"model\": \"Mustang\",\n",
        "  \"year\": 1964\n",
        "}\n",
        "del thisdict[\"model\"]\n",
        "print(thisdict)"
      ],
      "execution_count": null,
      "outputs": [
        {
          "output_type": "stream",
          "text": [
            "{'brand': 'Ford', 'year': 1964}\n"
          ],
          "name": "stdout"
        }
      ]
    },
    {
      "cell_type": "code",
      "metadata": {
        "id": "G5aQOJRboQfI"
      },
      "source": [
        "#The del keyword can also delete the dictionary completely:\n",
        "thisdict = {\n",
        "  \"brand\": \"Ford\",\n",
        "  \"model\": \"Mustang\",\n",
        "  \"year\": 1964\n",
        "}\n",
        "del thisdict\n",
        "#print(thisdict) #this will cause an error because \"thisdict\" no longer exists."
      ],
      "execution_count": null,
      "outputs": []
    },
    {
      "cell_type": "code",
      "metadata": {
        "colab": {
          "base_uri": "https://localhost:8080/"
        },
        "id": "tuuRvsdFoYxa",
        "outputId": "eed70dd3-938b-451f-8655-1b5ba0590e85"
      },
      "source": [
        "#The clear() method empties the dictionary:\n",
        "thisdict = {\n",
        "  \"brand\": \"Ford\",\n",
        "  \"model\": \"Mustang\",\n",
        "  \"year\": 1964\n",
        "}\n",
        "thisdict.clear()\n",
        "print(thisdict)"
      ],
      "execution_count": null,
      "outputs": [
        {
          "output_type": "stream",
          "text": [
            "{}\n"
          ],
          "name": "stdout"
        }
      ]
    },
    {
      "cell_type": "markdown",
      "metadata": {
        "id": "HWHVjcxCooRc"
      },
      "source": [
        "## Python - Loop Dictionaries"
      ]
    },
    {
      "cell_type": "markdown",
      "metadata": {
        "id": "O2BLtXg0osRw"
      },
      "source": [
        "## Loop Through a Dictionary\n",
        "You can loop through a dictionary by using a for loop.\n",
        "\n",
        "When looping through a dictionary, the return value are the keys of the dictionary, but there are methods to return the values as well."
      ]
    },
    {
      "cell_type": "code",
      "metadata": {
        "colab": {
          "base_uri": "https://localhost:8080/"
        },
        "id": "4aqMnpxVoh4M",
        "outputId": "e5969eb0-2bb3-42ee-d977-e3100e40a1d3"
      },
      "source": [
        "#Print all key names in the dictionary, one by one:\n",
        "thisdict = {\n",
        "  \"brand\": \"Ford\",\n",
        "  \"model\": \"Mustang\",\n",
        "  \"year\": 1964\n",
        "}\n",
        "for x in thisdict:\n",
        "  print(x)"
      ],
      "execution_count": null,
      "outputs": [
        {
          "output_type": "stream",
          "text": [
            "brand\n",
            "model\n",
            "year\n"
          ],
          "name": "stdout"
        }
      ]
    },
    {
      "cell_type": "code",
      "metadata": {
        "colab": {
          "base_uri": "https://localhost:8080/"
        },
        "id": "wZmRX8zLoxWP",
        "outputId": "a596a2ab-19ab-43b3-a300-1fa118c9ac29"
      },
      "source": [
        "#Print all values in the dictionary, one by one:\n",
        "for x in thisdict:\n",
        "  print(thisdict[x])"
      ],
      "execution_count": null,
      "outputs": [
        {
          "output_type": "stream",
          "text": [
            "Ford\n",
            "Mustang\n",
            "1964\n"
          ],
          "name": "stdout"
        }
      ]
    },
    {
      "cell_type": "code",
      "metadata": {
        "colab": {
          "base_uri": "https://localhost:8080/"
        },
        "id": "Dw5HNNq-pDxa",
        "outputId": "7ba4e619-c065-406e-831c-c186e17a7705"
      },
      "source": [
        "#You can also use the values() method to return values of a dictionary:\n",
        "for x in thisdict.values():\n",
        "  print(x)"
      ],
      "execution_count": null,
      "outputs": [
        {
          "output_type": "stream",
          "text": [
            "Ford\n",
            "Mustang\n",
            "1964\n"
          ],
          "name": "stdout"
        }
      ]
    },
    {
      "cell_type": "code",
      "metadata": {
        "colab": {
          "base_uri": "https://localhost:8080/"
        },
        "id": "FG36JgVdpJb_",
        "outputId": "9118ff7c-dec9-4ca9-f323-05a600837b8f"
      },
      "source": [
        "#You can use the keys() method to return the keys of a dictionary:\n",
        "for x in thisdict.keys():\n",
        "  print(x)"
      ],
      "execution_count": null,
      "outputs": [
        {
          "output_type": "stream",
          "text": [
            "brand\n",
            "model\n",
            "year\n"
          ],
          "name": "stdout"
        }
      ]
    },
    {
      "cell_type": "code",
      "metadata": {
        "colab": {
          "base_uri": "https://localhost:8080/"
        },
        "id": "ZL9vobQupOZT",
        "outputId": "8b9dbb7c-d7ff-46ad-a2b9-2246a6efa99e"
      },
      "source": [
        "#Loop through both keys and values, by using the items() method:\n",
        "for x, y in thisdict.items():\n",
        "  print(x, y)"
      ],
      "execution_count": null,
      "outputs": [
        {
          "output_type": "stream",
          "text": [
            "brand Ford\n",
            "model Mustang\n",
            "year 1964\n"
          ],
          "name": "stdout"
        }
      ]
    },
    {
      "cell_type": "markdown",
      "metadata": {
        "id": "a8CNz6m7pakZ"
      },
      "source": [
        "## Python - Copy Dictionaries"
      ]
    },
    {
      "cell_type": "markdown",
      "metadata": {
        "id": "T7FaUb81paFc"
      },
      "source": [
        "## Copy a Dictionary\n",
        "You cannot copy a dictionary simply by typing dict2 = dict1, because: dict2 will only be a reference to dict1, and changes made in dict1 will automatically also be made in dict2.\n",
        "\n",
        "There are ways to make a copy, one way is to use the built-in Dictionary method copy()."
      ]
    },
    {
      "cell_type": "code",
      "metadata": {
        "colab": {
          "base_uri": "https://localhost:8080/"
        },
        "id": "10zfW_dTpU8V",
        "outputId": "ffce5d77-8fe7-4d4a-bf6d-0084efb03e10"
      },
      "source": [
        "thisdict = {\n",
        "  \"brand\": \"Ford\",\n",
        "  \"model\": \"Mustang\",\n",
        "  \"year\": 1964\n",
        "}\n",
        "mydict = thisdict.copy()\n",
        "print(mydict)"
      ],
      "execution_count": null,
      "outputs": [
        {
          "output_type": "stream",
          "text": [
            "{'brand': 'Ford', 'model': 'Mustang', 'year': 1964}\n"
          ],
          "name": "stdout"
        }
      ]
    },
    {
      "cell_type": "markdown",
      "metadata": {
        "id": "B_oiqDxVpnK1"
      },
      "source": [
        "Another way to make a copy is to use the built-in function dict()."
      ]
    },
    {
      "cell_type": "code",
      "metadata": {
        "colab": {
          "base_uri": "https://localhost:8080/"
        },
        "id": "Q7JNdESzpi-O",
        "outputId": "ea790d78-6dbd-463d-9b9b-557ef003a11d"
      },
      "source": [
        "thisdict = {\n",
        "  \"brand\": \"Ford\",\n",
        "  \"model\": \"Mustang\",\n",
        "  \"year\": 1964\n",
        "}\n",
        "mydict = dict(thisdict)\n",
        "print(mydict)\n"
      ],
      "execution_count": null,
      "outputs": [
        {
          "output_type": "stream",
          "text": [
            "{'brand': 'Ford', 'model': 'Mustang', 'year': 1964}\n"
          ],
          "name": "stdout"
        }
      ]
    },
    {
      "cell_type": "markdown",
      "metadata": {
        "id": "l41PkDappvS-"
      },
      "source": [
        "## Python - Nested Dictionaries"
      ]
    },
    {
      "cell_type": "markdown",
      "metadata": {
        "id": "ldNaxqccp0uw"
      },
      "source": [
        "## Nested Dictionaries\n",
        "A dictionary can contain dictionaries, this is called nested dictionaries."
      ]
    },
    {
      "cell_type": "code",
      "metadata": {
        "id": "1J2Ol07Cppaa"
      },
      "source": [
        "myfamily = {\n",
        "  \"child1\" : {\n",
        "    \"name\" : \"Emil\",\n",
        "    \"year\" : 2004\n",
        "  },\n",
        "  \"child2\" : {\n",
        "    \"name\" : \"Tobias\",\n",
        "    \"year\" : 2007\n",
        "  },\n",
        "  \"child3\" : {\n",
        "    \"name\" : \"Linus\",\n",
        "    \"year\" : 2011\n",
        "  }\n",
        "}"
      ],
      "execution_count": null,
      "outputs": []
    },
    {
      "cell_type": "markdown",
      "metadata": {
        "id": "mFfhlauhp-wX"
      },
      "source": [
        "Or, if you want to add three dictionaries into a new dictionary:"
      ]
    },
    {
      "cell_type": "code",
      "metadata": {
        "id": "OKFQZxQbp58N"
      },
      "source": [
        "child1 = {\n",
        "  \"name\" : \"Emil\",\n",
        "  \"year\" : 2004\n",
        "}\n",
        "child2 = {\n",
        "  \"name\" : \"Tobias\",\n",
        "  \"year\" : 2007\n",
        "}\n",
        "child3 = {\n",
        "  \"name\" : \"Linus\",\n",
        "  \"year\" : 2011\n",
        "}\n",
        "\n",
        "myfamily = {\n",
        "  \"child1\" : child1,\n",
        "  \"child2\" : child2,\n",
        "  \"child3\" : child3\n",
        "}"
      ],
      "execution_count": null,
      "outputs": []
    },
    {
      "cell_type": "markdown",
      "metadata": {
        "id": "XU3JBS1zqL1a"
      },
      "source": [
        "Python Dictionary Methods reference - [https://www.w3schools.com/python/python_dictionaries_methods.asp](https://www.w3schools.com/python/python_dictionaries_methods.asp)"
      ]
    }
  ]
}