{
  "nbformat": 4,
  "nbformat_minor": 0,
  "metadata": {
    "colab": {
      "name": "03_strings.ipynb",
      "provenance": [],
      "authorship_tag": "ABX9TyMClVDp5PlNVv0TyfNpagYp",
      "include_colab_link": true
    },
    "kernelspec": {
      "name": "python3",
      "display_name": "Python 3"
    },
    "language_info": {
      "name": "python"
    }
  },
  "cells": [
    {
      "cell_type": "markdown",
      "metadata": {
        "id": "view-in-github",
        "colab_type": "text"
      },
      "source": [
        "<a href=\"https://colab.research.google.com/github/Shahid-coder/python-colab/blob/main/03_strings.ipynb\" target=\"_parent\"><img src=\"https://colab.research.google.com/assets/colab-badge.svg\" alt=\"Open In Colab\"/></a>"
      ]
    },
    {
      "cell_type": "markdown",
      "metadata": {
        "id": "XRQ08AZ5UznB"
      },
      "source": [
        "# Strings\n",
        "Strings in python are surrounded by either single quotation marks, or double quotation marks.\n",
        "\n",
        "'hello' is the same as \"hello\".\n",
        "\n",
        "You can display a string literal with the print() function:"
      ]
    },
    {
      "cell_type": "code",
      "metadata": {
        "id": "hDdLFfxAT1q1",
        "colab": {
          "base_uri": "https://localhost:8080/"
        },
        "outputId": "bd4435bb-ca1e-46f2-acee-c2269cfebc77"
      },
      "source": [
        "print(\"Hello\")\n",
        "print('Hello')"
      ],
      "execution_count": null,
      "outputs": [
        {
          "output_type": "stream",
          "text": [
            "Hello\n",
            "Hello\n"
          ],
          "name": "stdout"
        }
      ]
    },
    {
      "cell_type": "markdown",
      "metadata": {
        "id": "CE5o_nl_VP7H"
      },
      "source": [
        "# Slicing\n",
        "You can return a range of characters by using the slice syntax.\n",
        "\n",
        "Specify the start index and the end index, separated by a colon, to return a part of the string."
      ]
    },
    {
      "cell_type": "code",
      "metadata": {
        "colab": {
          "base_uri": "https://localhost:8080/"
        },
        "id": "aulXMwmcU8U2",
        "outputId": "1eb22e41-6d5c-40f1-b255-786112e0aa4d"
      },
      "source": [
        "b = \"Hello, World!\"\n",
        "print(b[2:5])"
      ],
      "execution_count": null,
      "outputs": [
        {
          "output_type": "stream",
          "text": [
            "llo\n"
          ],
          "name": "stdout"
        }
      ]
    },
    {
      "cell_type": "markdown",
      "metadata": {
        "id": "IOaH80X5VrH8"
      },
      "source": [
        "# Slice To the End\n",
        "By leaving out the end index, the range will go to the end:"
      ]
    },
    {
      "cell_type": "code",
      "metadata": {
        "colab": {
          "base_uri": "https://localhost:8080/"
        },
        "id": "iqNTcwGfVN4i",
        "outputId": "5f7c6c4c-1ff9-42a1-bebf-71d5a7cf7e6d"
      },
      "source": [
        "b = \"Hello, World!\"\n",
        "print(b[2:])"
      ],
      "execution_count": null,
      "outputs": [
        {
          "output_type": "stream",
          "text": [
            "llo, World!\n"
          ],
          "name": "stdout"
        }
      ]
    },
    {
      "cell_type": "markdown",
      "metadata": {
        "id": "HTPQ6hLQV1fZ"
      },
      "source": [
        "# Negative Indexing\n",
        "Use negative indexes to start the slice from the end of the string:"
      ]
    },
    {
      "cell_type": "code",
      "metadata": {
        "colab": {
          "base_uri": "https://localhost:8080/"
        },
        "id": "KvNcqgvzVxMu",
        "outputId": "a77e3f8d-d380-4e48-d22a-40d2a698422e"
      },
      "source": [
        "b = \"Hello, World!\"\n",
        "print(b[-5:-2])"
      ],
      "execution_count": null,
      "outputs": [
        {
          "output_type": "stream",
          "text": [
            "orl\n"
          ],
          "name": "stdout"
        }
      ]
    },
    {
      "cell_type": "markdown",
      "metadata": {
        "id": "QnyS7HZeWWvw"
      },
      "source": [
        "# Python - Modify Strings\n",
        "Python has a set of built-in methods that you can use on strings."
      ]
    },
    {
      "cell_type": "markdown",
      "metadata": {
        "id": "wjledfvZWgjz"
      },
      "source": [
        "Upper Case:"
      ]
    },
    {
      "cell_type": "code",
      "metadata": {
        "colab": {
          "base_uri": "https://localhost:8080/"
        },
        "id": "OPsGyqGKWfOM",
        "outputId": "f2b965a8-4ae8-41e7-c0f8-efc9a16e532b"
      },
      "source": [
        "a = \"Hello, World!\"\n",
        "print(a.upper())"
      ],
      "execution_count": null,
      "outputs": [
        {
          "output_type": "stream",
          "text": [
            "HELLO, WORLD!\n"
          ],
          "name": "stdout"
        }
      ]
    },
    {
      "cell_type": "markdown",
      "metadata": {
        "id": "OZItRE9cWnaq"
      },
      "source": [
        "Lower Case:"
      ]
    },
    {
      "cell_type": "code",
      "metadata": {
        "colab": {
          "base_uri": "https://localhost:8080/"
        },
        "id": "qw932ACxWmLi",
        "outputId": "4d4debd0-872a-4ee6-f7a3-17f12d16b2c4"
      },
      "source": [
        "a = \"Hello, World!\"\n",
        "print(a.lower())"
      ],
      "execution_count": null,
      "outputs": [
        {
          "output_type": "stream",
          "text": [
            "hello, world!\n"
          ],
          "name": "stdout"
        }
      ]
    },
    {
      "cell_type": "markdown",
      "metadata": {
        "id": "mONksT5DWu6I"
      },
      "source": [
        "#### Remove Whitespace:\n",
        "Whitespace is the space before and/or after the actual text, and very often you want to remove this space."
      ]
    },
    {
      "cell_type": "markdown",
      "metadata": {
        "id": "GaGmBXZwW3sA"
      },
      "source": [
        "The strip() method removes any whitespace from the beginning or the end:"
      ]
    },
    {
      "cell_type": "code",
      "metadata": {
        "colab": {
          "base_uri": "https://localhost:8080/"
        },
        "id": "h9hr3bNhWr4G",
        "outputId": "7885ed76-07c5-4b80-9bbd-0f1a9dd5a227"
      },
      "source": [
        "a = \" Hello, World! \"\n",
        "print(a.strip()) # returns \"Hello, World!\""
      ],
      "execution_count": null,
      "outputs": [
        {
          "output_type": "stream",
          "text": [
            "Hello, World!\n"
          ],
          "name": "stdout"
        }
      ]
    },
    {
      "cell_type": "markdown",
      "metadata": {
        "id": "QsYCJqLUXDXF"
      },
      "source": [
        "# Replace String\n",
        "The replace() method replaces a string with another string:"
      ]
    },
    {
      "cell_type": "code",
      "metadata": {
        "colab": {
          "base_uri": "https://localhost:8080/"
        },
        "id": "rMYChue8W9y4",
        "outputId": "554d1699-80f7-424b-c57c-2e57b6b21376"
      },
      "source": [
        "a = \"Hello, World!\"\n",
        "print(a.replace(\"H\", \"J\"))"
      ],
      "execution_count": null,
      "outputs": [
        {
          "output_type": "stream",
          "text": [
            "Jello, World!\n"
          ],
          "name": "stdout"
        }
      ]
    },
    {
      "cell_type": "markdown",
      "metadata": {
        "id": "BQbY2IvYXOqT"
      },
      "source": [
        "# Split String\n",
        "The split() method returns a list where the text between the specified separator becomes the list items."
      ]
    },
    {
      "cell_type": "code",
      "metadata": {
        "colab": {
          "base_uri": "https://localhost:8080/"
        },
        "id": "UssdzTZIXI1M",
        "outputId": "2078cae8-a1e5-4add-b45b-5847f83ccc66"
      },
      "source": [
        "a = \"Hello, World!\"\n",
        "print(a.split(\",\")) # returns ['Hello', ' World!']"
      ],
      "execution_count": null,
      "outputs": [
        {
          "output_type": "stream",
          "text": [
            "['Hello', ' World!']\n"
          ],
          "name": "stdout"
        }
      ]
    },
    {
      "cell_type": "markdown",
      "metadata": {
        "id": "kY-3QD7NXab0"
      },
      "source": [
        "# String Concatenation\n",
        "To concatenate, or combine, two strings you can use the + operator."
      ]
    },
    {
      "cell_type": "markdown",
      "metadata": {
        "id": "q6WDCgjZXmSZ"
      },
      "source": [
        "Merge variable a with variable b into variable c:"
      ]
    },
    {
      "cell_type": "code",
      "metadata": {
        "colab": {
          "base_uri": "https://localhost:8080/",
          "height": 36
        },
        "id": "3cwqWVmXXUxn",
        "outputId": "563ce50f-0b21-47c2-f51f-cb2ce0f67525"
      },
      "source": [
        "a = \"Hello\"\n",
        "b = \"World\"\n",
        "c = a + b\n",
        "c"
      ],
      "execution_count": null,
      "outputs": [
        {
          "output_type": "execute_result",
          "data": {
            "application/vnd.google.colaboratory.intrinsic+json": {
              "type": "string"
            },
            "text/plain": [
              "'HelloWorld'"
            ]
          },
          "metadata": {
            "tags": []
          },
          "execution_count": 11
        }
      ]
    },
    {
      "cell_type": "markdown",
      "metadata": {
        "id": "kzzr6By-Xn5J"
      },
      "source": [
        "To add a space between them, add a \" \":\n"
      ]
    },
    {
      "cell_type": "code",
      "metadata": {
        "colab": {
          "base_uri": "https://localhost:8080/"
        },
        "id": "23UTlKK9Xf-H",
        "outputId": "65532b0b-3fb4-462c-fb98-72923939a3fc"
      },
      "source": [
        "a = \"Hello\"\n",
        "b = \"World\"\n",
        "c = a + \" \" + b\n",
        "print(c)"
      ],
      "execution_count": null,
      "outputs": [
        {
          "output_type": "stream",
          "text": [
            "Hello World\n"
          ],
          "name": "stdout"
        }
      ]
    },
    {
      "cell_type": "markdown",
      "metadata": {
        "id": "-ymbQlhtXzFj"
      },
      "source": [
        "String Format\n",
        "As we learned in the Python Variables chapter, we cannot combine strings and numbers.But we can combine strings and numbers by using the format() method!\n",
        "\n"
      ]
    },
    {
      "cell_type": "markdown",
      "metadata": {
        "id": "Di0VlS7hX-yV"
      },
      "source": [
        "The format() method takes the passed arguments, formats them, and places them in the string where the placeholders {} are:"
      ]
    },
    {
      "cell_type": "code",
      "metadata": {
        "colab": {
          "base_uri": "https://localhost:8080/"
        },
        "id": "L91YQso9Xta7",
        "outputId": "09ac599e-024d-4e4b-da5f-e0ca6d7c19a3"
      },
      "source": [
        "age = 36\n",
        "txt = \"My name is John, and I am {}\"\n",
        "print(txt.format(age))"
      ],
      "execution_count": null,
      "outputs": [
        {
          "output_type": "stream",
          "text": [
            "My name is John, and I am 36\n"
          ],
          "name": "stdout"
        }
      ]
    },
    {
      "cell_type": "markdown",
      "metadata": {
        "id": "IL7pBUrkYLwB"
      },
      "source": [
        "The format() method takes unlimited number of arguments, and are placed into the respective placeholders:"
      ]
    },
    {
      "cell_type": "code",
      "metadata": {
        "colab": {
          "base_uri": "https://localhost:8080/"
        },
        "id": "lgyNi5l_YDyQ",
        "outputId": "5ed574be-c975-46f4-9232-f56c37e95967"
      },
      "source": [
        "quantity = 3\n",
        "itemno = 567\n",
        "price = 49.95\n",
        "myorder = \"I want {} pieces of item {} for {} dollars.\"\n",
        "print(myorder.format(quantity, itemno, price))"
      ],
      "execution_count": null,
      "outputs": [
        {
          "output_type": "stream",
          "text": [
            "I want 3 pieces of item 567 for 49.95 dollars.\n"
          ],
          "name": "stdout"
        }
      ]
    },
    {
      "cell_type": "markdown",
      "metadata": {
        "id": "baIezYHQYRFd"
      },
      "source": [
        "You can use index numbers {0} to be sure the arguments are placed in the correct placeholders:"
      ]
    },
    {
      "cell_type": "code",
      "metadata": {
        "colab": {
          "base_uri": "https://localhost:8080/"
        },
        "id": "SgmLJW0QYN0e",
        "outputId": "89eddff4-3060-4ad3-9811-0dce7e163af4"
      },
      "source": [
        "quantity = 3\n",
        "itemno = 567\n",
        "price = 49.95\n",
        "myorder = \"I want to pay {2} dollars for {0} pieces of item {1}.\"\n",
        "print(myorder.format(quantity, itemno, price))"
      ],
      "execution_count": null,
      "outputs": [
        {
          "output_type": "stream",
          "text": [
            "I want to pay 49.95 dollars for 3 pieces of item 567.\n"
          ],
          "name": "stdout"
        }
      ]
    },
    {
      "cell_type": "markdown",
      "metadata": {
        "id": "qmwWi05eYfO4"
      },
      "source": [
        "Escape Character\n",
        "To insert characters that are illegal in a string, use an escape character.\n",
        "\n",
        "An escape character is a backslash \\ followed by the character you want to insert.\n",
        "\n",
        "An example of an illegal character is a double quote inside a string that is surrounded by double quotes:"
      ]
    },
    {
      "cell_type": "code",
      "metadata": {
        "id": "cefLvdTtYr7j"
      },
      "source": [
        "txt = \"We are the so-called \"Vikings\" from the north.\""
      ],
      "execution_count": null,
      "outputs": []
    },
    {
      "cell_type": "markdown",
      "metadata": {
        "id": "jlTk7OkcYnU6"
      },
      "source": [
        "The escape character allows you to use double quotes when you normally would not be allowed:"
      ]
    },
    {
      "cell_type": "code",
      "metadata": {
        "colab": {
          "base_uri": "https://localhost:8080/",
          "height": 36
        },
        "id": "O-Sj4t55YVpO",
        "outputId": "40e77b74-f968-4be6-b5d4-3e693b23723e"
      },
      "source": [
        "txt = \"We are the so-called \\\"Vikings\\\" from the north.\"\n",
        "txt"
      ],
      "execution_count": null,
      "outputs": [
        {
          "output_type": "execute_result",
          "data": {
            "application/vnd.google.colaboratory.intrinsic+json": {
              "type": "string"
            },
            "text/plain": [
              "'We are the so-called \"Vikings\" from the north.'"
            ]
          },
          "metadata": {
            "tags": []
          },
          "execution_count": 16
        }
      ]
    },
    {
      "cell_type": "markdown",
      "metadata": {
        "id": "AWjQHtS4ZIWN"
      },
      "source": [
        "# String Methods\n",
        "Python has a set of built-in methods that you can use on strings."
      ]
    },
    {
      "cell_type": "code",
      "metadata": {
        "colab": {
          "base_uri": "https://localhost:8080/"
        },
        "id": "4dh-2aYOZM4K",
        "outputId": "c89250d3-eae0-44ba-d9e8-0dc45ed7dc2a"
      },
      "source": [
        "# capitalize\n",
        "# The capitalize() method returns a string where the first character is upper case.\n",
        "txt = \"hello, and welcome to my world.\"\n",
        " \n",
        "x = txt.capitalize()\n",
        " \n",
        "print(x)"
      ],
      "execution_count": null,
      "outputs": [
        {
          "output_type": "stream",
          "text": [
            "Hello, and welcome to my world.\n"
          ],
          "name": "stdout"
        }
      ]
    },
    {
      "cell_type": "code",
      "metadata": {
        "colab": {
          "base_uri": "https://localhost:8080/"
        },
        "id": "mzOhlrs7ZemL",
        "outputId": "5e4c11fd-06dc-4438-b9d9-24b1cdb0356d"
      },
      "source": [
        "#Case fold\n",
        "#Converts string into lower case\n",
        "txt = \"Hello, And Welcome To My World!\"\n",
        " \n",
        "x = txt.casefold()\n",
        " \n",
        "print(x)"
      ],
      "execution_count": null,
      "outputs": [
        {
          "output_type": "stream",
          "text": [
            "hello, and welcome to my world!\n"
          ],
          "name": "stdout"
        }
      ]
    },
    {
      "cell_type": "code",
      "metadata": {
        "colab": {
          "base_uri": "https://localhost:8080/"
        },
        "id": "VJd7CoHVZ5dQ",
        "outputId": "4389bde9-5663-4731-c83d-514c7b25c30a"
      },
      "source": [
        "# center()\n",
        "#Returns a centered string\n",
        "txt = \"banana\"\n",
        " \n",
        "x = txt.center(20)\n",
        " \n",
        "print(x)"
      ],
      "execution_count": null,
      "outputs": [
        {
          "output_type": "stream",
          "text": [
            "       banana       \n"
          ],
          "name": "stdout"
        }
      ]
    },
    {
      "cell_type": "code",
      "metadata": {
        "colab": {
          "base_uri": "https://localhost:8080/"
        },
        "id": "aqOys0a4Z_3F",
        "outputId": "ef7d950d-0539-441d-ba78-511baf58ca96"
      },
      "source": [
        "# count\n",
        "# Returns the number of times a specified value occurs in a string\n",
        "txt = \"I love apples, apple are my favorite fruit\"\n",
        " \n",
        "x = txt.count(\"apple\")\n",
        " \n",
        "print(x)"
      ],
      "execution_count": null,
      "outputs": [
        {
          "output_type": "stream",
          "text": [
            "2\n"
          ],
          "name": "stdout"
        }
      ]
    },
    {
      "cell_type": "code",
      "metadata": {
        "colab": {
          "base_uri": "https://localhost:8080/"
        },
        "id": "CCh413vxaQ6K",
        "outputId": "cfd4938b-1d88-46cf-c05e-f87be6435d24"
      },
      "source": [
        "# encode()\n",
        "# Returns an encoded version of the string\n",
        "txt = \"My name is Ståle\"\n",
        " \n",
        "x = txt.encode()\n",
        " \n",
        "print(x)"
      ],
      "execution_count": null,
      "outputs": [
        {
          "output_type": "stream",
          "text": [
            "b'My name is St\\xc3\\xa5le'\n"
          ],
          "name": "stdout"
        }
      ]
    },
    {
      "cell_type": "code",
      "metadata": {
        "colab": {
          "base_uri": "https://localhost:8080/"
        },
        "id": "yH0UgGaxaY2T",
        "outputId": "60e929f2-b18b-4254-d5cd-dc1525c6ccf1"
      },
      "source": [
        "# endswith\n",
        "# Returns true if the string ends with the specified value\n",
        "txt = \"Hello, welcome to my world.\"\n",
        " \n",
        "x = txt.endswith(\".\")\n",
        " \n",
        "print(x)"
      ],
      "execution_count": null,
      "outputs": [
        {
          "output_type": "stream",
          "text": [
            "True\n"
          ],
          "name": "stdout"
        }
      ]
    },
    {
      "cell_type": "code",
      "metadata": {
        "colab": {
          "base_uri": "https://localhost:8080/"
        },
        "id": "HvLb9qBaavMb",
        "outputId": "6467a52d-7e02-45b5-bbce-10629db08248"
      },
      "source": [
        "# expandtabs()\n",
        "#Sets the tab size of the string\n",
        "txt = \"H\\te\\tl\\tl\\to\"\n",
        " \n",
        "x =  txt.expandtabs(2)\n",
        " \n",
        "print(x)"
      ],
      "execution_count": null,
      "outputs": [
        {
          "output_type": "stream",
          "text": [
            "H e l l o\n"
          ],
          "name": "stdout"
        }
      ]
    },
    {
      "cell_type": "code",
      "metadata": {
        "colab": {
          "base_uri": "https://localhost:8080/"
        },
        "id": "RD0ZiEqMa6QE",
        "outputId": "b477ff72-909e-461d-f37b-aeb7d0167228"
      },
      "source": [
        "# find()\n",
        "# Searches the string for a specified value and returns the position of where it was found\n",
        "txt = \"Hello, welcome to my world.\"\n",
        " \n",
        "x = txt.find(\"welcome\")\n",
        " \n",
        "print(x)"
      ],
      "execution_count": null,
      "outputs": [
        {
          "output_type": "stream",
          "text": [
            "7\n"
          ],
          "name": "stdout"
        }
      ]
    },
    {
      "cell_type": "code",
      "metadata": {
        "colab": {
          "base_uri": "https://localhost:8080/"
        },
        "id": "2FpUHazqa_01",
        "outputId": "b988e763-0559-4f18-bbf9-a489123a29ff"
      },
      "source": [
        "# format()\n",
        "#   Formats specified values in a string\n",
        "txt = \"For only {price:.2f} dollars!\"\n",
        "print(txt.format(price = 49))"
      ],
      "execution_count": null,
      "outputs": [
        {
          "output_type": "stream",
          "text": [
            "For only 49.00 dollars!\n"
          ],
          "name": "stdout"
        }
      ]
    },
    {
      "cell_type": "code",
      "metadata": {
        "id": "7HRVwF8dbaxs"
      },
      "source": [
        "# format_map\n",
        "# Formats specified values in a string"
      ],
      "execution_count": null,
      "outputs": []
    },
    {
      "cell_type": "code",
      "metadata": {
        "colab": {
          "base_uri": "https://localhost:8080/"
        },
        "id": "Tgn-zHb5bjGY",
        "outputId": "254f6af7-13c2-435b-b30f-f42e86c7fe18"
      },
      "source": [
        "# index()\n",
        "#Searches the string for a specified value and returns the position of where it was found\n",
        "txt = \"Hello, welcome to my world.\"\n",
        " \n",
        "x = txt.index(\"welcome\")\n",
        " \n",
        "print(x)"
      ],
      "execution_count": null,
      "outputs": [
        {
          "output_type": "stream",
          "text": [
            "7\n"
          ],
          "name": "stdout"
        }
      ]
    },
    {
      "cell_type": "code",
      "metadata": {
        "colab": {
          "base_uri": "https://localhost:8080/"
        },
        "id": "SgWnfAo3brKM",
        "outputId": "4434714f-0e81-4ef2-9510-384658c2ff19"
      },
      "source": [
        "#isalnum()\n",
        "#Returns True if all characters in the string are alphanumeric\n",
        "txt = \"Company12\"\n",
        " \n",
        "x = txt.isalnum()\n",
        " \n",
        "print(x)"
      ],
      "execution_count": null,
      "outputs": [
        {
          "output_type": "stream",
          "text": [
            "True\n"
          ],
          "name": "stdout"
        }
      ]
    },
    {
      "cell_type": "code",
      "metadata": {
        "colab": {
          "base_uri": "https://localhost:8080/"
        },
        "id": "_b_VQd8Ub3qE",
        "outputId": "34ec4962-0991-4ea0-ff3c-b560701fefbe"
      },
      "source": [
        "#isalpha\n",
        "#Returns True if all characters in the string are in the alphabet\n",
        "txt = \"CompanyX\"\n",
        " \n",
        "x = txt.isalpha()\n",
        " \n",
        "print(x)"
      ],
      "execution_count": null,
      "outputs": [
        {
          "output_type": "stream",
          "text": [
            "True\n"
          ],
          "name": "stdout"
        }
      ]
    },
    {
      "cell_type": "code",
      "metadata": {
        "colab": {
          "base_uri": "https://localhost:8080/"
        },
        "id": "7L90sIdwcILr",
        "outputId": "c01fa073-b1be-4953-cdc3-0b969b704711"
      },
      "source": [
        "#isdecimal()\n",
        "#Returns True if all characters in the string are decimals\n",
        "txt = \"\\u0033\" #unicode for 3\n",
        " \n",
        "x = txt.isdecimal()\n",
        " \n",
        "print(x)"
      ],
      "execution_count": null,
      "outputs": [
        {
          "output_type": "stream",
          "text": [
            "True\n"
          ],
          "name": "stdout"
        }
      ]
    },
    {
      "cell_type": "code",
      "metadata": {
        "colab": {
          "base_uri": "https://localhost:8080/"
        },
        "id": "vAwjaGbLca4d",
        "outputId": "60db2d0c-d216-4c57-fefa-420c6fcbaf14"
      },
      "source": [
        "#isdigits()\n",
        "#Returns True if all characters in the string are digits\n",
        "txt = \"50800\"\n",
        " \n",
        "x = txt.isdigit()\n",
        " \n",
        "print(x)"
      ],
      "execution_count": null,
      "outputs": [
        {
          "output_type": "stream",
          "text": [
            "True\n"
          ],
          "name": "stdout"
        }
      ]
    },
    {
      "cell_type": "code",
      "metadata": {
        "colab": {
          "base_uri": "https://localhost:8080/"
        },
        "id": "88Pw37Z8cj0c",
        "outputId": "fcc258b0-cdc8-4fde-b4bf-0a738fb4e547"
      },
      "source": [
        "#isidentifier()\n",
        "#Returns True if the string is an identifier\n",
        "txt = \"Demo\"\n",
        " \n",
        "x = txt.isidentifier()\n",
        " \n",
        "print(x)"
      ],
      "execution_count": null,
      "outputs": [
        {
          "output_type": "stream",
          "text": [
            "True\n"
          ],
          "name": "stdout"
        }
      ]
    },
    {
      "cell_type": "code",
      "metadata": {
        "colab": {
          "base_uri": "https://localhost:8080/"
        },
        "id": "udUFLFzwc0e9",
        "outputId": "3c53a9b7-8096-4149-8c60-70361289f1c0"
      },
      "source": [
        "#islower()\n",
        "#Returns True if all characters in the string are lower case\n",
        "txt = \"hello world!\"\n",
        " \n",
        "x = txt.islower()\n",
        " \n",
        "print(x)"
      ],
      "execution_count": null,
      "outputs": [
        {
          "output_type": "stream",
          "text": [
            "True\n"
          ],
          "name": "stdout"
        }
      ]
    },
    {
      "cell_type": "code",
      "metadata": {
        "colab": {
          "base_uri": "https://localhost:8080/"
        },
        "id": "ysAncXfHeZR1",
        "outputId": "50bbb50f-7ced-4ea3-f0b5-10804e1d6e12"
      },
      "source": [
        "#isnumeric()\n",
        "#Returns True if all characters in the string are numeric\n",
        "txt = \"565543\"\n",
        " \n",
        "x = txt.isnumeric()\n",
        " \n",
        "print(x)"
      ],
      "execution_count": null,
      "outputs": [
        {
          "output_type": "stream",
          "text": [
            "True\n"
          ],
          "name": "stdout"
        }
      ]
    },
    {
      "cell_type": "code",
      "metadata": {
        "colab": {
          "base_uri": "https://localhost:8080/"
        },
        "id": "-rD9mFiJejTm",
        "outputId": "bb4b0963-d3c2-409c-8430-ae6cc21ec64b"
      },
      "source": [
        "#isprintable()\n",
        "#Returns True if all characters in the string are printable\n",
        "txt = \"Hello! Are you #1?\"\n",
        " \n",
        "x = txt.isprintable()\n",
        " \n",
        "print(x)"
      ],
      "execution_count": null,
      "outputs": [
        {
          "output_type": "stream",
          "text": [
            "True\n"
          ],
          "name": "stdout"
        }
      ]
    },
    {
      "cell_type": "code",
      "metadata": {
        "colab": {
          "base_uri": "https://localhost:8080/"
        },
        "id": "9oByXvyqe0F9",
        "outputId": "8815ffe7-581e-479e-ba6f-9fcada90f225"
      },
      "source": [
        "#isspace()\n",
        "#Returns True if all characters in the string are whitespaces\n",
        "txt = \"   \"\n",
        " \n",
        "x = txt.isspace()\n",
        " \n",
        "print(x)"
      ],
      "execution_count": null,
      "outputs": [
        {
          "output_type": "stream",
          "text": [
            "True\n"
          ],
          "name": "stdout"
        }
      ]
    },
    {
      "cell_type": "code",
      "metadata": {
        "colab": {
          "base_uri": "https://localhost:8080/"
        },
        "id": "mFMkqTxde-gW",
        "outputId": "af064fdf-1406-4491-9a15-3907fb8f5871"
      },
      "source": [
        "#istitle()\n",
        "#Returns True if the string follows the rules of a title\n",
        "txt = \"Hello, And Welcome To My World!\"\n",
        " \n",
        "x = txt.istitle()\n",
        " \n",
        "print(x)"
      ],
      "execution_count": null,
      "outputs": [
        {
          "output_type": "stream",
          "text": [
            "True\n"
          ],
          "name": "stdout"
        }
      ]
    },
    {
      "cell_type": "code",
      "metadata": {
        "colab": {
          "base_uri": "https://localhost:8080/"
        },
        "id": "30Re3fLafPGZ",
        "outputId": "e20f01f2-c5b8-41d4-909e-de29d0108cac"
      },
      "source": [
        "#isupper()\n",
        "#Returns True if all characters in the string are upper case\n",
        "txt = \"THIS IS NOW!\"\n",
        " \n",
        "x = txt.isupper()\n",
        " \n",
        "print(x)"
      ],
      "execution_count": null,
      "outputs": [
        {
          "output_type": "stream",
          "text": [
            "True\n"
          ],
          "name": "stdout"
        }
      ]
    },
    {
      "cell_type": "code",
      "metadata": {
        "colab": {
          "base_uri": "https://localhost:8080/"
        },
        "id": "AEO1PdSCfYdN",
        "outputId": "4d764e72-ab6d-47de-bd29-e53796e471c7"
      },
      "source": [
        "#join()\n",
        "#Joins the elements of an iterable to the end of the string\n",
        "myTuple = (\"John\", \"Peter\", \"Vicky\")\n",
        " \n",
        "x = \"#\".join(myTuple)\n",
        " \n",
        "print(x)"
      ],
      "execution_count": null,
      "outputs": [
        {
          "output_type": "stream",
          "text": [
            "John#Peter#Vicky\n"
          ],
          "name": "stdout"
        }
      ]
    },
    {
      "cell_type": "code",
      "metadata": {
        "colab": {
          "base_uri": "https://localhost:8080/"
        },
        "id": "1c1VGIH5fr9i",
        "outputId": "7d384a24-aadc-4aa5-dcad-a4de6104ddaf"
      },
      "source": [
        "#ljust()\n",
        "#Returns a left justified version of the string\n",
        "txt = \"banana\"\n",
        " \n",
        "x = txt.ljust(20)\n",
        " \n",
        "print(x, \"is my favorite fruit.\")"
      ],
      "execution_count": null,
      "outputs": [
        {
          "output_type": "stream",
          "text": [
            "banana               is my favorite fruit.\n"
          ],
          "name": "stdout"
        }
      ]
    },
    {
      "cell_type": "code",
      "metadata": {
        "colab": {
          "base_uri": "https://localhost:8080/"
        },
        "id": "X9FgGjoif5Y6",
        "outputId": "b09fa396-1e1a-499b-ab47-655b6bd5ce88"
      },
      "source": [
        "#lower()\n",
        "#Converts a string into lower case\n",
        "txt = \"Hello my FRIENDS\"\n",
        " \n",
        "x = txt.lower()\n",
        " \n",
        "print(x)"
      ],
      "execution_count": null,
      "outputs": [
        {
          "output_type": "stream",
          "text": [
            "hello my friends\n"
          ],
          "name": "stdout"
        }
      ]
    },
    {
      "cell_type": "code",
      "metadata": {
        "colab": {
          "base_uri": "https://localhost:8080/"
        },
        "id": "eS8u6eRggDT8",
        "outputId": "c19d6f4d-03ee-4970-b3c4-32e382349d86"
      },
      "source": [
        "#lstrip()\n",
        "#Returns a left trim version of the string\n",
        "txt = \"     banana     \"\n",
        " \n",
        "x = txt.lstrip()\n",
        " \n",
        "print(\"of all fruits\", x, \"is my favorite\")"
      ],
      "execution_count": null,
      "outputs": [
        {
          "output_type": "stream",
          "text": [
            "of all fruits banana      is my favorite\n"
          ],
          "name": "stdout"
        }
      ]
    },
    {
      "cell_type": "code",
      "metadata": {
        "colab": {
          "base_uri": "https://localhost:8080/"
        },
        "id": "Q40ViMaOgPIW",
        "outputId": "8428d768-eec0-4a3c-f530-7e3da0be5f38"
      },
      "source": [
        "#maketrans()\n",
        "#Returns a translation table to be used in translations\n",
        "txt = \"Hello Sam!\"\n",
        "mytable = txt.maketrans(\"S\", \"P\")\n",
        "print(txt.translate(mytable))"
      ],
      "execution_count": null,
      "outputs": [
        {
          "output_type": "stream",
          "text": [
            "Hello Pam!\n"
          ],
          "name": "stdout"
        }
      ]
    },
    {
      "cell_type": "code",
      "metadata": {
        "colab": {
          "base_uri": "https://localhost:8080/"
        },
        "id": "nv27XC_LgYxp",
        "outputId": "124d9b9f-95b1-4b60-c3bc-32d8657e594e"
      },
      "source": [
        "#partition()\n",
        "#Returns a tuple where the string is parted into three parts\n",
        "'''\n",
        "Search for the word \"bananas\", and return a tuple with three elements:\n",
        " \n",
        "1 - everything before the \"match\"\n",
        "2 - the \"match\"\n",
        "3 - everything after the \"match\"\n",
        " \n",
        "'''\n",
        " \n",
        "txt = \"I could eat bananas all day\"\n",
        " \n",
        "x = txt.partition(\"bananas\")\n",
        " \n",
        "print(x)"
      ],
      "execution_count": null,
      "outputs": [
        {
          "output_type": "stream",
          "text": [
            "('I could eat ', 'bananas', ' all day')\n"
          ],
          "name": "stdout"
        }
      ]
    },
    {
      "cell_type": "code",
      "metadata": {
        "colab": {
          "base_uri": "https://localhost:8080/"
        },
        "id": "mUCcC0z3glvd",
        "outputId": "26b05799-d00d-472b-d3d6-a7cccc579556"
      },
      "source": [
        "#replace()\n",
        "#Returns a string where a specified value is replaced with a specified value\n",
        "txt = \"I like bananas\"\n",
        " \n",
        "x = txt.replace(\"bananas\", \"apples\")\n",
        " \n",
        "print(x)"
      ],
      "execution_count": null,
      "outputs": [
        {
          "output_type": "stream",
          "text": [
            "I like apples\n"
          ],
          "name": "stdout"
        }
      ]
    },
    {
      "cell_type": "code",
      "metadata": {
        "colab": {
          "base_uri": "https://localhost:8080/"
        },
        "id": "SirxJ5DMg41Q",
        "outputId": "cf4b0c67-34a5-408c-9324-389c4066dc17"
      },
      "source": [
        "#rfind()\n",
        "#Searches the string for a specified value and returns the last position of where it was found\n",
        "txt = \"Mi casa, su casa.\"\n",
        " \n",
        "x = txt.rfind(\"casa\")\n",
        " \n",
        "print(x)"
      ],
      "execution_count": null,
      "outputs": [
        {
          "output_type": "stream",
          "text": [
            "12\n"
          ],
          "name": "stdout"
        }
      ]
    },
    {
      "cell_type": "code",
      "metadata": {
        "colab": {
          "base_uri": "https://localhost:8080/"
        },
        "id": "Q-T0almNhFcP",
        "outputId": "30995966-d41f-4b9f-b4f0-dd09f0a8992e"
      },
      "source": [
        "#rindex()\n",
        "#Searches the string for a specified value and returns the last position of where it was found\n",
        "txt = \"Mi casa, su casa.\"\n",
        " \n",
        "x = txt.rindex(\"casa\")\n",
        " \n",
        "print(x)"
      ],
      "execution_count": null,
      "outputs": [
        {
          "output_type": "stream",
          "text": [
            "12\n"
          ],
          "name": "stdout"
        }
      ]
    },
    {
      "cell_type": "code",
      "metadata": {
        "colab": {
          "base_uri": "https://localhost:8080/"
        },
        "id": "j8_3rGbGhMTL",
        "outputId": "3a8028d0-3093-42e1-be73-7245cf917c80"
      },
      "source": [
        "#rjust()\n",
        "#Returns a right justified version of the string\n",
        "txt = \"banana\"\n",
        " \n",
        "x = txt.rjust(20)\n",
        " \n",
        "print(x, \"is my favorite fruit.\")"
      ],
      "execution_count": null,
      "outputs": [
        {
          "output_type": "stream",
          "text": [
            "              banana is my favorite fruit.\n"
          ],
          "name": "stdout"
        }
      ]
    },
    {
      "cell_type": "code",
      "metadata": {
        "colab": {
          "base_uri": "https://localhost:8080/"
        },
        "id": "Q_G4uvC5hj7F",
        "outputId": "ff470dfb-7854-4f72-9168-a456cf44106b"
      },
      "source": [
        "#rpartition()\n",
        "#Returns a tuple where the string is parted into three parts\n",
        "'''\n",
        "Search for the last occurrence of the word \"bananas\", and return a tuple with three elements:\n",
        " \n",
        "1 - everything before the \"match\"\n",
        "2 - the \"match\"\n",
        "3 - everything after the \"match\"\n",
        "'''\n",
        "txt = \"I could eat bananas all day, bananas are my favorite fruit\"\n",
        " \n",
        "x = txt.rpartition(\"bananas\")\n",
        " \n",
        "print(x)"
      ],
      "execution_count": null,
      "outputs": [
        {
          "output_type": "stream",
          "text": [
            "('I could eat bananas all day, ', 'bananas', ' are my favorite fruit')\n"
          ],
          "name": "stdout"
        }
      ]
    },
    {
      "cell_type": "code",
      "metadata": {
        "colab": {
          "base_uri": "https://localhost:8080/"
        },
        "id": "ySATgMpHh4eY",
        "outputId": "c1f5656e-9657-4911-998e-dc18668263ce"
      },
      "source": [
        "#rsplit()\n",
        "#Splits the string at the specified separator, and returns a list\n",
        "txt = \"apple, banana, cherry\"\n",
        " \n",
        "x = txt.rsplit(\", \")\n",
        " \n",
        "print(x)"
      ],
      "execution_count": null,
      "outputs": [
        {
          "output_type": "stream",
          "text": [
            "['apple', 'banana', 'cherry']\n"
          ],
          "name": "stdout"
        }
      ]
    },
    {
      "cell_type": "code",
      "metadata": {
        "colab": {
          "base_uri": "https://localhost:8080/"
        },
        "id": "O63_obLKiFEr",
        "outputId": "72c112f1-7fb8-410b-c7f5-2839aad557d2"
      },
      "source": [
        "#rstrip()\n",
        "#Returns a right trim version of the string\n",
        "txt = \"     banana     \"\n",
        " \n",
        "x = txt.rstrip()\n",
        " \n",
        "print(\"of all fruits\", x, \"is my favorite\")"
      ],
      "execution_count": null,
      "outputs": [
        {
          "output_type": "stream",
          "text": [
            "of all fruits      banana is my favorite\n"
          ],
          "name": "stdout"
        }
      ]
    },
    {
      "cell_type": "code",
      "metadata": {
        "colab": {
          "base_uri": "https://localhost:8080/"
        },
        "id": "Mo94a6TTibUg",
        "outputId": "ce43f334-7c9f-4531-f3ad-edbc1c9d14d2"
      },
      "source": [
        "#rsplit()\n",
        "#Splits the string at the specified separator, and returns a list\n",
        "txt = \"welcome to the jungle\"\n",
        " \n",
        "x = txt.split()\n",
        " \n",
        "print(x)"
      ],
      "execution_count": null,
      "outputs": [
        {
          "output_type": "stream",
          "text": [
            "['welcome', 'to', 'the', 'jungle']\n"
          ],
          "name": "stdout"
        }
      ]
    },
    {
      "cell_type": "code",
      "metadata": {
        "colab": {
          "base_uri": "https://localhost:8080/"
        },
        "id": "VXAM0pyRimdw",
        "outputId": "f326467a-41df-48e9-8fb1-913f67da83cf"
      },
      "source": [
        "#splitlines()\n",
        "#Splits the string at line breaks and returns a list\n",
        "txt = \"Thank you for the music\\nWelcome to the jungle\"\n",
        " \n",
        "x = txt.splitlines()\n",
        " \n",
        "print(x)"
      ],
      "execution_count": null,
      "outputs": [
        {
          "output_type": "stream",
          "text": [
            "['Thank you for the music', 'Welcome to the jungle']\n"
          ],
          "name": "stdout"
        }
      ]
    },
    {
      "cell_type": "code",
      "metadata": {
        "colab": {
          "base_uri": "https://localhost:8080/"
        },
        "id": "1kRSCKI6iv90",
        "outputId": "e87eea23-2dbe-4d6d-ebab-ae86a3d5e530"
      },
      "source": [
        "#startswith()\n",
        "#Returns true if the string starts with the specified value\n",
        "txt = \"Hello, welcome to my world.\"\n",
        " \n",
        "x = txt.startswith(\"Hello\")\n",
        " \n",
        "print(x)"
      ],
      "execution_count": null,
      "outputs": [
        {
          "output_type": "stream",
          "text": [
            "True\n"
          ],
          "name": "stdout"
        }
      ]
    },
    {
      "cell_type": "code",
      "metadata": {
        "colab": {
          "base_uri": "https://localhost:8080/"
        },
        "id": "gy1B98aci-hB",
        "outputId": "a7545ac4-b760-448a-d8f1-01f5218cfca3"
      },
      "source": [
        "#strip()\n",
        "#Returns a trimmed version of the string\n",
        "txt = \"     banana     \"\n",
        " \n",
        "x = txt.strip()\n",
        " \n",
        "print(\"of all fruits\", x, \"is my favorite\")"
      ],
      "execution_count": null,
      "outputs": [
        {
          "output_type": "stream",
          "text": [
            "of all fruits banana is my favorite\n"
          ],
          "name": "stdout"
        }
      ]
    },
    {
      "cell_type": "code",
      "metadata": {
        "colab": {
          "base_uri": "https://localhost:8080/"
        },
        "id": "nrSk6H-FjJ2z",
        "outputId": "6dcc4f24-950a-4229-b808-d2f2b1170036"
      },
      "source": [
        "#swapcase\n",
        "#Swaps cases, lower case becomes upper case and vice versa\n",
        "txt = \"Hello My Name Is PETER\"\n",
        " \n",
        "x = txt.swapcase()\n",
        " \n",
        "print(x)"
      ],
      "execution_count": null,
      "outputs": [
        {
          "output_type": "stream",
          "text": [
            "hELLO mY nAME iS peter\n"
          ],
          "name": "stdout"
        }
      ]
    },
    {
      "cell_type": "code",
      "metadata": {
        "colab": {
          "base_uri": "https://localhost:8080/"
        },
        "id": "1PrnZ0TsjUbC",
        "outputId": "765fb1bb-2a79-4ea6-ec58-e59cf4b23d12"
      },
      "source": [
        "#title()\n",
        "#Converts the first character of each word to upper case\n",
        "txt = \"Welcome to my world\"\n",
        " \n",
        "x = txt.title()\n",
        " \n",
        "print(x)"
      ],
      "execution_count": null,
      "outputs": [
        {
          "output_type": "stream",
          "text": [
            "Welcome To My World\n"
          ],
          "name": "stdout"
        }
      ]
    },
    {
      "cell_type": "code",
      "metadata": {
        "colab": {
          "base_uri": "https://localhost:8080/"
        },
        "id": "UOITMO5ajmAD",
        "outputId": "5a12ed2c-ae1a-4517-a7aa-691b4a51e208"
      },
      "source": [
        "#translate()\n",
        "#Returns a translated string\n",
        "#use a dictionary with ascii codes to replace 83 (S) with 80 (P):\n",
        "mydict = {83:  80}\n",
        "txt = \"Hello Sam!\"\n",
        "print(txt.translate(mydict))"
      ],
      "execution_count": null,
      "outputs": [
        {
          "output_type": "stream",
          "text": [
            "Hello Pam!\n"
          ],
          "name": "stdout"
        }
      ]
    },
    {
      "cell_type": "code",
      "metadata": {
        "colab": {
          "base_uri": "https://localhost:8080/"
        },
        "id": "Cx-NKCLDjx2J",
        "outputId": "4620095a-2d88-4575-ce2f-d78ede569c8a"
      },
      "source": [
        "#upper()\n",
        "#Converts a string into upper case\n",
        "txt = \"Hello my friends\"\n",
        " \n",
        "x = txt.upper()\n",
        " \n",
        "print(x)"
      ],
      "execution_count": null,
      "outputs": [
        {
          "output_type": "stream",
          "text": [
            "HELLO MY FRIENDS\n"
          ],
          "name": "stdout"
        }
      ]
    },
    {
      "cell_type": "code",
      "metadata": {
        "id": "6zK2Fqe7j-f3"
      },
      "source": [
        "#zfill()\n",
        "#Fills the string with a specified number of 0 values at the beginning\n",
        "txt = \"50\"\n",
        " \n",
        "x = txt.zfill(10)\n",
        " \n",
        "print(x)"
      ],
      "execution_count": null,
      "outputs": []
    }
  ]
}