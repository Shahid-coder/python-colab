{
  "nbformat": 4,
  "nbformat_minor": 0,
  "metadata": {
    "colab": {
      "name": "10_python_math.ipynb",
      "provenance": [],
      "collapsed_sections": [],
      "authorship_tag": "ABX9TyOKWyLCfsnL06EJpXiv65aT",
      "include_colab_link": true
    },
    "kernelspec": {
      "name": "python3",
      "display_name": "Python 3"
    },
    "language_info": {
      "name": "python"
    }
  },
  "cells": [
    {
      "cell_type": "markdown",
      "metadata": {
        "id": "view-in-github",
        "colab_type": "text"
      },
      "source": [
        "<a href=\"https://colab.research.google.com/github/Shahid-coder/python-colab/blob/main/10_python_math.ipynb\" target=\"_parent\"><img src=\"https://colab.research.google.com/assets/colab-badge.svg\" alt=\"Open In Colab\"/></a>"
      ]
    },
    {
      "cell_type": "markdown",
      "metadata": {
        "id": "-vQtWeG76QN6"
      },
      "source": [
        "## Python Math"
      ]
    },
    {
      "cell_type": "markdown",
      "metadata": {
        "id": "-zttMhiR6Uxc"
      },
      "source": [
        "Python has a set of built-in math functions, including an extensive math module, that allows you to perform mathematical tasks on numbers.\n",
        "\n"
      ]
    },
    {
      "cell_type": "markdown",
      "metadata": {
        "id": "3D6c13ZF6Yni"
      },
      "source": [
        "## Built-in Math Functions\n",
        "\n"
      ]
    },
    {
      "cell_type": "markdown",
      "metadata": {
        "id": "2b8Yp2j067kj"
      },
      "source": [
        "## The min() and max():\n",
        "The min() and max() functions can be used to find the lowest or highest value in an iterable:"
      ]
    },
    {
      "cell_type": "code",
      "metadata": {
        "colab": {
          "base_uri": "https://localhost:8080/"
        },
        "id": "oZo71whl576d",
        "outputId": "cf32fd06-1846-4db7-f96b-4d38a3b32c94"
      },
      "source": [
        "x = min(5, 10, 25)\n",
        "y = max(5, 10, 25)\n",
        "\n",
        "print(x)\n",
        "print(y)"
      ],
      "execution_count": null,
      "outputs": [
        {
          "output_type": "stream",
          "text": [
            "5\n",
            "25\n"
          ],
          "name": "stdout"
        }
      ]
    },
    {
      "cell_type": "markdown",
      "metadata": {
        "id": "AnoQWqjt6tqg"
      },
      "source": [
        "## The abs() function:"
      ]
    },
    {
      "cell_type": "markdown",
      "metadata": {
        "id": "xZ1UGnXj6k50"
      },
      "source": [
        "The abs() function returns the absolute (positive) value of the specified number:"
      ]
    },
    {
      "cell_type": "code",
      "metadata": {
        "colab": {
          "base_uri": "https://localhost:8080/"
        },
        "id": "43rIDW086dpo",
        "outputId": "1667c06a-cf07-4b28-d934-e846dffe3e99"
      },
      "source": [
        "x = abs(-7.25)\n",
        "\n",
        "print(x)\n"
      ],
      "execution_count": null,
      "outputs": [
        {
          "output_type": "stream",
          "text": [
            "7.25\n"
          ],
          "name": "stdout"
        }
      ]
    },
    {
      "cell_type": "markdown",
      "metadata": {
        "id": "qli9jykk7H05"
      },
      "source": [
        "## The pow \n",
        "The pow(x, y) function returns the value of x to the power of y (xy)."
      ]
    },
    {
      "cell_type": "code",
      "metadata": {
        "colab": {
          "base_uri": "https://localhost:8080/"
        },
        "id": "4M5wYyN76nvo",
        "outputId": "c1331fc7-b0bc-4615-8b10-5b69bbbc37ba"
      },
      "source": [
        "x = pow(4, 3)\n",
        "\n",
        "print(x)"
      ],
      "execution_count": null,
      "outputs": [
        {
          "output_type": "stream",
          "text": [
            "64\n"
          ],
          "name": "stdout"
        }
      ]
    },
    {
      "cell_type": "markdown",
      "metadata": {
        "id": "MQs4J2p37S0R"
      },
      "source": [
        "## The Math Module\n",
        "Python has also a built-in module called math, which extends the list of mathematical functions.\n",
        "\n",
        "To use it, you must import the math module:"
      ]
    },
    {
      "cell_type": "code",
      "metadata": {
        "id": "Hfpmp9XM7Nxj"
      },
      "source": [
        "import math"
      ],
      "execution_count": null,
      "outputs": []
    },
    {
      "cell_type": "markdown",
      "metadata": {
        "id": "2-dUxXkk7bn9"
      },
      "source": [
        "When you have imported the math module, you can start using methods and constants of the module.\n",
        "\n",
        "The math.sqrt() method for example, returns the square root of a number:"
      ]
    },
    {
      "cell_type": "code",
      "metadata": {
        "colab": {
          "base_uri": "https://localhost:8080/"
        },
        "id": "HzhVbQbj7Xy-",
        "outputId": "4843a1b6-12d9-40a2-b230-b377ebb9b9ee"
      },
      "source": [
        "import math\n",
        "\n",
        "x = math.sqrt(64)\n",
        "\n",
        "print(x)"
      ],
      "execution_count": null,
      "outputs": [
        {
          "output_type": "stream",
          "text": [
            "8.0\n"
          ],
          "name": "stdout"
        }
      ]
    },
    {
      "cell_type": "markdown",
      "metadata": {
        "id": "_NqTUJW17i0K"
      },
      "source": [
        "## The math.ceil() and the math.floor():\n",
        "The math.ceil() method rounds a number upwards to its nearest integer, and the math.floor() method rounds a number downwards to its nearest integer, and returns the result:"
      ]
    },
    {
      "cell_type": "code",
      "metadata": {
        "colab": {
          "base_uri": "https://localhost:8080/"
        },
        "id": "xioZLzcq7fnS",
        "outputId": "9d51608b-99d3-46b5-eda3-edc7f7e0feec"
      },
      "source": [
        "import math\n",
        "\n",
        "x = math.ceil(1.4)\n",
        "y = math.floor(1.4)\n",
        "\n",
        "print(x) # returns 2\n",
        "print(y) # returns 1"
      ],
      "execution_count": null,
      "outputs": [
        {
          "output_type": "stream",
          "text": [
            "2\n",
            "1\n"
          ],
          "name": "stdout"
        }
      ]
    },
    {
      "cell_type": "markdown",
      "metadata": {
        "id": "3LGSb7KU79Cm"
      },
      "source": [
        "## The math.pi\n",
        "The math.pi constant, returns the value of PI (3.14...):"
      ]
    },
    {
      "cell_type": "code",
      "metadata": {
        "colab": {
          "base_uri": "https://localhost:8080/"
        },
        "id": "kE6Uffy17sg7",
        "outputId": "0e4735d1-b1d5-4c8e-a1a4-0d64627139b0"
      },
      "source": [
        "import math\n",
        "\n",
        "x = math.pi\n",
        "\n",
        "print(x)"
      ],
      "execution_count": null,
      "outputs": [
        {
          "output_type": "stream",
          "text": [
            "3.141592653589793\n"
          ],
          "name": "stdout"
        }
      ]
    },
    {
      "cell_type": "markdown",
      "metadata": {
        "id": "AKUg6pm18Mvb"
      },
      "source": [
        "The complete math module reference-[https://www.w3schools.com/python/module_math.asp](https://www.w3schools.com/python/module_math.asp)"
      ]
    },
    {
      "cell_type": "markdown",
      "metadata": {
        "id": "8rdSbyXG8g2e"
      },
      "source": [
        "The complete cmath module reference:https://www.w3schools.com/python/module_cmath.asp"
      ]
    },
    {
      "cell_type": "code",
      "metadata": {
        "id": "3aoXxBxA8mSJ"
      },
      "source": [
        ""
      ],
      "execution_count": null,
      "outputs": []
    }
  ]
}