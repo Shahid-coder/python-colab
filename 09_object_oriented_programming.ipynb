{
  "nbformat": 4,
  "nbformat_minor": 0,
  "metadata": {
    "colab": {
      "name": "09_object_oriented_programming.ipynb",
      "provenance": [],
      "collapsed_sections": [],
      "authorship_tag": "ABX9TyMfZuN8DDDOi5ZGEb9DCnwP",
      "include_colab_link": true
    },
    "kernelspec": {
      "name": "python3",
      "display_name": "Python 3"
    },
    "language_info": {
      "name": "python"
    }
  },
  "cells": [
    {
      "cell_type": "markdown",
      "metadata": {
        "id": "view-in-github",
        "colab_type": "text"
      },
      "source": [
        "<a href=\"https://colab.research.google.com/github/Shahid-coder/python-colab/blob/main/09_object_oriented_programming.ipynb\" target=\"_parent\"><img src=\"https://colab.research.google.com/assets/colab-badge.svg\" alt=\"Open In Colab\"/></a>"
      ]
    },
    {
      "cell_type": "markdown",
      "metadata": {
        "id": "xOJ4FY6S0gzn"
      },
      "source": [
        "## Python Classes and Objects"
      ]
    },
    {
      "cell_type": "markdown",
      "metadata": {
        "id": "b8KZW9pB0pT0"
      },
      "source": [
        "Python is an object oriented programming language.\n",
        "\n",
        "Almost everything in Python is an object, with its properties and methods.\n",
        "\n",
        "A Class is like an object constructor, or a \"blueprint\" for creating objects.\n",
        "\n"
      ]
    },
    {
      "cell_type": "markdown",
      "metadata": {
        "id": "Jy8GHCbE0zF-"
      },
      "source": [
        "## Create a Class\n",
        "To create a class, use the keyword class:"
      ]
    },
    {
      "cell_type": "code",
      "metadata": {
        "id": "4svB0rzI0HV2"
      },
      "source": [
        "class MyClass:\n",
        "  x = 5"
      ],
      "execution_count": null,
      "outputs": []
    },
    {
      "cell_type": "markdown",
      "metadata": {
        "id": "GTHrfda_OC5x"
      },
      "source": [
        "Note:Class name is generally written in pascal case.\n",
        "\n"
      ]
    },
    {
      "cell_type": "markdown",
      "metadata": {
        "id": "uWXuz6Fr1C-E"
      },
      "source": [
        "## Create Object\n",
        "Now we can use the class named MyClass to create objects:"
      ]
    },
    {
      "cell_type": "code",
      "metadata": {
        "colab": {
          "base_uri": "https://localhost:8080/"
        },
        "id": "wSteFzSJ03P_",
        "outputId": "f5df5763-5036-4579-8a02-e278cc6267fa"
      },
      "source": [
        "p1 = MyClass()\n",
        "print(p1.x)"
      ],
      "execution_count": null,
      "outputs": [
        {
          "output_type": "stream",
          "text": [
            "5\n"
          ],
          "name": "stdout"
        }
      ]
    },
    {
      "cell_type": "markdown",
      "metadata": {
        "id": "MQ1ZJKic1LtH"
      },
      "source": [
        "## The `__init__()` Function\n",
        "The examples above are classes and objects in their simplest form, and are not really useful in real life applications.\n",
        "\n",
        "To understand the meaning of classes we have to understand the built-in `__init__()` function.\n",
        "\n",
        "All classes have a function called `__init__()`, which is always executed when the class is being initiated.\n",
        "\n",
        "Use the `__init__()` function to assign values to object properties, or other operations that are necessary to do when the object is being created:"
      ]
    },
    {
      "cell_type": "code",
      "metadata": {
        "colab": {
          "base_uri": "https://localhost:8080/"
        },
        "id": "Sdyw1Oje1HUM",
        "outputId": "e83fb34e-d1dd-442c-ea71-9d23b347e57a"
      },
      "source": [
        "class Person:\n",
        "  def __init__(self, name, age):\n",
        "    self.name = name\n",
        "    self.age = age\n",
        "\n",
        "p1 = Person(\"John\", 36)\n",
        "\n",
        "print(p1.name)\n",
        "print(p1.age)\n"
      ],
      "execution_count": null,
      "outputs": [
        {
          "output_type": "stream",
          "text": [
            "John\n",
            "36\n"
          ],
          "name": "stdout"
        }
      ]
    },
    {
      "cell_type": "markdown",
      "metadata": {
        "id": "a8yi8wXb16Ji"
      },
      "source": [
        "Note: The __init__() function is called automatically every time the class is being used to create a new object."
      ]
    },
    {
      "cell_type": "markdown",
      "metadata": {
        "id": "a-RqNAQk1_y5"
      },
      "source": [
        "## Object Methods\n",
        "Objects can also contain methods. Methods in objects are functions that belong to the object."
      ]
    },
    {
      "cell_type": "markdown",
      "metadata": {
        "id": "TPHJuSFa2CAx"
      },
      "source": [
        "Let us create a method in the Person class:"
      ]
    },
    {
      "cell_type": "code",
      "metadata": {
        "colab": {
          "base_uri": "https://localhost:8080/"
        },
        "id": "WqpGVIo41qHB",
        "outputId": "96904e43-9193-4b64-a8ea-0d14541a4b61"
      },
      "source": [
        "class Person:\n",
        "  def __init__(self, name, age):\n",
        "    self.name = name\n",
        "    self.age = age\n",
        "\n",
        "  def myfunc(self):\n",
        "    print(\"Hello my name is \" + self.name)\n",
        "\n",
        "p1 = Person(\"John\", 36)\n",
        "print(p1.myfunc())"
      ],
      "execution_count": null,
      "outputs": [
        {
          "output_type": "stream",
          "text": [
            "Hello my name is John\n",
            "None\n"
          ],
          "name": "stdout"
        }
      ]
    },
    {
      "cell_type": "markdown",
      "metadata": {
        "id": "JCQtUmyE2Zty"
      },
      "source": [
        "Note: The self parameter is a reference to the current instance of the class, and is used to access variables that belong to the class.\n",
        "\n"
      ]
    },
    {
      "cell_type": "markdown",
      "metadata": {
        "id": "5RjzxzL82eYp"
      },
      "source": [
        "## The self Parameter\n",
        "The self parameter is a reference to the current instance of the class, and is used to access variables that belongs to the class.\n",
        "\n",
        "It does not have to be named self , you can call it whatever you like, but it has to be the first parameter of any function in the class:"
      ]
    },
    {
      "cell_type": "code",
      "metadata": {
        "colab": {
          "base_uri": "https://localhost:8080/"
        },
        "id": "mQxCYR1X2HIu",
        "outputId": "3bbc528c-21b5-4d3a-84a9-762cb38d339a"
      },
      "source": [
        "#Use the words mysillyobject and abc instead of self:\n",
        "class Person:\n",
        "  def __init__(mysillyobject, name, age):\n",
        "    mysillyobject.name = name\n",
        "    mysillyobject.age = age\n",
        "\n",
        "  def myfunc(abc):\n",
        "    print(\"Hello my name is \" + abc.name)\n",
        "\n",
        "p1 = Person(\"John\", 36)\n",
        "p1.myfunc()"
      ],
      "execution_count": null,
      "outputs": [
        {
          "output_type": "stream",
          "text": [
            "Hello my name is John\n"
          ],
          "name": "stdout"
        }
      ]
    },
    {
      "cell_type": "markdown",
      "metadata": {
        "id": "ELvBiaf026U4"
      },
      "source": [
        "## Modify Object Properties\n",
        "You can modify properties on objects like this:"
      ]
    },
    {
      "cell_type": "code",
      "metadata": {
        "colab": {
          "base_uri": "https://localhost:8080/"
        },
        "id": "Yfx7DgFf2uRy",
        "outputId": "307d9050-ef83-4bd1-8164-e7d590b379e2"
      },
      "source": [
        "#Set the age of p1 to 40:\n",
        "p1.age = 40\n",
        "p1.age"
      ],
      "execution_count": null,
      "outputs": [
        {
          "output_type": "execute_result",
          "data": {
            "text/plain": [
              "40"
            ]
          },
          "metadata": {
            "tags": []
          },
          "execution_count": 50
        }
      ]
    },
    {
      "cell_type": "markdown",
      "metadata": {
        "id": "Pfb6HKTM3MHS"
      },
      "source": [
        "## Delete Object Properties\n",
        "You can delete properties on objects by using the del keyword:"
      ]
    },
    {
      "cell_type": "code",
      "metadata": {
        "id": "yZa3gi0J3FfS"
      },
      "source": [
        "#Delete the age property from the p1 object:\n",
        "del p1.age"
      ],
      "execution_count": null,
      "outputs": []
    },
    {
      "cell_type": "markdown",
      "metadata": {
        "id": "M8zKFB2I3XOB"
      },
      "source": [
        "## Delete Objects\n",
        "You can delete objects by using the del keyword:"
      ]
    },
    {
      "cell_type": "code",
      "metadata": {
        "id": "No6bk93uCwxw"
      },
      "source": [
        "del p1 "
      ],
      "execution_count": null,
      "outputs": []
    },
    {
      "cell_type": "markdown",
      "metadata": {
        "id": "Yr8_pMbQ3tO7"
      },
      "source": [
        "## The pass Statement\n",
        "class definitions cannot be empty, but if you for some reason have a class definition with no content, put in the pass statement to avoid getting an error."
      ]
    },
    {
      "cell_type": "code",
      "metadata": {
        "id": "8MB3Cn7b3TsR"
      },
      "source": [
        "class Person:\n",
        "  pass"
      ],
      "execution_count": null,
      "outputs": []
    },
    {
      "cell_type": "markdown",
      "metadata": {
        "id": "VrlMzTeU3-6X"
      },
      "source": [
        "## Python Inheritance"
      ]
    },
    {
      "cell_type": "markdown",
      "metadata": {
        "id": "7g-zbHAj4Eeh"
      },
      "source": [
        "## Python Inheritance\n",
        "Inheritance allows us to define a class that inherits all the methods and properties from another class.\n",
        "\n",
        "Parent class is the class being inherited from, also called base class.\n",
        "\n",
        "Child class is the class that inherits from another class, also called derived class."
      ]
    },
    {
      "cell_type": "markdown",
      "metadata": {
        "id": "HaQo_SrP4Rw9"
      },
      "source": [
        "## Create a Parent Class\n",
        "Any class can be a parent class, so the syntax is the same as creating any other class:"
      ]
    },
    {
      "cell_type": "code",
      "metadata": {
        "colab": {
          "base_uri": "https://localhost:8080/"
        },
        "id": "0sK_PNxA3ypd",
        "outputId": "40ce0e02-e549-46bb-af40-baa6038fa3ac"
      },
      "source": [
        "class Person:\n",
        "  def __init__(self, fname, lname):\n",
        "    self.firstname = fname\n",
        "    self.lastname = lname\n",
        "\n",
        "  def printname(self):\n",
        "    print(self.firstname, self.lastname)\n",
        "\n",
        "#Use the Person class to create an object, and then execute the printname method:\n",
        "\n",
        "x = Person(\"John\", \"Doe\")\n",
        "x.printname()"
      ],
      "execution_count": null,
      "outputs": [
        {
          "output_type": "stream",
          "text": [
            "John Doe\n"
          ],
          "name": "stdout"
        }
      ]
    },
    {
      "cell_type": "markdown",
      "metadata": {
        "id": "atriZrGk4jnw"
      },
      "source": [
        "## Create a Child Class\n",
        "To create a class that inherits the functionality from another class, send the parent class as a parameter when creating the child class:"
      ]
    },
    {
      "cell_type": "code",
      "metadata": {
        "id": "fe0WBgnR4YCB"
      },
      "source": [
        "#Create a class named Student, which will inherit the properties and methods from the Person class:\n",
        "class Student(Person):\n",
        "  pass"
      ],
      "execution_count": null,
      "outputs": []
    },
    {
      "cell_type": "markdown",
      "metadata": {
        "id": "q-rqhXY-498f"
      },
      "source": [
        "Note: Use the pass keyword when you do not want to add any other properties or methods to the class."
      ]
    },
    {
      "cell_type": "markdown",
      "metadata": {
        "id": "E_2nIi155CZ2"
      },
      "source": [
        "Now the Student class has the same properties and methods as the Person class."
      ]
    },
    {
      "cell_type": "code",
      "metadata": {
        "colab": {
          "base_uri": "https://localhost:8080/"
        },
        "id": "dMAUD3tb4y63",
        "outputId": "a9ba9edc-78d5-4f10-98f4-a9a825533296"
      },
      "source": [
        "#Use the Student class to create an object, and then execute the printname method:\n",
        "x = Student(\"Mike\", \"Olsen\")\n",
        "x.printname()"
      ],
      "execution_count": null,
      "outputs": [
        {
          "output_type": "stream",
          "text": [
            "Mike Olsen\n"
          ],
          "name": "stdout"
        }
      ]
    },
    {
      "cell_type": "markdown",
      "metadata": {
        "id": "IhyCunLe5NUy"
      },
      "source": [
        "## Add the `__init__()` Function\n",
        "So far we have created a child class that inherits the properties and methods from its parent.\n",
        "\n",
        "We want to add the `__init__()` function to the child class (instead of the pass keyword)."
      ]
    },
    {
      "cell_type": "markdown",
      "metadata": {
        "id": "EZNlp5Xc5WHb"
      },
      "source": [
        "Note: The `__init__()` function is called automatically every time the class is being used to create a new object."
      ]
    },
    {
      "cell_type": "code",
      "metadata": {
        "id": "1LHKcoTW5IN3"
      },
      "source": [
        "#Add the __init__() function to the Student class:\n",
        "class Student(Person):\n",
        "  def __init__(self, fname, lname):\n",
        "    '''add properties etc.'''"
      ],
      "execution_count": null,
      "outputs": []
    },
    {
      "cell_type": "markdown",
      "metadata": {
        "id": "CgDB5bky5ygN"
      },
      "source": [
        "When you add the `__init__()` function, the child class will no longer inherit the parent's `__init__()` function."
      ]
    },
    {
      "cell_type": "markdown",
      "metadata": {
        "id": "EOnvV_6f55Qo"
      },
      "source": [
        "Note: The child's `__init__()` function overrides the inheritance of the parent's `__init__()` function."
      ]
    },
    {
      "cell_type": "markdown",
      "metadata": {
        "id": "l4CxtD2l6F5w"
      },
      "source": [
        "To keep the inheritance of the parent's `__init__()` function, add a call to the parent's `__init__()` function:"
      ]
    },
    {
      "cell_type": "code",
      "metadata": {
        "id": "z-IUTclS5ixv"
      },
      "source": [
        "class Student(Person):\n",
        "  def __init__(self, fname, lname):\n",
        "    Person.__init__(self, fname, lname)\n"
      ],
      "execution_count": null,
      "outputs": []
    },
    {
      "cell_type": "markdown",
      "metadata": {
        "id": "WDPlRlEb6Sd0"
      },
      "source": [
        "Now we have successfully added the `__init__()` function, and kept the inheritance of the parent class, and we are ready to add functionality in the `__init__()` function."
      ]
    },
    {
      "cell_type": "markdown",
      "metadata": {
        "id": "J95R-hAz6fbC"
      },
      "source": [
        "## Use the super() Function\n",
        "Python also has a super() function that will make the child class inherit all the methods and properties from its parent:"
      ]
    },
    {
      "cell_type": "code",
      "metadata": {
        "id": "dqNWIsmW6CdQ"
      },
      "source": [
        "class Student(Person):\n",
        "  def __init__(self, fname, lname):\n",
        "    super().__init__(fname, lname)\n"
      ],
      "execution_count": null,
      "outputs": []
    },
    {
      "cell_type": "code",
      "metadata": {
        "colab": {
          "base_uri": "https://localhost:8080/"
        },
        "id": "d1fKyMp0Tlc5",
        "outputId": "0214998e-b70a-4266-91f6-d5acbe65bd60"
      },
      "source": [
        "class Person:\n",
        "  country=\"India\"\n",
        "  def __init__(self):\n",
        "    print(\"Initializing Person...\\n\")\n",
        "  def takeBreath(self):\n",
        "    print(\"I am breathing\")\n",
        "class Employee(Person):\n",
        "  company=\"honda\"\n",
        "  def __init__(self):\n",
        "    super().__init__()\n",
        "    print(\"Initializing Employee...\\n\")\n",
        "  def getSalary(self):\n",
        "    print(f\"Salary is {self.salary}\")\n",
        "  def takeBreath(self):\n",
        "    super().takeBreath()\n",
        "    print(\"I am a Employee so I am luckily breathing\")\n",
        "class Programmer(Employee):\n",
        "  def __init__(self):\n",
        "    # super().__init__()\n",
        "    print(\"Initializing Programmer...\\n\")\n",
        "  company=\"Fiverr\"\n",
        "  def getSalary(self):\n",
        "    print(f\"No salary to programmers\")\n",
        "  def takeBreath(self):\n",
        "    super().takeBreath()\n",
        "    print(\"I am a programmer so I am breathing++\")\n",
        "# p=Person()\n",
        "# p.takeBreath()\n",
        "\n",
        "# e=Employee()\n",
        "# e.takeBreath()\n",
        "\n",
        "pr=Programmer()\n",
        "# pr.takeBreath()"
      ],
      "execution_count": null,
      "outputs": [
        {
          "output_type": "stream",
          "text": [
            "Initializing Programmer...\n",
            "\n"
          ],
          "name": "stdout"
        }
      ]
    },
    {
      "cell_type": "markdown",
      "metadata": {
        "id": "_bL8ukoc6rDJ"
      },
      "source": [
        "By using the super() function, you do not have to use the name of the parent element, it will automatically inherit the methods and properties from its parent.\n",
        "\n"
      ]
    },
    {
      "cell_type": "markdown",
      "metadata": {
        "id": "OmI-km4p6uH9"
      },
      "source": [
        "## Add Properties"
      ]
    },
    {
      "cell_type": "code",
      "metadata": {
        "id": "IyV-64uu6jTo"
      },
      "source": [
        "#Add a property called graduationyear to the Student class:\n",
        "\n",
        "class Student(Person):\n",
        "  def __init__(self, fname, lname):\n",
        "    super().__init__(fname, lname)\n",
        "    self.graduationyear = 2019\n"
      ],
      "execution_count": null,
      "outputs": []
    },
    {
      "cell_type": "markdown",
      "metadata": {
        "id": "XE-lZEOL69U6"
      },
      "source": [
        "In the example below, the year 2019 should be a variable, and passed into the Student class when creating student objects. To do so, add another parameter in the `__init__()` function:"
      ]
    },
    {
      "cell_type": "code",
      "metadata": {
        "colab": {
          "base_uri": "https://localhost:8080/"
        },
        "id": "MtBW421Q65_G",
        "outputId": "8a4f886d-d1dc-4a4a-c148-6e16cffba94b"
      },
      "source": [
        "class Student(Person):\n",
        "  def __init__(self, fname, lname, year):\n",
        "    super().__init__(fname, lname)\n",
        "    self.graduationyear = year\n",
        "\n",
        "x = Student(\"Mike\", \"Olsen\", 2019)\n",
        "print(x.graduationyear)"
      ],
      "execution_count": null,
      "outputs": [
        {
          "output_type": "stream",
          "text": [
            "2019\n"
          ],
          "name": "stdout"
        }
      ]
    },
    {
      "cell_type": "markdown",
      "metadata": {
        "id": "Zh7PZ6Je7Xzu"
      },
      "source": [
        "## Add Methods"
      ]
    },
    {
      "cell_type": "markdown",
      "metadata": {
        "id": "dBMcEfPQ7cpJ"
      },
      "source": [
        "Add a method called welcome to the Student class:"
      ]
    },
    {
      "cell_type": "code",
      "metadata": {
        "colab": {
          "base_uri": "https://localhost:8080/"
        },
        "id": "-RDRYN3Q7G6P",
        "outputId": "a30c7825-568f-4e53-a11b-e224aab8bfda"
      },
      "source": [
        "class Student(Person):\n",
        "  def __init__(self, fname, lname, year):\n",
        "    super().__init__(fname, lname)\n",
        "    self.graduationyear = year\n",
        "\n",
        "  def welcome(self):\n",
        "    print(\"Welcome\", self.firstname, self.lastname, \"to the class of\", self.graduationyear)\n",
        "x = Student(\"Mike\", \"Olsen\", 2019)\n",
        "x.welcome()"
      ],
      "execution_count": null,
      "outputs": [
        {
          "output_type": "stream",
          "text": [
            "Welcome Mike Olsen to the class of 2019\n"
          ],
          "name": "stdout"
        }
      ]
    },
    {
      "cell_type": "markdown",
      "metadata": {
        "id": "28HAtjMF7zmF"
      },
      "source": [
        "If you add a method in the child class with the same name as a function in the parent class, the inheritance of the parent method will be overridden."
      ]
    },
    {
      "cell_type": "markdown",
      "metadata": {
        "id": "bM3SYzXkFjHo"
      },
      "source": [
        "## Type of Inheritance:\n",
        "There are 3 types of inheritance in python as follows:\n",
        "1. Single inheritance\n",
        "2. Multiple inheritance\n",
        "3. Multilevel inheritance \n"
      ]
    },
    {
      "cell_type": "markdown",
      "metadata": {
        "id": "4ZSL7qBHF_oT"
      },
      "source": [
        "## Single Inheritance\n",
        "Single inheritance occurs when child class inherits only a single parent class . \n",
        "\n",
        "![single-inheritance](https://user-images.githubusercontent.com/72285021/120967743-815f0d00-c785-11eb-9c2b-7fc54ef975a5.png)\n",
        "\n"
      ]
    },
    {
      "cell_type": "code",
      "metadata": {
        "colab": {
          "base_uri": "https://localhost:8080/"
        },
        "id": "8wVyPWMWI_SG",
        "outputId": "ef67d399-e8f5-44a3-9cf3-9749e1e3b166"
      },
      "source": [
        "class Employee:\n",
        "  company=\"Google\"\n",
        "  def showDetails(self):\n",
        "    print(\"This is an employee\")\n",
        "class Programmer(Employee):\n",
        "  language=\"Python\"\n",
        "  #company=\"youtube\"\n",
        "  def getLanguage(self):\n",
        "    print(f\"The language is {self.language}\")\n",
        "  def showDetails(self):\n",
        "    print(\"This is an programmer\")\n",
        "e=Employee()\n",
        "e.showDetails()\n",
        "p=Programmer()\n",
        "p.showDetails()\n",
        "print(p.company)\n"
      ],
      "execution_count": null,
      "outputs": [
        {
          "output_type": "stream",
          "text": [
            "This is an employee\n",
            "This is an programmer\n",
            "Google\n"
          ],
          "name": "stdout"
        }
      ]
    },
    {
      "cell_type": "markdown",
      "metadata": {
        "id": "V2X5odmNG0S-"
      },
      "source": [
        "## Multiple inheritance \n",
        "Multiple inheritance occurs when child class inherits only a single parent class .\n",
        "\n",
        "\n",
        "![download](https://user-images.githubusercontent.com/72285021/120967985-ddc22c80-c785-11eb-9417-a13729291143.png)\n"
      ]
    },
    {
      "cell_type": "code",
      "metadata": {
        "colab": {
          "base_uri": "https://localhost:8080/"
        },
        "id": "uuSMiXsXMe5A",
        "outputId": "8568f36a-0cd5-4f09-a007-1714e7affb05"
      },
      "source": [
        "class Employee:\n",
        "  company=\"Visa\"\n",
        "  eCode=120\n",
        "class Freelancer:\n",
        "  company=\"Fiverr\"\n",
        "  level=0\n",
        "  def upgradeLevel(self):\n",
        "    self.level=self.level+1\n",
        "class Programmer(Employee,Freelancer):\n",
        "  name=\"Rohit\"\n",
        "p=Programmer()\n",
        "p.upgradeLevel()\n",
        "print(p.level)\n",
        "print(p.company)"
      ],
      "execution_count": null,
      "outputs": [
        {
          "output_type": "stream",
          "text": [
            "1\n",
            "Visa\n"
          ],
          "name": "stdout"
        }
      ]
    },
    {
      "cell_type": "markdown",
      "metadata": {
        "id": "FBLcygyrHTwd"
      },
      "source": [
        "## Multilevel inheritance:\n",
        "When a child class become a parent for another child class . \n",
        "\n",
        "![download (1)](https://user-images.githubusercontent.com/72285021/120968212-31cd1100-c786-11eb-9371-89a50d65e355.png)\n"
      ]
    },
    {
      "cell_type": "code",
      "metadata": {
        "colab": {
          "base_uri": "https://localhost:8080/"
        },
        "id": "AqBhHDOcGwS-",
        "outputId": "0317d4cf-cb6a-4f26-c5ac-10ca0fd020da"
      },
      "source": [
        "class Person:\n",
        "  country=\"India\"\n",
        "  def takeBreath(self):\n",
        "    print(\"I am breathing\")\n",
        "class Employee(Person):\n",
        "  company=\"honda\"\n",
        "  def getSalary(self):\n",
        "    print(f\"Salary is {self.salary}\")\n",
        "  def takeBreath(self):\n",
        "    print(\"I am a Employee so I am luckily breathing\")\n",
        "class Programmer(Employee):\n",
        "  company=\"Fiverr\"\n",
        "  def getSalary(self):\n",
        "    print(f\"No salary to programmers\")\n",
        "  def takeBreath(self):\n",
        "    print(\"I am a programmer so I am breathing++\")\n",
        "p=Person()\n",
        "p.takeBreath()\n",
        "#print(p.company)#Throws an error \n",
        "e=Employee()\n",
        "e.takeBreath()\n",
        "print(e.company)\n",
        "pr=Programmer()\n",
        "pr.takeBreath()\n",
        "print(pr.company)\n",
        "print(pr.country)"
      ],
      "execution_count": null,
      "outputs": [
        {
          "output_type": "stream",
          "text": [
            "I am breathing\n",
            "I am a Employee so I am luckily breathing\n",
            "honda\n",
            "I am a programmer so I am breathing++\n",
            "Fiverr\n",
            "India\n"
          ],
          "name": "stdout"
        }
      ]
    },
    {
      "cell_type": "markdown",
      "metadata": {
        "id": "bZ1iolnkXkdM"
      },
      "source": [
        "## Class methods \n",
        "A class method is a method which is bound to the class and not the object of the class . \n",
        "\n",
        "`@classmethod` decorator is used to create a class method "
      ]
    },
    {
      "cell_type": "code",
      "metadata": {
        "colab": {
          "base_uri": "https://localhost:8080/"
        },
        "id": "C7Jgi9vuPMUf",
        "outputId": "2781d6d6-cecf-4777-96bc-211957240b88"
      },
      "source": [
        "class Employee:\n",
        "  company=\"camel\"\n",
        "  salary=100\n",
        "  location=\"Delhi\"\n",
        "  # def changeSalary(self,sal):\n",
        "  #   self.__class__.salary=sal \n",
        "  @classmethod\n",
        "  def changeSalary(cls,sal):\n",
        "    cls.salary=sal\n",
        "e=Employee()\n",
        "print(e.salary)\n",
        "e.changeSalary(455)\n",
        "print(e.salary)\n",
        "print(Employee.salary)"
      ],
      "execution_count": null,
      "outputs": [
        {
          "output_type": "stream",
          "text": [
            "100\n",
            "455\n",
            "455\n"
          ],
          "name": "stdout"
        }
      ]
    },
    {
      "cell_type": "markdown",
      "metadata": {
        "id": "GS84gpYZaUaO"
      },
      "source": [
        "## Property Decorators \n"
      ]
    },
    {
      "cell_type": "code",
      "metadata": {
        "colab": {
          "base_uri": "https://localhost:8080/"
        },
        "id": "G-WHwUSYZAAe",
        "outputId": "b40f1ea8-15d4-4606-dc39-95496b7221d4"
      },
      "source": [
        "class Employee:\n",
        "  company=\"Bharat Gas\"\n",
        "  salary=5600\n",
        "  salarybonus=400\n",
        "  # totalSalary=6100\n",
        "  @property\n",
        "  def totalSalary(self):\n",
        "    return self.salary+self.salarybonus\n",
        "  @totalSalary.setter\n",
        "  def totalSalary(self,val):\n",
        "    self.salarybonus=val-self.salary\n",
        "e=Employee()\n",
        "print(e.totalSalary)\n",
        "e.totalSalary=5800\n",
        "print(e.salary)\n",
        "print(e.salarybonus)\n"
      ],
      "execution_count": null,
      "outputs": [
        {
          "output_type": "stream",
          "text": [
            "6000\n",
            "5600\n",
            "200\n"
          ],
          "name": "stdout"
        }
      ]
    },
    {
      "cell_type": "markdown",
      "metadata": {
        "id": "HwnsyxXydAkL"
      },
      "source": [
        "## Operator overloading in python\n",
        "operators in python can be overloaded using dunder methods.\n",
        "\n",
        "These methods are called when a giving operator is used on the objects. \n"
      ]
    },
    {
      "cell_type": "code",
      "metadata": {
        "colab": {
          "base_uri": "https://localhost:8080/"
        },
        "id": "WJ7FkTLYdmBt",
        "outputId": "8ec9448c-bd46-4000-b1a6-269053ae679b"
      },
      "source": [
        "class Number:\n",
        "  def __init__(self,num):\n",
        "    self.num=num\n",
        "  def __add__(self,num2):\n",
        "    print(\"Lets add\")\n",
        "    return self.num+num2.num\n",
        "  def __mul__(self,num2):\n",
        "    print(\"Lets Multiply\")\n",
        "    return self.num*num2.num\n",
        "n1=Number(4)\n",
        "n2=Number(6)\n",
        "mul=n1*n2\n",
        "sum=n1+n2\n",
        "print(sum)\n",
        "print(mul)"
      ],
      "execution_count": null,
      "outputs": [
        {
          "output_type": "stream",
          "text": [
            "Lets Multiply\n",
            "Lets add\n",
            "10\n",
            "24\n"
          ],
          "name": "stdout"
        }
      ]
    }
  ]
}